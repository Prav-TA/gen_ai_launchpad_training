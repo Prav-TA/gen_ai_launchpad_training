{
 "cells": [
  {
   "cell_type": "code",
   "execution_count": null,
   "id": "69a6adb0",
   "metadata": {},
   "outputs": [
    {
     "name": "stderr",
     "output_type": "stream",
     "text": [
      "USER_AGENT environment variable not set, consider setting it to identify your requests.\n"
     ]
    }
   ],
   "source": [
    "import getpass\n",
    "import os\n",
    "from typing import List, Literal, TypedDict\n",
    "import bs4\n",
    "from IPython.display import Image, display\n",
    "from langchain import hub\n",
    "from langchain.chat_models import init_chat_model\n",
    "from langchain_community.document_loaders import WebBaseLoader\n",
    "from langchain_core.documents import Document\n",
    "from langchain_core.messages import HumanMessage, SystemMessage\n",
    "from langchain_core.tools import tool\n",
    "from langchain_core.vectorstores import InMemoryVectorStore\n",
    "from langchain_nvidia_ai_endpoints import NVIDIAEmbeddings\n",
    "from langchain_text_splitters import RecursiveCharacterTextSplitter\n",
    "from langgraph.checkpoint.memory import MemorySaver\n",
    "from langgraph.graph import START, END, MessagesState, StateGraph\n",
    "from langgraph.prebuilt import ToolNode, create_react_agent, tools_condition\n",
    "from IPython.display import Image, display\n",
    "from pydantic import BaseModel, Field\n",
    "from typing_extensions import List, TypedDict\n",
    "import warnings\n",
    "\n",
    "warnings.filterwarnings(\"ignore\")"
   ]
  },
  {
   "cell_type": "markdown",
   "id": "bd62ba99",
   "metadata": {},
   "source": [
    "#### Part -1 : Build a Retrieval Augmented Generation (RAG) App"
   ]
  },
  {
   "cell_type": "code",
   "execution_count": null,
   "id": "574ee40c",
   "metadata": {},
   "outputs": [],
   "source": [
    "os.environ[\"LANGSMITH_TRACING\"] = \"true\"\n",
    "os.environ[\"LANGSMITH_API_KEY\"] = getpass.getpass()"
   ]
  },
  {
   "cell_type": "markdown",
   "id": "55dae604",
   "metadata": {},
   "source": [
    "#### Components"
   ]
  },
  {
   "cell_type": "markdown",
   "id": "93350ccb",
   "metadata": {},
   "source": [
    "##### Chat model : NVIDIA"
   ]
  },
  {
   "cell_type": "code",
   "execution_count": 3,
   "id": "13e2d4ce",
   "metadata": {},
   "outputs": [],
   "source": [
    "if not os.environ.get(\"NVIDIA_API_KEY\"):\n",
    "    os.environ[\"NVIDIA_API_KEY\"] = getpass.getpass(\"Enter API key for NVIDIA:\")"
   ]
  },
  {
   "cell_type": "code",
   "execution_count": 4,
   "id": "c1eb4c85",
   "metadata": {},
   "outputs": [],
   "source": [
    "llm = init_chat_model(\"meta/llama3-70b-instruct\", model_provider=\"nvidia\")"
   ]
  },
  {
   "cell_type": "markdown",
   "id": "a6035f76",
   "metadata": {},
   "source": [
    "##### Embedding model : NVIDIA"
   ]
  },
  {
   "cell_type": "code",
   "execution_count": 5,
   "id": "3aaf3062",
   "metadata": {},
   "outputs": [],
   "source": [
    "if not os.environ.get(\"NVIDIA_API_KEY\"):\n",
    "    os.environ[\"NVIDIA_API_KEY\"] = getpass.getpass(\"Enter API key for NVIDIA: \")"
   ]
  },
  {
   "cell_type": "code",
   "execution_count": 6,
   "id": "b350d72d",
   "metadata": {},
   "outputs": [],
   "source": [
    "embeddings = NVIDIAEmbeddings(model=\"NV-Embed-QA\")"
   ]
  },
  {
   "cell_type": "markdown",
   "id": "f30a261c",
   "metadata": {},
   "source": [
    "##### Vector Store : InMemory"
   ]
  },
  {
   "cell_type": "code",
   "execution_count": 7,
   "id": "f88079a7",
   "metadata": {},
   "outputs": [],
   "source": [
    "vector_store = InMemoryVectorStore(embeddings)"
   ]
  },
  {
   "cell_type": "markdown",
   "id": "0b166a7a",
   "metadata": {},
   "source": [
    "##### RAG chain pipeline with query analysis using langGraph"
   ]
  },
  {
   "cell_type": "code",
   "execution_count": null,
   "id": "d127574b",
   "metadata": {},
   "outputs": [
    {
     "name": "stdout",
     "output_type": "stream",
     "text": [
      "Total_characters: 43130\n",
      "Split the blog post into 66 chunks\n",
      "Total chunks indexed & added to the vector store: 66\n"
     ]
    },
    {
     "data": {
      "image/png": "[encoded data removed]",
      "text/plain": [
       "<IPython.core.display.Image object>"
      ]
     },
     "metadata": {},
     "output_type": "display_data"
    },
    {
     "name": "stdout",
     "output_type": "stream",
     "text": [
      "Response: Task decomposition is the process of breaking down a complex task into smaller, simpler steps. This involves transforming big tasks into multiple manageable tasks, making it easier to understand and execute the task. It can be achieved through various methods, including chain of thought, tree of thoughts, and simple prompting techniques.\n",
      "{'analyze_query': {'query': Search(query='Task Decomposition', section='beginning')}}\n",
      "\n",
      "----------------\n",
      "\n",
      "{'retrieve': {'context': [Document(id='a6b51b39-50bd-47ae-a49f-a2fae4c16e3f', metadata={'source': 'https://lilianweng.github.io/posts/2023-06-23-agent/', 'start_index': 1585, 'section': 'beginning'}, page_content='Fig. 1. Overview of a LLM-powered autonomous agent system.\\nComponent One: Planning#\\nA complicated task usually involves many steps. An agent needs to know what they are and plan ahead.\\nTask Decomposition#\\nChain of thought (CoT; Wei et al. 2022) has become a standard prompting technique for enhancing model performance on complex tasks. The model is instructed to “think step by step” to utilize more test-time computation to decompose hard tasks into smaller and simpler steps. CoT transforms big tasks into multiple manageable tasks and shed lights into an interpretation of the model’s thinking process.'), Document(id='81d59650-3a14-4666-9c0a-f10fdefbe506', metadata={'source': 'https://lilianweng.github.io/posts/2023-06-23-agent/', 'start_index': 1585, 'section': 'beginning'}, page_content='Fig. 1. Overview of a LLM-powered autonomous agent system.\\nComponent One: Planning#\\nA complicated task usually involves many steps. An agent needs to know what they are and plan ahead.\\nTask Decomposition#\\nChain of thought (CoT; Wei et al. 2022) has become a standard prompting technique for enhancing model performance on complex tasks. The model is instructed to “think step by step” to utilize more test-time computation to decompose hard tasks into smaller and simpler steps. CoT transforms big tasks into multiple manageable tasks and shed lights into an interpretation of the model’s thinking process.'), Document(id='04d6f760-2e94-45f1-84b7-5aad27f72eb1', metadata={'source': 'https://lilianweng.github.io/posts/2023-06-23-agent/', 'start_index': 2192, 'section': 'beginning'}, page_content='Tree of Thoughts (Yao et al. 2023) extends CoT by exploring multiple reasoning possibilities at each step. It first decomposes the problem into multiple thought steps and generates multiple thoughts per step, creating a tree structure. The search process can be BFS (breadth-first search) or DFS (depth-first search) with each state evaluated by a classifier (via a prompt) or majority vote.\\nTask decomposition can be done (1) by LLM with simple prompting like \"Steps for XYZ.\\\\n1.\", \"What are the subgoals for achieving XYZ?\", (2) by using task-specific instructions; e.g. \"Write a story outline.\" for writing a novel, or (3) with human inputs.'), Document(id='d0b4895b-fd16-4873-9ba4-7eadca5bddb3', metadata={'source': 'https://lilianweng.github.io/posts/2023-06-23-agent/', 'start_index': 2192, 'section': 'beginning'}, page_content='Tree of Thoughts (Yao et al. 2023) extends CoT by exploring multiple reasoning possibilities at each step. It first decomposes the problem into multiple thought steps and generates multiple thoughts per step, creating a tree structure. The search process can be BFS (breadth-first search) or DFS (depth-first search) with each state evaluated by a classifier (via a prompt) or majority vote.\\nTask decomposition can be done (1) by LLM with simple prompting like \"Steps for XYZ.\\\\n1.\", \"What are the subgoals for achieving XYZ?\", (2) by using task-specific instructions; e.g. \"Write a story outline.\" for writing a novel, or (3) with human inputs.')]}}\n",
      "\n",
      "----------------\n",
      "\n",
      "{'generate': {'answer': 'Task decomposition is the process of breaking down a complex task into smaller, simpler steps. It involves transforming big tasks into multiple manageable tasks, making it easier to understand and execute the task. This can be achieved through various methods, including chain of thought, tree of thoughts, and simple prompting.'}}\n",
      "\n",
      "----------------\n",
      "\n"
     ]
    }
   ],
   "source": [
    "# Load the blog post using WebBaseLoader\n",
    "bs4_strainer = bs4.SoupStrainer(class_=(\"post-content\", \"post-title\", \"post-header\"))\n",
    "loader = WebBaseLoader(\n",
    "    web_paths=(\"https://lilianweng.github.io/posts/2023-06-23-agent/\",),\n",
    "    bs_kwargs={\"parse_only\": bs4_strainer},\n",
    ")\n",
    "docs = loader.load()\n",
    "assert len(docs) == 1\n",
    "print(f\"Total_characters: {len(docs[0].page_content)}\")\n",
    "\n",
    "# Split the blog post into chunks\n",
    "text_splitter = RecursiveCharacterTextSplitter(\n",
    "    chunk_size=1000, chunk_overlap=200, add_start_index=True\n",
    ")\n",
    "all_splits = text_splitter.split_documents(docs)\n",
    "print(f\"Split the blog post into {len(all_splits)} chunks\")\n",
    "\n",
    "# Add metadata to each chunk\n",
    "total_documents = len(all_splits)\n",
    "third = total_documents // 3\n",
    "\n",
    "for idx, doc in enumerate(all_splits):\n",
    "    if idx < third:\n",
    "        doc.metadata[\"section\"] = \"beginning\"\n",
    "    elif idx < third * 2:\n",
    "        doc.metadata[\"section\"] = \"middle\"\n",
    "    else:\n",
    "        doc.metadata[\"section\"] = \"end\"\n",
    "\n",
    "# Add the chunks to the vector store\n",
    "document_ids = vector_store.add_documents(all_splits)\n",
    "print(\"Total chunks indexed & added to the vector store:\", len(document_ids))\n",
    "\n",
    "\n",
    "# Define search schema\n",
    "class Search(BaseModel):\n",
    "    query: str = Field(..., description=\"Search query to run.\")\n",
    "    section: Literal[\"beginning\", \"middle\", \"end\"] = Field(\n",
    "        ..., description=\"Section to query.\"\n",
    "    )  # Field(...) says this is a required field # Literal is a type alias that represents a fixed set of values\n",
    "\n",
    "\n",
    "# Define prompt for question-answering\n",
    "prompt = hub.pull(\"rlm/rag-prompt\")\n",
    "\n",
    "\n",
    "# Define state\n",
    "class State(TypedDict):\n",
    "    question: str\n",
    "    query: Search\n",
    "    context: List[Document]\n",
    "    answer: str\n",
    "\n",
    "\n",
    "# Define analyze_query node\n",
    "def analyze_query(state: State):\n",
    "\n",
    "    # Custom prompt for structured query extraction\n",
    "    system_msg = (\n",
    "        \"You are a helpful assistant that extracts structured data from questions. \"\n",
    "        \"Given a user's question, extract the search query and whether the answer should be \"\n",
    "        \"from the beginning, middle, or end of a document. \"\n",
    "        \"Respond strictly in this JSON format:\\n\"\n",
    "        '{ \"query\": \"<search terms>\", \"section\": \"beginning|middle|end\" }'\n",
    "    )\n",
    "\n",
    "    messages = [\n",
    "        SystemMessage(content=system_msg),\n",
    "        HumanMessage(content=state[\"question\"]),\n",
    "    ]\n",
    "\n",
    "    # Now bind the LLM with only the schema (not a prompt)\n",
    "    structured_llm = llm.with_structured_output(schema=Search)\n",
    "    query = structured_llm.invoke(messages)\n",
    "    return {\"query\": query}\n",
    "\n",
    "\n",
    "# Define retrieve node\n",
    "def retrieve(state: State):\n",
    "    query = state[\"query\"]\n",
    "    retrieved_docs = vector_store.similarity_search(\n",
    "        query.query,\n",
    "        filter=lambda doc: doc.metadata.get(\"section\") == query.section,\n",
    "    )\n",
    "    return {\"context\": retrieved_docs}\n",
    "\n",
    "\n",
    "# Define generate node\n",
    "def generate(state: State):\n",
    "    docs_content = \"\\n\\n\".join(doc.page_content for doc in state[\"context\"])\n",
    "    messages = prompt.invoke({\"question\": state[\"question\"], \"context\": docs_content})\n",
    "    response = llm.invoke(messages)\n",
    "    return {\"answer\": response.content}\n",
    "\n",
    "\n",
    "# Build LangGraph\n",
    "graph_builder = StateGraph(State).add_sequence([analyze_query, retrieve, generate])\n",
    "graph_builder.add_edge(START, \"analyze_query\")\n",
    "graph = graph_builder.compile()\n",
    "\n",
    "display(Image(graph.get_graph().draw_mermaid_png()))\n",
    "\n",
    "# Run the graph\n",
    "response = graph.invoke({\"question\": \"What is Task Decomposition?\"})\n",
    "print(\"Response:\", response[\"answer\"])\n",
    "\n",
    "\n",
    "# Graph stream in steps\n",
    "for step in graph.stream(\n",
    "    {\"question\": \"What is Task Decomposition?\"},\n",
    "    stream_mode=\"updates\",\n",
    "):\n",
    "    print(f\"{step}\\n\\n----------------\\n\")"
   ]
  },
  {
   "cell_type": "markdown",
   "id": "feaf7842",
   "metadata": {},
   "source": [
    "##### Other qns and responses"
   ]
  },
  {
   "cell_type": "code",
   "execution_count": 10,
   "id": "94444b47",
   "metadata": {},
   "outputs": [
    {
     "name": "stdout",
     "output_type": "stream",
     "text": [
      "Response: Lilian Weng is the author of the article about LLM Powered Autonomous Agents.\n"
     ]
    }
   ],
   "source": [
    "response = graph.invoke({\"question\": \"Who is Lilian Weng?\"})\n",
    "print(\"Response:\", response[\"answer\"])"
   ]
  },
  {
   "cell_type": "code",
   "execution_count": 11,
   "id": "003fe052",
   "metadata": {},
   "outputs": [
    {
     "name": "stdout",
     "output_type": "stream",
     "text": [
      "Response: I don't know. The provided context does not mention the current prime minister of India.\n"
     ]
    }
   ],
   "source": [
    "response = graph.invoke({\"question\": \"Who is the current prime minister of India?\"})\n",
    "print(\"Response:\", response[\"answer\"])"
   ]
  },
  {
   "cell_type": "code",
   "execution_count": 12,
   "id": "227368e7",
   "metadata": {},
   "outputs": [
    {
     "name": "stdout",
     "output_type": "stream",
     "text": [
      "Response: I don't know what LangSmith is, as it is not mentioned in the provided context.\n"
     ]
    }
   ],
   "source": [
    "response = graph.invoke({\"question\": \"What is LangSmith?\"})\n",
    "print(\"Response:\", response[\"answer\"])"
   ]
  },
  {
   "cell_type": "code",
   "execution_count": 13,
   "id": "9a6e0dbd",
   "metadata": {},
   "outputs": [
    {
     "name": "stdout",
     "output_type": "stream",
     "text": [
      "Response1: Task decomposition is the process of breaking down a complex task into smaller, simpler steps. This involves transforming big tasks into multiple manageable tasks, making it easier to understand and execute the task. It can be achieved through various methods, including chain of thought, tree of thoughts, and simple prompting.\n",
      "Response2: The term \"generative agent architecture\" is mostly used in the context of artificial intelligence and autonomous agents, particularly in reference to AutoGPT and LLM (Large Language Models). It is used to describe a system architecture that enables agents to make decisions independently and pursue simple strategies without legal complications.\n"
     ]
    }
   ],
   "source": [
    "response1 = graph.invoke({\"question\": \"What is Task Decomposition?\"})\n",
    "response2 = graph.invoke({\"question\": \"Where this term is mostly used?\"})\n",
    "print(\"Response1:\", response1[\"answer\"])\n",
    "print(\"Response2:\", response2[\"answer\"])"
   ]
  },
  {
   "cell_type": "markdown",
   "id": "1bcd2f08",
   "metadata": {},
   "source": [
    "* Here, Response 2 is bad because the context memory is not stored so the app fails to talk about the previous context"
   ]
  },
  {
   "cell_type": "markdown",
   "id": "2d73dfdf",
   "metadata": {},
   "source": [
    "#### Part -2 : Build a Retrieval Augmented Generation (RAG) App"
   ]
  },
  {
   "cell_type": "markdown",
   "id": "c47bb07c",
   "metadata": {},
   "source": [
    "##### Chains"
   ]
  },
  {
   "cell_type": "code",
   "execution_count": null,
   "id": "12ef45fd",
   "metadata": {},
   "outputs": [],
   "source": [
    "os.environ[\"LANGSMITH_TRACING\"] = \"true\"\n",
    "if os.environ.get(\"LANGSMITH_API_KEY\"):\n",
    "    os.environ[\"LANGSMITH_API_KEY\"] = getpass.getpass()"
   ]
  },
  {
   "cell_type": "code",
   "execution_count": null,
   "id": "fa361477",
   "metadata": {},
   "outputs": [],
   "source": [
    "graph_builder = StateGraph(MessagesState)\n",
    "\n",
    "\n",
    "@tool(response_format=\"content_and_artifact\")\n",
    "def retrieve(query: str):\n",
    "    \"\"\"Retrieve information related to a query.\"\"\"\n",
    "\n",
    "    # Perform similarity search and finds the top 2 relevant chunks\n",
    "    retrieved_docs = vector_store.similarity_search(query, k=2)\n",
    "\n",
    "    # Converts the retrieved chunks into a string to sent to the LLM\n",
    "    serialized = \"\\n\\n\".join(\n",
    "        (f\"Source: {doc.metadata}\\n\" f\"Content: {doc.page_content}\")\n",
    "        for doc in retrieved_docs\n",
    "    )\n",
    "\n",
    "    # Returns: String version of the retrieved content and raw documents\n",
    "    return serialized, retrieved_docs"
   ]
  },
  {
   "cell_type": "code",
   "execution_count": 16,
   "id": "82ccf500",
   "metadata": {},
   "outputs": [],
   "source": [
    "# LangGraph Node 1: query_or_respond\n",
    "def query_or_respond(state: MessagesState):\n",
    "    \"\"\"Generate tool call for retrieval or respond.\"\"\"\n",
    "    llm_with_tools = llm.bind_tools([retrieve])\n",
    "    response = llm_with_tools.invoke(state[\"messages\"])\n",
    "    # Appends the response to the overall chat history in the MessagesState\n",
    "    return {\"messages\": [response]}\n",
    "\n",
    "\n",
    "# LangGraph Node 2: ToolNode\n",
    "# Graph executes this node when LLM decides to call the retrieve tool\n",
    "tools = ToolNode([retrieve])\n",
    "\n",
    "\n",
    "# LangGraph Node 3: Generate Node\n",
    "def generate(state: MessagesState):\n",
    "    \"\"\"Generate answer.\"\"\"\n",
    "\n",
    "    recent_tool_messages = []\n",
    "\n",
    "    for message in reversed(state[\"messages\"]):\n",
    "        if message.type == \"tool\":\n",
    "            recent_tool_messages.append(message)\n",
    "        else:\n",
    "            break\n",
    "\n",
    "    tool_messages = recent_tool_messages[::-1]\n",
    "\n",
    "    # Joins the ToolMessages into a single big context blob\n",
    "\n",
    "    docs_content = \"\\n\\n\".join(doc.content for doc in tool_messages)\n",
    "\n",
    "    # Build a system message - This acts like a prompt template to the LLM\n",
    "    system_message_content = (\n",
    "        \"You are an assistant for question-answering tasks. \"\n",
    "        \"Use the following pieces of retrieved context to answer \"\n",
    "        \"the question. If you don't know the answer, say that you \"\n",
    "        \"don't know. Use three sentences maximum and keep the \"\n",
    "        \"answer concise.\"\n",
    "        \"\\n\\n\"\n",
    "        f\"{docs_content}\"\n",
    "    )\n",
    "\n",
    "    # Filters the messages that will be passed to LLM\n",
    "    conversation_messages = [\n",
    "        message\n",
    "        for message in state[\"messages\"]\n",
    "        if (message.type in (\"human\", \"system\"))\n",
    "        or (message.type == \"ai\" and not message.tool_calls)\n",
    "    ]\n",
    "\n",
    "    # Builds the full prompt for the LLM\n",
    "    prompt = [SystemMessage(system_message_content)] + conversation_messages\n",
    "    response = llm.invoke(prompt)\n",
    "\n",
    "    # APpends the answer to the chat state\n",
    "    return {\"messages\": [response]}"
   ]
  },
  {
   "cell_type": "code",
   "execution_count": 17,
   "id": "3fb82d93",
   "metadata": {},
   "outputs": [
    {
     "data": {
      "image/png": "[encoded data removed]",
      "text/plain": [
       "<IPython.core.display.Image object>"
      ]
     },
     "metadata": {},
     "output_type": "display_data"
    }
   ],
   "source": [
    "graph_builder.add_node(query_or_respond)\n",
    "graph_builder.add_node(tools)\n",
    "graph_builder.add_node(generate)\n",
    "\n",
    "graph_builder.set_entry_point(\n",
    "    \"query_or_respond\"\n",
    ")  # This defines where the message starts.\n",
    "\n",
    "graph_builder.add_conditional_edges(\n",
    "    \"query_or_respond\",\n",
    "    tools_condition,\n",
    "    {END: END, \"tools\": \"tools\"},\n",
    ")\n",
    "\n",
    "graph_builder.add_edge(\"tools\", \"generate\")\n",
    "graph_builder.add_edge(\"generate\", END)\n",
    "\n",
    "# Compiles the graph\n",
    "graph = graph_builder.compile()\n",
    "\n",
    "display(Image(graph.get_graph().draw_mermaid_png()))"
   ]
  },
  {
   "cell_type": "code",
   "execution_count": 18,
   "id": "515e5470",
   "metadata": {},
   "outputs": [
    {
     "name": "stdout",
     "output_type": "stream",
     "text": [
      "================================\u001b[1m Human Message \u001b[0m=================================\n",
      "\n",
      "Hello\n",
      "{'messages': [HumanMessage(content='Hello', additional_kwargs={}, response_metadata={}, id='81485703-3d14-40ff-9d81-b38c42ff16fa')]}\n",
      "\n",
      "----------------\n",
      "\n",
      "==================================\u001b[1m Ai Message \u001b[0m==================================\n",
      "\n",
      "Hello! It's nice to meet you. Is there something I can help you with, or would you like to chat?\n",
      "{'messages': [HumanMessage(content='Hello', additional_kwargs={}, response_metadata={}, id='81485703-3d14-40ff-9d81-b38c42ff16fa'), AIMessage(content=\"Hello! It's nice to meet you. Is there something I can help you with, or would you like to chat?\", additional_kwargs={}, response_metadata={'role': 'assistant', 'content': \"Hello! It's nice to meet you. Is there something I can help you with, or would you like to chat?\", 'token_usage': {'prompt_tokens': 11, 'total_tokens': 37, 'completion_tokens': 26}, 'finish_reason': 'stop', 'model_name': 'meta/llama3-70b-instruct'}, id='run-7befda9e-b843-4109-a9d4-152e9b038130-0', usage_metadata={'input_tokens': 11, 'output_tokens': 26, 'total_tokens': 37}, role='assistant')]}\n",
      "\n",
      "----------------\n",
      "\n"
     ]
    }
   ],
   "source": [
    "# Testing - Case 1:\n",
    "\n",
    "input_message = \"Hello\"\n",
    "\n",
    "for step in graph.stream(\n",
    "    {\"messages\": [{\"role\": \"user\", \"content\": input_message}]},\n",
    "    stream_mode=\"values\",\n",
    "):\n",
    "    step[\"messages\"][-1].pretty_print()\n",
    "    print(f\"{step}\\n\\n----------------\\n\")"
   ]
  },
  {
   "cell_type": "code",
   "execution_count": 19,
   "id": "b5a962a7",
   "metadata": {},
   "outputs": [
    {
     "name": "stdout",
     "output_type": "stream",
     "text": [
      "================================\u001b[1m Human Message \u001b[0m=================================\n",
      "\n",
      "What is Task Decomposition in short?\n",
      "{'messages': [HumanMessage(content='What is Task Decomposition in short?', additional_kwargs={}, response_metadata={}, id='c7114bf1-15f7-4e2a-8054-2f1821cd5a74')]}\n",
      "\n",
      "----------------\n",
      "\n",
      "==================================\u001b[1m Ai Message \u001b[0m==================================\n",
      "\n",
      "Task Decomposition is a process of breaking down a large, complex task or project into smaller, more manageable and independent sub-tasks or components. This helps to simplify the task, make it easier to understand, and enable easier assignment, execution, and tracking of progress.\n",
      "{'messages': [HumanMessage(content='What is Task Decomposition in short?', additional_kwargs={}, response_metadata={}, id='c7114bf1-15f7-4e2a-8054-2f1821cd5a74'), AIMessage(content='Task Decomposition is a process of breaking down a large, complex task or project into smaller, more manageable and independent sub-tasks or components. This helps to simplify the task, make it easier to understand, and enable easier assignment, execution, and tracking of progress.', additional_kwargs={}, response_metadata={'role': 'assistant', 'content': 'Task Decomposition is a process of breaking down a large, complex task or project into smaller, more manageable and independent sub-tasks or components. This helps to simplify the task, make it easier to understand, and enable easier assignment, execution, and tracking of progress.', 'token_usage': {'prompt_tokens': 18, 'total_tokens': 73, 'completion_tokens': 55}, 'finish_reason': 'stop', 'model_name': 'meta/llama3-70b-instruct'}, id='run-004f182c-0e8f-452e-acf3-cddcee3ed423-0', usage_metadata={'input_tokens': 18, 'output_tokens': 55, 'total_tokens': 73}, role='assistant')]}\n",
      "\n",
      "----------------\n",
      "\n"
     ]
    }
   ],
   "source": [
    "# Testing - Case 2:\n",
    "input_message = \"What is Task Decomposition in short?\"\n",
    "\n",
    "for step in graph.stream(\n",
    "    {\"messages\": [{\"role\": \"user\", \"content\": input_message}]},\n",
    "    stream_mode=\"values\",\n",
    "):\n",
    "    step[\"messages\"][-1].pretty_print()\n",
    "    print(f\"{step}\\n\\n----------------\\n\")"
   ]
  },
  {
   "cell_type": "code",
   "execution_count": 20,
   "id": "9d6416bd",
   "metadata": {},
   "outputs": [
    {
     "data": {
      "image/png": "[encoded data removed]",
      "text/plain": [
       "<IPython.core.display.Image object>"
      ]
     },
     "metadata": {},
     "output_type": "display_data"
    }
   ],
   "source": [
    "# Memory Saver keeps the past messages in memory\n",
    "memory = MemorySaver()\n",
    "\n",
    "graph = graph_builder.compile(checkpointer=memory)\n",
    "\n",
    "display(Image(graph.get_graph().draw_mermaid_png()))\n",
    "# thread_id is a unique identifier for the thread\n",
    "config = {\"configurable\": {\"thread_id\": \"test\"}}"
   ]
  },
  {
   "cell_type": "code",
   "execution_count": 21,
   "id": "08be1876",
   "metadata": {},
   "outputs": [
    {
     "name": "stdout",
     "output_type": "stream",
     "text": [
      "================================\u001b[1m Human Message \u001b[0m=================================\n",
      "\n",
      "What is Task Decomposition in short?\n",
      "==================================\u001b[1m Ai Message \u001b[0m==================================\n",
      "\n",
      "Task Decomposition is a process of breaking down a large, complex task or project into smaller, more manageable and independent sub-tasks or components. This helps to simplify the task, make it easier to understand, and enable easier assignment, execution, and tracking of progress.\n"
     ]
    }
   ],
   "source": [
    "# Testing multi-turn memory\n",
    "input_message = \"What is Task Decomposition in short?\"\n",
    "\n",
    "for step in graph.stream(\n",
    "    {\"messages\": [{\"role\": \"user\", \"content\": input_message}]},\n",
    "    stream_mode=\"values\",\n",
    "    config=config,\n",
    "):\n",
    "    step[\"messages\"][-1].pretty_print()"
   ]
  },
  {
   "cell_type": "code",
   "execution_count": 22,
   "id": "a403ed2b",
   "metadata": {},
   "outputs": [
    {
     "name": "stdout",
     "output_type": "stream",
     "text": [
      "================================\u001b[1m Human Message \u001b[0m=================================\n",
      "\n",
      "Can you look up some common ways of doing it?\n",
      "==================================\u001b[1m Ai Message \u001b[0m==================================\n",
      "\n",
      "Here are some common ways to perform Task Decomposition:\n",
      "\n",
      "1. **Top-Down Approach**: Break down a high-level task into smaller sub-tasks, and then further sub-divide those sub-tasks until you reach actionable items.\n",
      "2. **Divide and Conquer**: Identify the key components of a task and break them down into smaller, independent tasks that can be worked on separately.\n",
      "3. **Create a Mind Map**: Visualize the task and its components by creating a mind map, which can help identify sub-tasks and relationships between them.\n",
      "4. **Ask \"What needs to be done?\"**: Identify the key objectives of the task and ask \"What needs to be done?\" to break it down into smaller sub-tasks.\n",
      "5. **Use a Hierarchical Approach**: Break down a task into categories, sub-categories, and eventually, actionable items.\n",
      "6. **Identify Key Activities**: Identify the key activities required to complete a task and break them down into smaller, manageable chunks.\n",
      "7. **Create a Work Breakdown Structure (WBS)**: Decompose a task into a hierarchical structure of deliverables, activities, and tasks.\n",
      "8. **Use a decomposition framework**: Use frameworks like S.M.A.R.T. (Specific, Measurable, Achievable, Relevant, Time-bound) or MoSCoW (Must-Haves, Should-Haves, Could-Haves, Won't-Haves) to guide the decomposition process.\n",
      "9. **Identify Tasks, duties, and Activities**: Break down a task into three levels: tasks (high-level), duties (mid-level), and activities (low-level) to create a clear hierarchy.\n",
      "10. **Collaborative Decomposition**: Involve team members or stakeholders in the decomposition process to ensure that everyone understands the task and its components.\n",
      "\n",
      "These are just a few common ways to perform Task Decomposition. The key is to find an approach that works best for your situation and team.\n"
     ]
    }
   ],
   "source": [
    "# Testing with a follow up question\n",
    "input_message = \"Can you look up some common ways of doing it?\"\n",
    "\n",
    "for step in graph.stream(\n",
    "    {\"messages\": [{\"role\": \"user\", \"content\": input_message}]},\n",
    "    stream_mode=\"values\",\n",
    "    config=config,\n",
    "):\n",
    "    step[\"messages\"][-1].pretty_print()"
   ]
  },
  {
   "cell_type": "markdown",
   "id": "a8f235e9",
   "metadata": {},
   "source": [
    "#### Agents"
   ]
  },
  {
   "cell_type": "code",
   "execution_count": 23,
   "id": "7a4c5585",
   "metadata": {},
   "outputs": [
    {
     "data": {
      "image/png": "[encoded data removed]",
      "text/plain": [
       "<IPython.core.display.Image object>"
      ]
     },
     "metadata": {},
     "output_type": "display_data"
    }
   ],
   "source": [
    "agent_executor = create_react_agent(llm, [retrieve], checkpointer=memory)\n",
    "display(Image(agent_executor.get_graph().draw_mermaid_png()))"
   ]
  },
  {
   "cell_type": "code",
   "execution_count": 24,
   "id": "c8deea33",
   "metadata": {},
   "outputs": [
    {
     "name": "stdout",
     "output_type": "stream",
     "text": [
      "================================\u001b[1m Human Message \u001b[0m=================================\n",
      "\n",
      "What is the standard method for Task Decomposition?\n",
      "\n",
      "Once you get the answer, look up common extensions of that method.\n",
      "{'messages': [HumanMessage(content='What is the standard method for Task Decomposition?\\n\\nOnce you get the answer, look up common extensions of that method.', additional_kwargs={}, response_metadata={}, id='c50b2591-a193-4819-9393-ce9ec2a42c0e')]}\n",
      "\n",
      "----------------\n",
      "\n",
      "==================================\u001b[1m Ai Message \u001b[0m==================================\n",
      "\n",
      "The standard method for Task Decomposition is called **Hierarchical Task Analysis (HTA)**. HTA is a widely used method for breaking down complex tasks into smaller, manageable sub-tasks. It involves identifying the overall goal of the task, and then recursively decomposing it into smaller tasks, sub-tasks, and ultimately, individual actions.\n",
      "\n",
      "Here's a high-level overview of the HTA process:\n",
      "\n",
      "1. Identify the overall goal or task\n",
      "2. Identify the main tasks that contribute to achieving the goal\n",
      "3. Decompose each main task into smaller sub-tasks\n",
      "4. Continue decomposing sub-tasks into even smaller tasks until individual actions are identified\n",
      "5. Represent the task hierarchy using a tree-like structure or a diagram\n",
      "\n",
      "Now, let's look at some common extensions of HTA:\n",
      "\n",
      "1. **GOMS (Goals, Operators, Methods, and Selection rules)**: An extension of HTA that adds additional layers of analysis, including identifying the user's goals, operators (actions), methods (procedures), and selection rules (decision-making criteria).\n",
      "2. **Task-Object-Oriented Design (TOOD)**: A methodology that combines HTA with object-oriented design principles to analyze and design user interfaces.\n",
      "3. **Cognitive Task Analysis (CTA)**: An extension of HTA that focuses on the cognitive aspects of task performance, including decision-making, problem-solving, and attention management.\n",
      "4. **Applied Cognitive Task Analysis (ACTA)**: A CTA-based approach that emphasizes the application of cognitive analysis to real-world tasks and systems.\n",
      "5. **Functional Analysis**: A method that extends HTA by analyzing the functional relationships between tasks, including inputs, processes, and outputs.\n",
      "6. **Event-Driven Process Chain (EPC)**: A business process modeling method that uses a hierarchical, event-driven approach to analyze and design business processes.\n",
      "\n",
      "These extensions and variants of HTA offer more nuanced and contextual approaches to task decomposition, depending on the specific goals and requirements of the analysis.\n",
      "{'messages': [HumanMessage(content='What is the standard method for Task Decomposition?\\n\\nOnce you get the answer, look up common extensions of that method.', additional_kwargs={}, response_metadata={}, id='c50b2591-a193-4819-9393-ce9ec2a42c0e'), AIMessage(content=\"The standard method for Task Decomposition is called **Hierarchical Task Analysis (HTA)**. HTA is a widely used method for breaking down complex tasks into smaller, manageable sub-tasks. It involves identifying the overall goal of the task, and then recursively decomposing it into smaller tasks, sub-tasks, and ultimately, individual actions.\\n\\nHere's a high-level overview of the HTA process:\\n\\n1. Identify the overall goal or task\\n2. Identify the main tasks that contribute to achieving the goal\\n3. Decompose each main task into smaller sub-tasks\\n4. Continue decomposing sub-tasks into even smaller tasks until individual actions are identified\\n5. Represent the task hierarchy using a tree-like structure or a diagram\\n\\nNow, let's look at some common extensions of HTA:\\n\\n1. **GOMS (Goals, Operators, Methods, and Selection rules)**: An extension of HTA that adds additional layers of analysis, including identifying the user's goals, operators (actions), methods (procedures), and selection rules (decision-making criteria).\\n2. **Task-Object-Oriented Design (TOOD)**: A methodology that combines HTA with object-oriented design principles to analyze and design user interfaces.\\n3. **Cognitive Task Analysis (CTA)**: An extension of HTA that focuses on the cognitive aspects of task performance, including decision-making, problem-solving, and attention management.\\n4. **Applied Cognitive Task Analysis (ACTA)**: A CTA-based approach that emphasizes the application of cognitive analysis to real-world tasks and systems.\\n5. **Functional Analysis**: A method that extends HTA by analyzing the functional relationships between tasks, including inputs, processes, and outputs.\\n6. **Event-Driven Process Chain (EPC)**: A business process modeling method that uses a hierarchical, event-driven approach to analyze and design business processes.\\n\\nThese extensions and variants of HTA offer more nuanced and contextual approaches to task decomposition, depending on the specific goals and requirements of the analysis.\", additional_kwargs={}, response_metadata={'role': 'assistant', 'content': \"The standard method for Task Decomposition is called **Hierarchical Task Analysis (HTA)**. HTA is a widely used method for breaking down complex tasks into smaller, manageable sub-tasks. It involves identifying the overall goal of the task, and then recursively decomposing it into smaller tasks, sub-tasks, and ultimately, individual actions.\\n\\nHere's a high-level overview of the HTA process:\\n\\n1. Identify the overall goal or task\\n2. Identify the main tasks that contribute to achieving the goal\\n3. Decompose each main task into smaller sub-tasks\\n4. Continue decomposing sub-tasks into even smaller tasks until individual actions are identified\\n5. Represent the task hierarchy using a tree-like structure or a diagram\\n\\nNow, let's look at some common extensions of HTA:\\n\\n1. **GOMS (Goals, Operators, Methods, and Selection rules)**: An extension of HTA that adds additional layers of analysis, including identifying the user's goals, operators (actions), methods (procedures), and selection rules (decision-making criteria).\\n2. **Task-Object-Oriented Design (TOOD)**: A methodology that combines HTA with object-oriented design principles to analyze and design user interfaces.\\n3. **Cognitive Task Analysis (CTA)**: An extension of HTA that focuses on the cognitive aspects of task performance, including decision-making, problem-solving, and attention management.\\n4. **Applied Cognitive Task Analysis (ACTA)**: A CTA-based approach that emphasizes the application of cognitive analysis to real-world tasks and systems.\\n5. **Functional Analysis**: A method that extends HTA by analyzing the functional relationships between tasks, including inputs, processes, and outputs.\\n6. **Event-Driven Process Chain (EPC)**: A business process modeling method that uses a hierarchical, event-driven approach to analyze and design business processes.\\n\\nThese extensions and variants of HTA offer more nuanced and contextual approaches to task decomposition, depending on the specific goals and requirements of the analysis.\", 'token_usage': {'prompt_tokens': 34, 'total_tokens': 442, 'completion_tokens': 408}, 'finish_reason': 'stop', 'model_name': 'meta/llama3-70b-instruct'}, id='run-1fdfdeef-c981-4fa0-ad39-9f5e49023ba9-0', usage_metadata={'input_tokens': 34, 'output_tokens': 408, 'total_tokens': 442}, role='assistant')]}\n",
      "\n",
      "----------------\n",
      "\n"
     ]
    }
   ],
   "source": [
    "# Unique ID for this Q&A session (thread)\n",
    "config = {\"configurable\": {\"thread_id\": \"test_123\"}}\n",
    "\n",
    "# Give the multi step instruction to the agent\n",
    "input_message = (\n",
    "    \"What is the standard method for Task Decomposition?\\n\\n\"\n",
    "    \"Once you get the answer, look up common extensions of that method.\"\n",
    ")\n",
    "\n",
    "for event in agent_executor.stream(\n",
    "    {\n",
    "        \"messages\": [{\"role\": \"user\", \"content\": input_message}]\n",
    "    },  # This is the input to the agent — a single user message. It’s a chat-style format\n",
    "    stream_mode=\"values\",  #\n",
    "    config=config,\n",
    "):\n",
    "    event[\"messages\"][-1].pretty_print()\n",
    "    print(f\"{event}\\n\\n----------------\\n\")"
   ]
  },
  {
   "cell_type": "code",
   "execution_count": null,
   "id": "d4963af8",
   "metadata": {},
   "outputs": [],
   "source": []
  }
 ],
 "metadata": {
  "kernelspec": {
   "display_name": "gen_ai_env",
   "language": "python",
   "name": "python3"
  },
  "language_info": {
   "codemirror_mode": {
    "name": "ipython",
    "version": 3
   },
   "file_extension": ".py",
   "mimetype": "text/x-python",
   "name": "python",
   "nbconvert_exporter": "python",
   "pygments_lexer": "ipython3",
   "version": "3.12.9"
  }
 },
 "nbformat": 4,
 "nbformat_minor": 5
}
