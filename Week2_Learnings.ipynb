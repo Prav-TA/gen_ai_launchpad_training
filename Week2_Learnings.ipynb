{
 "cells": [
  {
   "cell_type": "code",
   "execution_count": 1,
   "id": "69a6adb0",
   "metadata": {},
   "outputs": [],
   "source": [
    "import getpass\n",
    "import os\n",
    "from langchain.chat_models import init_chat_model\n",
    "from langchain_openai import OpenAIEmbeddings\n",
    "from langchain_chroma import Chroma\n",
    "from langchain_nvidia_ai_endpoints import NVIDIAEmbeddings\n",
    "from langchain_core.vectorstores import InMemoryVectorStore\n",
    "import warnings\n",
    "warnings.filterwarnings(\"ignore\")"
   ]
  },
  {
   "cell_type": "code",
   "execution_count": 2,
   "id": "574ee40c",
   "metadata": {},
   "outputs": [],
   "source": [
    "os.environ['LANGSMITH_TRACING'] = 'true'\n",
    "os.environ['LANGSMITH_API_KEY'] = getpass.getpass()"
   ]
  },
  {
   "cell_type": "markdown",
   "id": "55dae604",
   "metadata": {},
   "source": [
    "#### Components"
   ]
  },
  {
   "cell_type": "markdown",
   "id": "93350ccb",
   "metadata": {},
   "source": [
    "##### Chat model : NVIDIA"
   ]
  },
  {
   "cell_type": "code",
   "execution_count": 3,
   "id": "13e2d4ce",
   "metadata": {},
   "outputs": [],
   "source": [
    "if not os.environ.get(\"NVIDIA_API_KEY\"):\n",
    "    os.environ[\"NVIDIA_API_KEY\"] = getpass.getpass(\"Enter API key for NVIDIA:\")"
   ]
  },
  {
   "cell_type": "code",
   "execution_count": 4,
   "id": "c1eb4c85",
   "metadata": {},
   "outputs": [],
   "source": [
    "llm = init_chat_model(\"meta/llama3-70b-instruct\", model_provider=\"nvidia\")"
   ]
  },
  {
   "cell_type": "markdown",
   "id": "a6035f76",
   "metadata": {},
   "source": [
    "##### Embedding model : NVIDIA"
   ]
  },
  {
   "cell_type": "code",
   "execution_count": 5,
   "id": "3aaf3062",
   "metadata": {},
   "outputs": [],
   "source": [
    "if not os.environ.get(\"NVIDIA_API_KEY\"):\n",
    "    os.environ[\"NVIDIA_API_KEY\"] = getpass.getpass(\"Enter API key for NVIDIA: \")"
   ]
  },
  {
   "cell_type": "code",
   "execution_count": 6,
   "id": "b350d72d",
   "metadata": {},
   "outputs": [],
   "source": [
    "embeddings = NVIDIAEmbeddings(model=\"NV-Embed-QA\")"
   ]
  },
  {
   "cell_type": "markdown",
   "id": "f30a261c",
   "metadata": {},
   "source": [
    "##### Vector Store : InMemory"
   ]
  },
  {
   "cell_type": "code",
   "execution_count": 7,
   "id": "337e6d8a",
   "metadata": {},
   "outputs": [],
   "source": [
    "# # Chroma - Not working as expected getting errors\n",
    "# vector_store = Chroma(collection_name=\"example_collection\",\n",
    "#                       embedding_function=embeddings,\n",
    "#                       persist_directory=\"./chroma_langchain_db\")"
   ]
  },
  {
   "cell_type": "code",
   "execution_count": 8,
   "id": "f88079a7",
   "metadata": {},
   "outputs": [],
   "source": [
    "vector_store = InMemoryVectorStore(embeddings)"
   ]
  },
  {
   "cell_type": "markdown",
   "id": "0b166a7a",
   "metadata": {},
   "source": [
    "##### Simple indexing pipeline and RAG chain "
   ]
  },
  {
   "cell_type": "code",
   "execution_count": 9,
   "id": "f9097c8b",
   "metadata": {},
   "outputs": [
    {
     "name": "stderr",
     "output_type": "stream",
     "text": [
      "USER_AGENT environment variable not set, consider setting it to identify your requests.\n"
     ]
    }
   ],
   "source": [
    "import bs4\n",
    "from langchain import hub\n",
    "from langchain_community.document_loaders import WebBaseLoader\n",
    "from langchain_core.documents import Document\n",
    "from langchain_text_splitters import RecursiveCharacterTextSplitter\n",
    "from langgraph.graph import START,StateGraph\n",
    "from typing_extensions import List,TypedDict"
   ]
  },
  {
   "cell_type": "markdown",
   "id": "e8959e63",
   "metadata": {},
   "source": [
    "##### Load and chunk the contents of the blog"
   ]
  },
  {
   "cell_type": "markdown",
   "id": "8c43923e",
   "metadata": {},
   "source": [
    "* Document loader (Object) - to load the documents and return list of Document objects"
   ]
  },
  {
   "cell_type": "markdown",
   "id": "35fc830b",
   "metadata": {},
   "source": [
    "* WebBaseLoader uses urllib to load HTML from web URLs and BeautifulSoup parses it to text \n",
    "* Customized HTML -> text parsing using bs_kwargs"
   ]
  },
  {
   "cell_type": "markdown",
   "id": "55b0ba6a",
   "metadata": {},
   "source": [
    "* bs4 strainer only keeps post title, headers, and content from the full HTML."
   ]
  },
  {
   "cell_type": "code",
   "execution_count": 10,
   "id": "505a4524",
   "metadata": {},
   "outputs": [],
   "source": [
    "bs4_strainer = bs4.SoupStrainer(class_=(\"post-content\", \"post-title\", \"post-header\"))"
   ]
  },
  {
   "cell_type": "code",
   "execution_count": 11,
   "id": "0c4e1b00",
   "metadata": {},
   "outputs": [],
   "source": [
    "loader = WebBaseLoader(\n",
    "    web_paths=(\"https://lilianweng.github.io/posts/2023-06-23-agent/\",),\n",
    "    bs_kwargs={\"parse_only\":bs4_strainer},\n",
    "        )\n",
    "\n",
    "docs = loader.load()"
   ]
  },
  {
   "cell_type": "code",
   "execution_count": 12,
   "id": "5f7ca632",
   "metadata": {},
   "outputs": [
    {
     "name": "stdout",
     "output_type": "stream",
     "text": [
      "Total_characters: 43130\n"
     ]
    }
   ],
   "source": [
    "assert len(docs) == 1\n",
    "print(f\"Total_characters: {len(docs[0].page_content)}\")"
   ]
  },
  {
   "cell_type": "markdown",
   "id": "fe3e7dfe",
   "metadata": {},
   "source": [
    "##### Splitting Documents"
   ]
  },
  {
   "cell_type": "markdown",
   "id": "008242cd",
   "metadata": {},
   "source": [
    "* Above Loaded doc contains around 43k characters which is too long to fit into the context window of any model (Token constraints)\n",
    "* Even for feasible models, large piece of text makes the model difficult to search and find matches\n",
    "* To ease the retrieval process, we split the documents into chunks\n",
    "* Recursive text splitter splits the doc into chunks using common separators like new lines until each chunk is the appropriate size ( Recommended text splitter for generic text use cases)"
   ]
  },
  {
   "cell_type": "markdown",
   "id": "ba92cc37",
   "metadata": {},
   "source": [
    "* <b> chunk_size = 1000:\n",
    "\n",
    "            each chunk will have 1000 characters\n",
    "* <b> chunk_overlap = 200:\n",
    "\n",
    "            200 characters from the end of the previous chunk will be included in the next chunk to ensure context continuity"
   ]
  },
  {
   "cell_type": "code",
   "execution_count": 13,
   "id": "a6ad92d0",
   "metadata": {},
   "outputs": [
    {
     "name": "stdout",
     "output_type": "stream",
     "text": [
      "Split the blog post into 66 chunks\n"
     ]
    }
   ],
   "source": [
    "text_splitter = RecursiveCharacterTextSplitter(chunk_size=1000,chunk_overlap = 200,add_start_index=True)\n",
    "all_splits = text_splitter.split_documents(docs)\n",
    "print(f\"Split the blog post into {len(all_splits)} chunks\")"
   ]
  },
  {
   "cell_type": "code",
   "execution_count": 14,
   "id": "3e1e6df7",
   "metadata": {},
   "outputs": [
    {
     "data": {
      "text/plain": [
       "[Document(metadata={'source': 'https://lilianweng.github.io/posts/2023-06-23-agent/', 'start_index': 8}, page_content='LLM Powered Autonomous Agents\\n    \\nDate: June 23, 2023  |  Estimated Reading Time: 31 min  |  Author: Lilian Weng\\n\\n\\nBuilding agents with LLM (large language model) as its core controller is a cool concept. Several proof-of-concepts demos, such as AutoGPT, GPT-Engineer and BabyAGI, serve as inspiring examples. The potentiality of LLM extends beyond generating well-written copies, stories, essays and programs; it can be framed as a powerful general problem solver.\\nAgent System Overview#\\nIn a LLM-powered autonomous agent system, LLM functions as the agent’s brain, complemented by several key components:\\n\\nPlanning\\n\\nSubgoal and decomposition: The agent breaks down large tasks into smaller, manageable subgoals, enabling efficient handling of complex tasks.\\nReflection and refinement: The agent can do self-criticism and self-reflection over past actions, learn from mistakes and refine them for future steps, thereby improving the quality of final results.\\n\\n\\nMemory'),\n",
       " Document(metadata={'source': 'https://lilianweng.github.io/posts/2023-06-23-agent/', 'start_index': 971}, page_content='Memory\\n\\nShort-term memory: I would consider all the in-context learning (See Prompt Engineering) as utilizing short-term memory of the model to learn.\\nLong-term memory: This provides the agent with the capability to retain and recall (infinite) information over extended periods, often by leveraging an external vector store and fast retrieval.\\n\\n\\nTool use\\n\\nThe agent learns to call external APIs for extra information that is missing from the model weights (often hard to change after pre-training), including current information, code execution capability, access to proprietary information sources and more.'),\n",
       " Document(metadata={'source': 'https://lilianweng.github.io/posts/2023-06-23-agent/', 'start_index': 1585}, page_content='Fig. 1. Overview of a LLM-powered autonomous agent system.\\nComponent One: Planning#\\nA complicated task usually involves many steps. An agent needs to know what they are and plan ahead.\\nTask Decomposition#\\nChain of thought (CoT; Wei et al. 2022) has become a standard prompting technique for enhancing model performance on complex tasks. The model is instructed to “think step by step” to utilize more test-time computation to decompose hard tasks into smaller and simpler steps. CoT transforms big tasks into multiple manageable tasks and shed lights into an interpretation of the model’s thinking process.'),\n",
       " Document(metadata={'source': 'https://lilianweng.github.io/posts/2023-06-23-agent/', 'start_index': 2192}, page_content='Tree of Thoughts (Yao et al. 2023) extends CoT by exploring multiple reasoning possibilities at each step. It first decomposes the problem into multiple thought steps and generates multiple thoughts per step, creating a tree structure. The search process can be BFS (breadth-first search) or DFS (depth-first search) with each state evaluated by a classifier (via a prompt) or majority vote.\\nTask decomposition can be done (1) by LLM with simple prompting like \"Steps for XYZ.\\\\n1.\", \"What are the subgoals for achieving XYZ?\", (2) by using task-specific instructions; e.g. \"Write a story outline.\" for writing a novel, or (3) with human inputs.'),\n",
       " Document(metadata={'source': 'https://lilianweng.github.io/posts/2023-06-23-agent/', 'start_index': 2837}, page_content='Another quite distinct approach, LLM+P (Liu et al. 2023), involves relying on an external classical planner to do long-horizon planning. This approach utilizes the Planning Domain Definition Language (PDDL) as an intermediate interface to describe the planning problem. In this process, LLM (1) translates the problem into “Problem PDDL”, then (2) requests a classical planner to generate a PDDL plan based on an existing “Domain PDDL”, and finally (3) translates the PDDL plan back into natural language. Essentially, the planning step is outsourced to an external tool, assuming the availability of domain-specific PDDL and a suitable planner which is common in certain robotic setups but not in many other domains.\\nSelf-Reflection#\\nSelf-reflection is a vital aspect that allows autonomous agents to improve iteratively by refining past action decisions and correcting previous mistakes. It plays a crucial role in real-world tasks where trial and error are inevitable.')]"
      ]
     },
     "execution_count": 14,
     "metadata": {},
     "output_type": "execute_result"
    }
   ],
   "source": [
    "all_splits[:5]"
   ]
  },
  {
   "cell_type": "code",
   "execution_count": 15,
   "id": "02cbe4df",
   "metadata": {},
   "outputs": [
    {
     "name": "stdout",
     "output_type": "stream",
     "text": [
      "0 969\n",
      "1 609\n",
      "2 606\n",
      "3 644\n",
      "4 971\n",
      "5 506\n",
      "6 902\n",
      "7 706\n",
      "8 164\n",
      "9 960\n",
      "10 412\n",
      "11 903\n",
      "12 834\n",
      "13 545\n",
      "14 969\n",
      "15 986\n",
      "16 459\n",
      "17 542\n",
      "18 760\n",
      "19 772\n",
      "20 818\n",
      "21 469\n",
      "22 655\n",
      "23 820\n",
      "24 476\n",
      "25 388\n",
      "26 855\n",
      "27 805\n",
      "28 639\n",
      "29 456\n",
      "30 610\n",
      "31 616\n",
      "32 679\n",
      "33 726\n",
      "34 971\n",
      "35 195\n",
      "36 997\n",
      "37 828\n",
      "38 624\n",
      "39 955\n",
      "40 541\n",
      "41 961\n",
      "42 704\n",
      "43 556\n",
      "44 958\n",
      "45 666\n",
      "46 664\n",
      "47 983\n",
      "48 127\n",
      "49 936\n",
      "50 999\n",
      "51 310\n",
      "52 18\n",
      "53 48\n",
      "54 991\n",
      "55 996\n",
      "56 476\n",
      "57 702\n",
      "58 989\n",
      "59 378\n",
      "60 132\n",
      "61 808\n",
      "62 568\n",
      "63 976\n",
      "64 956\n",
      "65 940\n"
     ]
    }
   ],
   "source": [
    "for idx,chunk in enumerate(all_splits):\n",
    "    print(idx,len(chunk.page_content))"
   ]
  },
  {
   "cell_type": "markdown",
   "id": "1f520a36",
   "metadata": {},
   "source": [
    "##### Index Chunks"
   ]
  },
  {
   "cell_type": "markdown",
   "id": "d3b1e6ff",
   "metadata": {},
   "source": [
    "* Vector store is a defined vector db to store the embeddings of the chunks - Here ChromaDB is used\n",
    "* vectors helps retrieve relevant chunks based on the similarity search with the user query / prompt"
   ]
  },
  {
   "cell_type": "code",
   "execution_count": 16,
   "id": "472ca6a6",
   "metadata": {},
   "outputs": [
    {
     "name": "stdout",
     "output_type": "stream",
     "text": [
      "['ce6d503b-a201-474f-949d-08679fd4c3a3', '5172511a-7a51-4658-9679-76c915683eaa', '48e78f2b-969c-4ce5-b84f-3af9a41e887d', 'f3d9a62a-79b7-4d8f-8226-eac541d53449', '2a57a7a6-a307-4cc8-8b04-f7ed6fee28b9', '4a2e7df3-2f15-48d5-aaa4-fccf8ea3e93d', 'aafa9878-e183-4a00-88fd-608cc36c2ab8', '60dfeb04-e83a-459a-b1e7-a144a53d1016', '706ac991-9f54-40da-bd0f-5d283f8badd9', '247d19c1-c6ca-434c-a2f2-171c7292c473', 'd4b8adea-91a7-4be2-a59a-1c1ec1734456', 'd9c8c994-2616-4b76-b637-053aa571fda0', '804f4306-a6ba-422b-9062-930d4514dc03', 'e12ba7b1-f344-45c5-bac2-f892a7b39d2d', '2445bd8b-6c69-4b96-aee3-ed46b0291fd6', 'a5701dfd-eb64-4995-91de-531e1d337ed9', '19484ff0-a06e-4551-bf68-7ab7ddea6e0a', 'ff0bf984-b2b7-482b-b3d8-2db9422114be', 'a483fa38-1327-4eac-84d1-f7b5ac5489d4', '86c62c12-ef86-4f5d-814d-e06051b02fc5', 'd80d47eb-dce3-4f54-8c26-43fb8486baec', '7996a7ad-40f7-49cb-804e-da2ac40f9e64', '7085d680-aebb-42b7-8a03-961c4a9005c5', 'c54bc8a7-f7b4-4608-9335-5a6153517b53', '671cbe03-e5b6-4211-8ae4-5a7ccb842c46', 'b72ca0aa-768f-4907-b9b7-b8467815d94f', '59acd6f1-0886-472b-8ba8-0930d70de72b', '513df5b1-add6-48f4-93e4-90cff88733d7', '18b60c04-420b-42eb-a5c0-996f0a1d1da9', 'c81b20aa-9d6c-4acf-b69e-99361f3cb343', '04dde875-ff3a-4bdf-9e80-2d87fc86fd67', '6fe8dd00-7a60-422b-8f58-dcc4bc16989a', '80ceb957-d906-44d2-87c8-d77ed03141f3', '6d7faf5a-17f6-4fed-99af-1ab5b387cef3', '0235bf8f-c751-4cf2-a91f-93cb9d3d5ad1', 'a01e6556-0f22-4ab7-9fad-35b122e3d04b', 'fc98a940-ac56-4e9a-8562-c62df7d07e52', 'd8eb8dc1-6483-4a67-a7db-a06884f283c2', 'dbae596b-0fcf-43e6-86d3-ab6d4618d93b', '1ad8c975-9d95-40bc-acc1-aba367c6f646', '4a9ab775-dcbc-450d-8b60-e62c293d66ab', '3d5167a0-9b75-4896-9c9a-4215b60de2e9', '308b647c-7447-4672-9da2-4d692c1ef842', '5dfabdd1-fd9e-4a63-bee5-a28a092ca48a', '2c8b6fda-9101-4f04-997c-8a23a1715c95', 'abcd506f-cbd1-4268-9b60-dd41ca0dad17', '4be56a0f-b087-4b40-bf1c-23ed0801cf76', '0d626939-dcee-4459-9e12-17c8b48bfa0e', '8379824b-f60f-45ae-bff5-4a981f010024', 'e6183001-1e81-4f25-bdeb-df37e7f78dc9', 'b41422be-2dd3-4764-97fd-6f2e70ab8e77', 'c6626050-198f-4313-8dd9-fb5850942c6f', '65b33680-4077-4df7-ba09-f893bc17f351', '5e60128e-bfe0-4f51-aae9-810bc71908ca', 'd7cb8ef1-eb2f-46c1-be16-a8734e3d2af5', '838b2466-7b4b-47b1-b719-2234525433b9', '3ae2545f-38dc-4b75-85aa-64443630051c', '8695e8b2-e7c7-4581-988c-f60498d3890d', 'b7f82ea2-5b90-4612-a255-e6c9e0cc67d9', '5dfc1aed-2800-4297-86bb-3ef8c972849c', '33547d4d-ea04-48a1-ac79-e04dd646b2fc', '440931b8-65c9-4e9a-8f70-d4a479fdcb70', 'b6c27faa-6517-42ea-9a23-d7eb3bc96126', '0fdf61d2-0e9e-4b5a-99a7-2fd0d7e050f3', 'd8ceb0bd-c700-43f9-a22a-6889bbbc00e1', '4d48a3c3-4482-4868-add8-57d61ea206a3']\n"
     ]
    }
   ],
   "source": [
    "document_ids = vector_store.add_documents(documents=all_splits)\n",
    "print(document_ids)"
   ]
  },
  {
   "cell_type": "code",
   "execution_count": 17,
   "id": "75fb9228",
   "metadata": {},
   "outputs": [
    {
     "data": {
      "text/plain": [
       "66"
      ]
     },
     "execution_count": 17,
     "metadata": {},
     "output_type": "execute_result"
    }
   ],
   "source": [
    "len(document_ids)"
   ]
  },
  {
   "cell_type": "markdown",
   "id": "720eb104",
   "metadata": {},
   "source": [
    "#####  Define prompt for question-answering"
   ]
  },
  {
   "cell_type": "markdown",
   "id": "84b043f0",
   "metadata": {},
   "source": [
    "* This pulls a pre-built prompt template from langchain hub\n",
    "* \"rlm/rag-prompt\" - prompt specifically designed for retrieval augmented question answering\n",
    "* It sets up how the question + context will be sent to language model"
   ]
  },
  {
   "cell_type": "markdown",
   "id": "5ccceda7",
   "metadata": {},
   "source": [
    "* Prompt Template will be something like this:\n",
    "* You are an assistant for question-answering tasks. Use the following pieces of retrieved context to answer the question. If you don't know the answer, just say that you don't know. Use three sentences maximum and keep the answer concise.\n",
    "* Question: (question goes here) \n",
    "* Context: (context goes here) \n",
    "* Answer:"
   ]
  },
  {
   "cell_type": "code",
   "execution_count": 18,
   "id": "df1832b8",
   "metadata": {},
   "outputs": [],
   "source": [
    "prompt = hub.pull(\"rlm/rag-prompt\")"
   ]
  },
  {
   "cell_type": "markdown",
   "id": "7913a6c9",
   "metadata": {},
   "source": [
    "##### Define state for application"
   ]
  },
  {
   "cell_type": "markdown",
   "id": "20c5c7fe",
   "metadata": {},
   "source": [
    "* The state of the application controls what data is\n",
    "    - input to the application,\n",
    "    - transferred between steps, and\n",
    "    - output by the application. It is typically a TypedDict\n"
   ]
  },
  {
   "cell_type": "markdown",
   "id": "1136643e",
   "metadata": {},
   "source": [
    "* This acts as a container to store question, context and answer"
   ]
  },
  {
   "cell_type": "code",
   "execution_count": 19,
   "id": "166e87a2",
   "metadata": {},
   "outputs": [],
   "source": [
    "class State(TypedDict):\n",
    "    question: str\n",
    "    context: List[Document]\n",
    "    answer: str"
   ]
  },
  {
   "cell_type": "markdown",
   "id": "8515579e",
   "metadata": {},
   "source": [
    "##### Define application steps"
   ]
  },
  {
   "cell_type": "markdown",
   "id": "c6791d0e",
   "metadata": {},
   "source": [
    "<b> STEP 1: Retrieval"
   ]
  },
  {
   "cell_type": "markdown",
   "id": "369b9875",
   "metadata": {},
   "source": [
    "* Takes in user's question\n",
    "* Uses similarity search to find the most relevant chunk\n",
    "* retrieves top_k relevant chunk based on the similarity value (k=4 by default)\n",
    "* Return them as context"
   ]
  },
  {
   "cell_type": "code",
   "execution_count": 20,
   "id": "103da91a",
   "metadata": {},
   "outputs": [],
   "source": [
    "def retrieve(state: State):\n",
    "    retrieved_docs = vector_store.similarity_search(state[\"question\"])\n",
    "    return {\"context\": retrieved_docs}"
   ]
  },
  {
   "cell_type": "markdown",
   "id": "c783044e",
   "metadata": {},
   "source": [
    "<b> STEP 2: Generation"
   ]
  },
  {
   "cell_type": "markdown",
   "id": "8b92e32a",
   "metadata": {},
   "source": [
    "* Joins all the retrieved chunks into a single text\n",
    "* passes the question + context to the prompt\n",
    "* Sends it to LLM\n",
    "* Returns answer"
   ]
  },
  {
   "cell_type": "code",
   "execution_count": 21,
   "id": "a7f31865",
   "metadata": {},
   "outputs": [],
   "source": [
    "def generate(state:State):\n",
    "    docs_content = \"\\n\\n\".join([doc.page_content for doc in state[\"context\"]])\n",
    "    messages = prompt.invoke({\"question\": state[\"question\"], \"context\": docs_content})\n",
    "    response = llm.invoke(messages)\n",
    "    return {\"answer\":response.content} "
   ]
  },
  {
   "cell_type": "markdown",
   "id": "a8be5e42",
   "metadata": {},
   "source": [
    "##### Compile application and test"
   ]
  },
  {
   "cell_type": "code",
   "execution_count": 22,
   "id": "a3d27014",
   "metadata": {},
   "outputs": [],
   "source": [
    "graph_builder = StateGraph(State).add_sequence([retrieve,generate])\n",
    "graph_builder.add_edge(START,\"retrieve\")\n",
    "graph = graph_builder.compile()"
   ]
  },
  {
   "cell_type": "markdown",
   "id": "beb6e9f7",
   "metadata": {},
   "source": [
    "* StateGraph(State): Creates LangGraph based on State definition\n",
    "* .add_sequence([retrieve, generate]): Order of execution\n",
    "* add_edge(START, \"retrieve\"): Tells the graph to start from retrieval first\n",
    "* .compile(): Finalizes the graph into an executable app"
   ]
  },
  {
   "cell_type": "code",
   "execution_count": null,
   "id": "33c8a90c",
   "metadata": {},
   "outputs": [
    {
     "name": "stderr",
     "output_type": "stream",
     "text": [
      "Failed to multipart ingest runs: langsmith.utils.LangSmithAuthError: Authentication failed for https://api.smith.langchain.com/runs/multipart. HTTPError('401 Client Error: Unauthorized for url: https://api.smith.langchain.com/runs/multipart', '{\"error\":\"Unauthorized\"}\\n')trace=44ba9324-8723-4f4f-bdf4-0eb7e53dbf93,id=44ba9324-8723-4f4f-bdf4-0eb7e53dbf93; trace=44ba9324-8723-4f4f-bdf4-0eb7e53dbf93,id=e60214e9-9bcd-45ea-92ec-406b6c6b535d; trace=44ba9324-8723-4f4f-bdf4-0eb7e53dbf93,id=90e17012-ef76-4c70-a7c8-3bf984612fa1; trace=44ba9324-8723-4f4f-bdf4-0eb7e53dbf93,id=a10bf8f5-aefd-44e9-9376-ea6296da2963; trace=44ba9324-8723-4f4f-bdf4-0eb7e53dbf93,id=f4c596ba-97a8-4fdb-a207-83ddcd5a76ac\n",
      "Failed to multipart ingest runs: langsmith.utils.LangSmithAuthError: Authentication failed for https://api.smith.langchain.com/runs/multipart. HTTPError('401 Client Error: Unauthorized for url: https://api.smith.langchain.com/runs/multipart', '{\"error\":\"Unauthorized\"}\\n')trace=44ba9324-8723-4f4f-bdf4-0eb7e53dbf93,id=9e72ed6f-682a-4ca1-bd63-520a6286ab45; trace=44ba9324-8723-4f4f-bdf4-0eb7e53dbf93,id=ef37a948-f4bc-4bf7-a57b-5c40ba7e0ebe; trace=44ba9324-8723-4f4f-bdf4-0eb7e53dbf93,id=ac2a63d6-5dae-43af-b861-3a8a198ea8fc; trace=44ba9324-8723-4f4f-bdf4-0eb7e53dbf93,id=96bb765a-0362-4dd2-9c54-c2603ba89854; trace=44ba9324-8723-4f4f-bdf4-0eb7e53dbf93,id=5a980ee0-1b64-4b56-8b0f-350c4b0bc9c6; trace=44ba9324-8723-4f4f-bdf4-0eb7e53dbf93,id=f4c596ba-97a8-4fdb-a207-83ddcd5a76ac\n"
     ]
    },
    {
     "name": "stdout",
     "output_type": "stream",
     "text": [
      "Task Decomposition is the process of breaking down a complicated task into smaller, simpler steps, making it more manageable and understandable. This can be done using various techniques, such as Chain of Thought, Tree of Thoughts, or simply by using prompts like \"Steps for XYZ\" or task-specific instructions. The goal is to transform a big task into multiple smaller tasks, allowing for a clearer understanding of the task and more efficient completion.\n"
     ]
    },
    {
     "name": "stderr",
     "output_type": "stream",
     "text": [
      "Failed to multipart ingest runs: langsmith.utils.LangSmithAuthError: Authentication failed for https://api.smith.langchain.com/runs/multipart. HTTPError('401 Client Error: Unauthorized for url: https://api.smith.langchain.com/runs/multipart', '{\"error\":\"Unauthorized\"}\\n')trace=44ba9324-8723-4f4f-bdf4-0eb7e53dbf93,id=58c64f62-1aa4-46df-9657-b3e25606732e; trace=44ba9324-8723-4f4f-bdf4-0eb7e53dbf93,id=44ba9324-8723-4f4f-bdf4-0eb7e53dbf93; trace=44ba9324-8723-4f4f-bdf4-0eb7e53dbf93,id=ac2a63d6-5dae-43af-b861-3a8a198ea8fc; trace=44ba9324-8723-4f4f-bdf4-0eb7e53dbf93,id=5a980ee0-1b64-4b56-8b0f-350c4b0bc9c6\n",
      "Failed to multipart ingest runs: langsmith.utils.LangSmithAuthError: Authentication failed for https://api.smith.langchain.com/runs/multipart. HTTPError('401 Client Error: Unauthorized for url: https://api.smith.langchain.com/runs/multipart', '{\"error\":\"Unauthorized\"}\\n')trace=27338263-4da1-4531-a531-5a5c877a7a38,id=27338263-4da1-4531-a531-5a5c877a7a38; trace=27338263-4da1-4531-a531-5a5c877a7a38,id=fe4ee2cd-c48d-4d97-859c-640495840b91; trace=27338263-4da1-4531-a531-5a5c877a7a38,id=5675f1dd-c386-4cea-b7fc-a6c83747a373; trace=27338263-4da1-4531-a531-5a5c877a7a38,id=fdc7deae-f9cf-4655-9b7f-5c4005c140b9; trace=27338263-4da1-4531-a531-5a5c877a7a38,id=25e6c291-2d73-4d73-b71d-7bdc783bcb6f\n",
      "Failed to multipart ingest runs: langsmith.utils.LangSmithAuthError: Authentication failed for https://api.smith.langchain.com/runs/multipart. HTTPError('401 Client Error: Unauthorized for url: https://api.smith.langchain.com/runs/multipart', '{\"error\":\"Unauthorized\"}\\n')trace=27338263-4da1-4531-a531-5a5c877a7a38,id=0ec5dc7a-b191-421e-b09e-be66f9f21ec3; trace=27338263-4da1-4531-a531-5a5c877a7a38,id=f683fef2-a559-4852-a21f-6d7c1cf23a16\n",
      "Failed to multipart ingest runs: langsmith.utils.LangSmithAuthError: Authentication failed for https://api.smith.langchain.com/runs/multipart. HTTPError('401 Client Error: Unauthorized for url: https://api.smith.langchain.com/runs/multipart', '{\"error\":\"Unauthorized\"}\\n')trace=27338263-4da1-4531-a531-5a5c877a7a38,id=79c6b81a-b10f-498e-8db1-f81a6da00ba8; trace=27338263-4da1-4531-a531-5a5c877a7a38,id=2fbc61c2-6a81-471c-b4ea-e8819c138be4; trace=27338263-4da1-4531-a531-5a5c877a7a38,id=ff41d571-3d15-4081-b088-359b99d69d55; trace=27338263-4da1-4531-a531-5a5c877a7a38,id=3151bea2-f846-4f9c-a752-02f05436f294; trace=27338263-4da1-4531-a531-5a5c877a7a38,id=25e6c291-2d73-4d73-b71d-7bdc783bcb6f; trace=27338263-4da1-4531-a531-5a5c877a7a38,id=0ec5dc7a-b191-421e-b09e-be66f9f21ec3; trace=27338263-4da1-4531-a531-5a5c877a7a38,id=f683fef2-a559-4852-a21f-6d7c1cf23a16\n",
      "Failed to multipart ingest runs: langsmith.utils.LangSmithAuthError: Authentication failed for https://api.smith.langchain.com/runs/multipart. HTTPError('401 Client Error: Unauthorized for url: https://api.smith.langchain.com/runs/multipart', '{\"error\":\"Unauthorized\"}\\n')trace=27338263-4da1-4531-a531-5a5c877a7a38,id=a0909acf-426f-4a97-99c5-1705577facd2; trace=27338263-4da1-4531-a531-5a5c877a7a38,id=327e3e4c-450c-4dd5-aa03-c05cf05a1978; trace=27338263-4da1-4531-a531-5a5c877a7a38,id=82905260-1fbe-4c9b-8969-72eb318e35d6; trace=27338263-4da1-4531-a531-5a5c877a7a38,id=640d2705-7f65-4507-922e-07bbefb5ab6a; trace=27338263-4da1-4531-a531-5a5c877a7a38,id=a07037a6-20bb-4751-bd8e-47411fd4dd13; trace=27338263-4da1-4531-a531-5a5c877a7a38,id=3151bea2-f846-4f9c-a752-02f05436f294\n",
      "Failed to multipart ingest runs: langsmith.utils.LangSmithAuthError: Authentication failed for https://api.smith.langchain.com/runs/multipart. HTTPError('401 Client Error: Unauthorized for url: https://api.smith.langchain.com/runs/multipart', '{\"error\":\"Unauthorized\"}\\n')trace=27338263-4da1-4531-a531-5a5c877a7a38,id=4ec3b372-d0a3-415f-b67a-105c4d2ec0bd; trace=27338263-4da1-4531-a531-5a5c877a7a38,id=27338263-4da1-4531-a531-5a5c877a7a38; trace=27338263-4da1-4531-a531-5a5c877a7a38,id=82905260-1fbe-4c9b-8969-72eb318e35d6; trace=27338263-4da1-4531-a531-5a5c877a7a38,id=a07037a6-20bb-4751-bd8e-47411fd4dd13\n",
      "Failed to multipart ingest runs: langsmith.utils.LangSmithAuthError: Authentication failed for https://api.smith.langchain.com/runs/multipart. HTTPError('401 Client Error: Unauthorized for url: https://api.smith.langchain.com/runs/multipart', '{\"error\":\"Unauthorized\"}\\n')trace=551afa6e-8241-4de9-97fc-05d69bf335a7,id=551afa6e-8241-4de9-97fc-05d69bf335a7; trace=551afa6e-8241-4de9-97fc-05d69bf335a7,id=48bb3abd-26cf-4b8f-9b49-d22ade09986c; trace=551afa6e-8241-4de9-97fc-05d69bf335a7,id=2223ecae-ccdc-4466-a040-829a9d86c20c; trace=551afa6e-8241-4de9-97fc-05d69bf335a7,id=49d276a2-fb65-47e5-960b-fb9299a3cdbe; trace=551afa6e-8241-4de9-97fc-05d69bf335a7,id=ddf78f3e-dc66-4aa8-b77c-80dd74722012; trace=551afa6e-8241-4de9-97fc-05d69bf335a7,id=de48b961-0aaa-4228-b491-76e166468e6d; trace=551afa6e-8241-4de9-97fc-05d69bf335a7,id=83d7bc17-24ac-4e8f-81e5-350827f5db93\n",
      "Failed to multipart ingest runs: langsmith.utils.LangSmithAuthError: Authentication failed for https://api.smith.langchain.com/runs/multipart. HTTPError('401 Client Error: Unauthorized for url: https://api.smith.langchain.com/runs/multipart', '{\"error\":\"Unauthorized\"}\\n')trace=551afa6e-8241-4de9-97fc-05d69bf335a7,id=d22722cf-8cb2-4837-bf4f-acd7d86fbfdd; trace=551afa6e-8241-4de9-97fc-05d69bf335a7,id=b8ecb894-c373-4c83-bdfb-25a82e54b6e6; trace=551afa6e-8241-4de9-97fc-05d69bf335a7,id=3829fa1c-1369-464b-92a5-612cd96d7119; trace=551afa6e-8241-4de9-97fc-05d69bf335a7,id=12cb4608-ecbc-44fd-9c89-cd7f32a119f6; trace=551afa6e-8241-4de9-97fc-05d69bf335a7,id=ddf78f3e-dc66-4aa8-b77c-80dd74722012; trace=551afa6e-8241-4de9-97fc-05d69bf335a7,id=de48b961-0aaa-4228-b491-76e166468e6d; trace=551afa6e-8241-4de9-97fc-05d69bf335a7,id=83d7bc17-24ac-4e8f-81e5-350827f5db93\n",
      "Failed to multipart ingest runs: langsmith.utils.LangSmithAuthError: Authentication failed for https://api.smith.langchain.com/runs/multipart. HTTPError('401 Client Error: Unauthorized for url: https://api.smith.langchain.com/runs/multipart', '{\"error\":\"Unauthorized\"}\\n')trace=551afa6e-8241-4de9-97fc-05d69bf335a7,id=88b39b40-fdd3-4bd3-8b68-b571be70dd27; trace=551afa6e-8241-4de9-97fc-05d69bf335a7,id=b65e3f35-4b07-4fac-9689-206404c2673c; trace=551afa6e-8241-4de9-97fc-05d69bf335a7,id=57045660-9063-4bec-9901-d9d0cb87db25; trace=551afa6e-8241-4de9-97fc-05d69bf335a7,id=5ce4cd07-2446-478c-82e6-f3ba3696bf7f; trace=551afa6e-8241-4de9-97fc-05d69bf335a7,id=9b41bf24-aac6-452c-bba4-ac5a6a58a46a; trace=551afa6e-8241-4de9-97fc-05d69bf335a7,id=12cb4608-ecbc-44fd-9c89-cd7f32a119f6\n",
      "Failed to multipart ingest runs: langsmith.utils.LangSmithAuthError: Authentication failed for https://api.smith.langchain.com/runs/multipart. HTTPError('401 Client Error: Unauthorized for url: https://api.smith.langchain.com/runs/multipart', '{\"error\":\"Unauthorized\"}\\n')trace=551afa6e-8241-4de9-97fc-05d69bf335a7,id=d5800523-8d99-476e-9d37-763e458b57dd; trace=d6d5aaed-ffbd-46e6-bea6-908b9cc4a588,id=d6d5aaed-ffbd-46e6-bea6-908b9cc4a588; trace=d6d5aaed-ffbd-46e6-bea6-908b9cc4a588,id=99b64666-5f09-4e32-a670-0e8777202b8c; trace=d6d5aaed-ffbd-46e6-bea6-908b9cc4a588,id=d1f15f22-fa51-4179-83aa-5e7b670c12d9; trace=d6d5aaed-ffbd-46e6-bea6-908b9cc4a588,id=c2fa7ff0-57e2-48e4-b4bb-f16afffeb37f; trace=d6d5aaed-ffbd-46e6-bea6-908b9cc4a588,id=894c24d3-20b4-4d90-b979-0eb7bdf4b42f; trace=d6d5aaed-ffbd-46e6-bea6-908b9cc4a588,id=8017ef7d-6adf-4625-8d65-77ec6ade756f; trace=d6d5aaed-ffbd-46e6-bea6-908b9cc4a588,id=75c5bf03-2810-45db-a1bf-0506b520d843; trace=551afa6e-8241-4de9-97fc-05d69bf335a7,id=551afa6e-8241-4de9-97fc-05d69bf335a7; trace=551afa6e-8241-4de9-97fc-05d69bf335a7,id=57045660-9063-4bec-9901-d9d0cb87db25; trace=551afa6e-8241-4de9-97fc-05d69bf335a7,id=9b41bf24-aac6-452c-bba4-ac5a6a58a46a\n",
      "Failed to multipart ingest runs: langsmith.utils.LangSmithAuthError: Authentication failed for https://api.smith.langchain.com/runs/multipart. HTTPError('401 Client Error: Unauthorized for url: https://api.smith.langchain.com/runs/multipart', '{\"error\":\"Unauthorized\"}\\n')trace=d6d5aaed-ffbd-46e6-bea6-908b9cc4a588,id=b01bee7c-6112-42e1-96cc-5363a5c9c18f; trace=d6d5aaed-ffbd-46e6-bea6-908b9cc4a588,id=ad5e3d2a-8558-4839-88eb-9ba7a82ea083; trace=d6d5aaed-ffbd-46e6-bea6-908b9cc4a588,id=ae9016c1-b63f-41a1-8518-bee3a34c53e8; trace=d6d5aaed-ffbd-46e6-bea6-908b9cc4a588,id=9d7cf417-0663-42b0-bc8a-6ae7a01e17f7; trace=d6d5aaed-ffbd-46e6-bea6-908b9cc4a588,id=894c24d3-20b4-4d90-b979-0eb7bdf4b42f; trace=d6d5aaed-ffbd-46e6-bea6-908b9cc4a588,id=8017ef7d-6adf-4625-8d65-77ec6ade756f; trace=d6d5aaed-ffbd-46e6-bea6-908b9cc4a588,id=75c5bf03-2810-45db-a1bf-0506b520d843\n",
      "Failed to multipart ingest runs: langsmith.utils.LangSmithAuthError: Authentication failed for https://api.smith.langchain.com/runs/multipart. HTTPError('401 Client Error: Unauthorized for url: https://api.smith.langchain.com/runs/multipart', '{\"error\":\"Unauthorized\"}\\n')trace=d6d5aaed-ffbd-46e6-bea6-908b9cc4a588,id=fe52fb15-1e18-4e1c-bafb-2bb9fdfd6ab8; trace=d6d5aaed-ffbd-46e6-bea6-908b9cc4a588,id=3159dea1-b682-42ed-b410-90e778dbf412; trace=d6d5aaed-ffbd-46e6-bea6-908b9cc4a588,id=e084bb23-211f-437f-ae8a-9127f861ba34; trace=d6d5aaed-ffbd-46e6-bea6-908b9cc4a588,id=1414311a-f423-4d41-87a4-ad235596f94e; trace=d6d5aaed-ffbd-46e6-bea6-908b9cc4a588,id=7419a533-58ee-4609-aca0-83cdc7416ac6; trace=d6d5aaed-ffbd-46e6-bea6-908b9cc4a588,id=9d7cf417-0663-42b0-bc8a-6ae7a01e17f7\n",
      "Failed to multipart ingest runs: langsmith.utils.LangSmithAuthError: Authentication failed for https://api.smith.langchain.com/runs/multipart. HTTPError('401 Client Error: Unauthorized for url: https://api.smith.langchain.com/runs/multipart', '{\"error\":\"Unauthorized\"}\\n')trace=d6d5aaed-ffbd-46e6-bea6-908b9cc4a588,id=bfa2dff3-90d7-416a-acee-139527da1b73; trace=d6d5aaed-ffbd-46e6-bea6-908b9cc4a588,id=7419a533-58ee-4609-aca0-83cdc7416ac6; trace=d6d5aaed-ffbd-46e6-bea6-908b9cc4a588,id=e084bb23-211f-437f-ae8a-9127f861ba34; trace=d6d5aaed-ffbd-46e6-bea6-908b9cc4a588,id=d6d5aaed-ffbd-46e6-bea6-908b9cc4a588\n",
      "Failed to multipart ingest runs: langsmith.utils.LangSmithAuthError: Authentication failed for https://api.smith.langchain.com/runs/multipart. HTTPError('401 Client Error: Unauthorized for url: https://api.smith.langchain.com/runs/multipart', '{\"error\":\"Unauthorized\"}\\n')trace=ae05cb6a-853c-4ca4-8e22-e21364a29db3,id=ae05cb6a-853c-4ca4-8e22-e21364a29db3; trace=ae05cb6a-853c-4ca4-8e22-e21364a29db3,id=c077c2ef-c467-4dc7-a2c3-2ee7ceddfe61; trace=ae05cb6a-853c-4ca4-8e22-e21364a29db3,id=db28c8da-be73-489d-8a07-fed127b955e6; trace=ae05cb6a-853c-4ca4-8e22-e21364a29db3,id=60d46927-4d5c-4965-8786-554478e2b5ed; trace=ae05cb6a-853c-4ca4-8e22-e21364a29db3,id=d894cd79-a6f7-499b-af3b-d2a7ff688389; trace=ae05cb6a-853c-4ca4-8e22-e21364a29db3,id=c308c7b9-87b7-421f-9bc6-7ac7bb2ae2d9\n",
      "Failed to multipart ingest runs: langsmith.utils.LangSmithAuthError: Authentication failed for https://api.smith.langchain.com/runs/multipart. HTTPError('401 Client Error: Unauthorized for url: https://api.smith.langchain.com/runs/multipart', '{\"error\":\"Unauthorized\"}\\n')trace=ae05cb6a-853c-4ca4-8e22-e21364a29db3,id=86eda390-a5ac-46d4-8b86-c4ed7ac21c51; trace=ae05cb6a-853c-4ca4-8e22-e21364a29db3,id=6a0b7444-03c5-4c3d-b7e9-733a9f7c752f; trace=ae05cb6a-853c-4ca4-8e22-e21364a29db3,id=ae05cb6a-853c-4ca4-8e22-e21364a29db3; trace=ae05cb6a-853c-4ca4-8e22-e21364a29db3,id=d894cd79-a6f7-499b-af3b-d2a7ff688389; trace=ae05cb6a-853c-4ca4-8e22-e21364a29db3,id=c308c7b9-87b7-421f-9bc6-7ac7bb2ae2d9\n",
      "Failed to multipart ingest runs: langsmith.utils.LangSmithAuthError: Authentication failed for https://api.smith.langchain.com/runs/multipart. HTTPError('401 Client Error: Unauthorized for url: https://api.smith.langchain.com/runs/multipart', '{\"error\":\"Unauthorized\"}\\n')trace=ca03238a-3979-4eb0-9fda-12fed7a7f0f8,id=ca03238a-3979-4eb0-9fda-12fed7a7f0f8; trace=ca03238a-3979-4eb0-9fda-12fed7a7f0f8,id=a4e08e2a-e952-4a18-b242-401c961bf564; trace=ca03238a-3979-4eb0-9fda-12fed7a7f0f8,id=4046ecdb-6136-493d-aa60-050bdd26e97e; trace=ca03238a-3979-4eb0-9fda-12fed7a7f0f8,id=cf51428b-9be4-48bc-9739-fa9a1b58ebf4; trace=ca03238a-3979-4eb0-9fda-12fed7a7f0f8,id=4178e211-d4e1-4e47-8d82-61e039c44882; trace=ca03238a-3979-4eb0-9fda-12fed7a7f0f8,id=292d1ddb-2260-4fee-81a8-0effb9c511b6\n",
      "Failed to multipart ingest runs: langsmith.utils.LangSmithAuthError: Authentication failed for https://api.smith.langchain.com/runs/multipart. HTTPError('401 Client Error: Unauthorized for url: https://api.smith.langchain.com/runs/multipart', '{\"error\":\"Unauthorized\"}\\n')trace=ca03238a-3979-4eb0-9fda-12fed7a7f0f8,id=9f7c1aaf-1c44-4a9b-85aa-b0736d4ff8df; trace=ca03238a-3979-4eb0-9fda-12fed7a7f0f8,id=f44f0c94-bd4f-4e34-bbc9-1a9d535fe105; trace=ca03238a-3979-4eb0-9fda-12fed7a7f0f8,id=ca03238a-3979-4eb0-9fda-12fed7a7f0f8; trace=ca03238a-3979-4eb0-9fda-12fed7a7f0f8,id=4178e211-d4e1-4e47-8d82-61e039c44882; trace=ca03238a-3979-4eb0-9fda-12fed7a7f0f8,id=292d1ddb-2260-4fee-81a8-0effb9c511b6\n",
      "Failed to multipart ingest runs: langsmith.utils.LangSmithAuthError: Authentication failed for https://api.smith.langchain.com/runs/multipart. HTTPError('401 Client Error: Unauthorized for url: https://api.smith.langchain.com/runs/multipart', '{\"error\":\"Unauthorized\"}\\n')trace=d9d9cd9e-bb6e-485a-a2a9-a5ad78d253da,id=d9d9cd9e-bb6e-485a-a2a9-a5ad78d253da; trace=d9d9cd9e-bb6e-485a-a2a9-a5ad78d253da,id=f7504fb0-d241-4907-a11f-8c3103c76ce8; trace=d9d9cd9e-bb6e-485a-a2a9-a5ad78d253da,id=69f5f65a-e843-4756-90e0-0ca936369896; trace=d9d9cd9e-bb6e-485a-a2a9-a5ad78d253da,id=e7f07958-e482-449c-ba9d-13a27751fc47; trace=d9d9cd9e-bb6e-485a-a2a9-a5ad78d253da,id=c4a5f59d-23a1-4d46-9e34-4e8418ef6468; trace=d9d9cd9e-bb6e-485a-a2a9-a5ad78d253da,id=547b5b2f-97aa-42f3-8401-e32cc98d2ef5\n",
      "Failed to multipart ingest runs: langsmith.utils.LangSmithAuthError: Authentication failed for https://api.smith.langchain.com/runs/multipart. HTTPError('401 Client Error: Unauthorized for url: https://api.smith.langchain.com/runs/multipart', '{\"error\":\"Unauthorized\"}\\n')trace=d9d9cd9e-bb6e-485a-a2a9-a5ad78d253da,id=75932386-22ea-4411-bb27-5527f76cf703; trace=d9d9cd9e-bb6e-485a-a2a9-a5ad78d253da,id=d7100016-3152-4805-a1f9-c559c900f486; trace=d9d9cd9e-bb6e-485a-a2a9-a5ad78d253da,id=c4a5f59d-23a1-4d46-9e34-4e8418ef6468; trace=d9d9cd9e-bb6e-485a-a2a9-a5ad78d253da,id=547b5b2f-97aa-42f3-8401-e32cc98d2ef5; trace=d9d9cd9e-bb6e-485a-a2a9-a5ad78d253da,id=d9d9cd9e-bb6e-485a-a2a9-a5ad78d253da\n",
      "Failed to multipart ingest runs: langsmith.utils.LangSmithAuthError: Authentication failed for https://api.smith.langchain.com/runs/multipart. HTTPError('401 Client Error: Unauthorized for url: https://api.smith.langchain.com/runs/multipart', '{\"error\":\"Unauthorized\"}\\n')trace=ad38e096-5200-412e-ae58-5c07c9102887,id=ad38e096-5200-412e-ae58-5c07c9102887; trace=ad38e096-5200-412e-ae58-5c07c9102887,id=82e594ce-193f-4371-babf-e84f81d6f2dc; trace=ad38e096-5200-412e-ae58-5c07c9102887,id=567ae115-572a-428c-945a-8a546b75843f; trace=ad38e096-5200-412e-ae58-5c07c9102887,id=68ce11fd-b03b-4341-ae38-5a92c7beab2c; trace=ad38e096-5200-412e-ae58-5c07c9102887,id=fd719b90-7b63-4c83-8c3f-382606463e2b; trace=ad38e096-5200-412e-ae58-5c07c9102887,id=620c8d12-9e1e-47bf-9ab0-294ef95a2191\n",
      "Failed to multipart ingest runs: langsmith.utils.LangSmithAuthError: Authentication failed for https://api.smith.langchain.com/runs/multipart. HTTPError('401 Client Error: Unauthorized for url: https://api.smith.langchain.com/runs/multipart', '{\"error\":\"Unauthorized\"}\\n')trace=ad38e096-5200-412e-ae58-5c07c9102887,id=ac58fecf-a7fa-4aad-84e3-9e55108484bf; trace=ad38e096-5200-412e-ae58-5c07c9102887,id=4caeda9c-5522-43f6-97ae-dad2023043a3; trace=ad38e096-5200-412e-ae58-5c07c9102887,id=fd719b90-7b63-4c83-8c3f-382606463e2b; trace=ad38e096-5200-412e-ae58-5c07c9102887,id=620c8d12-9e1e-47bf-9ab0-294ef95a2191; trace=ad38e096-5200-412e-ae58-5c07c9102887,id=ad38e096-5200-412e-ae58-5c07c9102887\n",
      "Failed to multipart ingest runs: langsmith.utils.LangSmithAuthError: Authentication failed for https://api.smith.langchain.com/runs/multipart. HTTPError('401 Client Error: Unauthorized for url: https://api.smith.langchain.com/runs/multipart', '{\"error\":\"Unauthorized\"}\\n')trace=8e71fcfa-67a2-466e-9e97-0f2d7c2ee49c,id=8e71fcfa-67a2-466e-9e97-0f2d7c2ee49c; trace=8e71fcfa-67a2-466e-9e97-0f2d7c2ee49c,id=a2451076-fade-4f38-9e98-cdbfeaec1884; trace=8e71fcfa-67a2-466e-9e97-0f2d7c2ee49c,id=7f45ae4a-5799-4287-ad98-c42ca8875e5a; trace=8e71fcfa-67a2-466e-9e97-0f2d7c2ee49c,id=03369f8c-639c-4bbe-a411-234026197e6c; trace=8e71fcfa-67a2-466e-9e97-0f2d7c2ee49c,id=136e5e2c-f6be-430f-b31d-7ca8c61589a1; trace=8e71fcfa-67a2-466e-9e97-0f2d7c2ee49c,id=6fb91814-2f37-4a7e-b387-faf0804f66f4; trace=8e71fcfa-67a2-466e-9e97-0f2d7c2ee49c,id=0efc7845-c5f3-45c9-a199-d296b33f692c; trace=8e71fcfa-67a2-466e-9e97-0f2d7c2ee49c,id=74f1309e-7292-4cae-b1b5-d9ae72713228; trace=8e71fcfa-67a2-466e-9e97-0f2d7c2ee49c,id=d5a21d93-f810-4207-b829-fb9e45f5967e\n",
      "Failed to multipart ingest runs: langsmith.utils.LangSmithAuthError: Authentication failed for https://api.smith.langchain.com/runs/multipart. HTTPError('401 Client Error: Unauthorized for url: https://api.smith.langchain.com/runs/multipart', '{\"error\":\"Unauthorized\"}\\n')trace=8e71fcfa-67a2-466e-9e97-0f2d7c2ee49c,id=d5a21d93-f810-4207-b829-fb9e45f5967e; trace=8e71fcfa-67a2-466e-9e97-0f2d7c2ee49c,id=0efc7845-c5f3-45c9-a199-d296b33f692c; trace=8e71fcfa-67a2-466e-9e97-0f2d7c2ee49c,id=6fb91814-2f37-4a7e-b387-faf0804f66f4; trace=8e71fcfa-67a2-466e-9e97-0f2d7c2ee49c,id=136e5e2c-f6be-430f-b31d-7ca8c61589a1; trace=8e71fcfa-67a2-466e-9e97-0f2d7c2ee49c,id=8e71fcfa-67a2-466e-9e97-0f2d7c2ee49c\n",
      "Failed to multipart ingest runs: langsmith.utils.LangSmithAuthError: Authentication failed for https://api.smith.langchain.com/runs/multipart. HTTPError('401 Client Error: Unauthorized for url: https://api.smith.langchain.com/runs/multipart', '{\"error\":\"Unauthorized\"}\\n')trace=6cb08e4c-2844-49ad-b842-3db98b33b1b5,id=6cb08e4c-2844-49ad-b842-3db98b33b1b5; trace=6cb08e4c-2844-49ad-b842-3db98b33b1b5,id=0250c739-cb1e-4678-a537-a8074cdcc367; trace=6cb08e4c-2844-49ad-b842-3db98b33b1b5,id=9bb8da75-4668-438f-8400-f712d23450aa; trace=6cb08e4c-2844-49ad-b842-3db98b33b1b5,id=46e24df9-d6fe-48d6-93fd-a73a87ccee12; trace=6cb08e4c-2844-49ad-b842-3db98b33b1b5,id=a3c3cfe6-568c-4482-b80b-28c11d5d36a7; trace=6cb08e4c-2844-49ad-b842-3db98b33b1b5,id=7d16f61d-593c-40df-9237-7942122426d4; trace=6cb08e4c-2844-49ad-b842-3db98b33b1b5,id=4156e5d4-05ec-45ca-a6b9-060626f5f3a5; trace=6cb08e4c-2844-49ad-b842-3db98b33b1b5,id=5aec47c6-b277-40e1-811c-dad58a9ff201; trace=6cb08e4c-2844-49ad-b842-3db98b33b1b5,id=9834eebc-f555-436d-997f-3a33eb7af001\n",
      "Failed to multipart ingest runs: langsmith.utils.LangSmithAuthError: Authentication failed for https://api.smith.langchain.com/runs/multipart. HTTPError('401 Client Error: Unauthorized for url: https://api.smith.langchain.com/runs/multipart', '{\"error\":\"Unauthorized\"}\\n')trace=6cb08e4c-2844-49ad-b842-3db98b33b1b5,id=b8f48a8d-432f-4ea0-90c3-da9a07b47689; trace=6cb08e4c-2844-49ad-b842-3db98b33b1b5,id=ab0ad390-d576-48e4-84f9-9055f6677611; trace=6cb08e4c-2844-49ad-b842-3db98b33b1b5,id=a3c3cfe6-568c-4482-b80b-28c11d5d36a7; trace=6cb08e4c-2844-49ad-b842-3db98b33b1b5,id=7d16f61d-593c-40df-9237-7942122426d4; trace=6cb08e4c-2844-49ad-b842-3db98b33b1b5,id=4156e5d4-05ec-45ca-a6b9-060626f5f3a5; trace=6cb08e4c-2844-49ad-b842-3db98b33b1b5,id=9834eebc-f555-436d-997f-3a33eb7af001; trace=6cb08e4c-2844-49ad-b842-3db98b33b1b5,id=6cb08e4c-2844-49ad-b842-3db98b33b1b5\n",
      "Failed to multipart ingest runs: langsmith.utils.LangSmithAuthError: Authentication failed for https://api.smith.langchain.com/runs/multipart. HTTPError('401 Client Error: Unauthorized for url: https://api.smith.langchain.com/runs/multipart', '{\"error\":\"Unauthorized\"}\\n')trace=2b3f1e36-9c3d-4ff0-9a1f-5a1e6b563ea8,id=2b3f1e36-9c3d-4ff0-9a1f-5a1e6b563ea8; trace=2b3f1e36-9c3d-4ff0-9a1f-5a1e6b563ea8,id=d597ac10-6ccb-4451-afcb-2b5bebc5e28d; trace=2b3f1e36-9c3d-4ff0-9a1f-5a1e6b563ea8,id=88bec142-a7c4-4e77-ba5d-88bf8e41cdc6; trace=2b3f1e36-9c3d-4ff0-9a1f-5a1e6b563ea8,id=320b179a-7989-46ef-8dc1-b2aa0f5a3832; trace=2b3f1e36-9c3d-4ff0-9a1f-5a1e6b563ea8,id=e6ebfb9a-1ba4-4bf8-861e-ddfa1fa75648; trace=2b3f1e36-9c3d-4ff0-9a1f-5a1e6b563ea8,id=dc44359f-328f-4063-ba62-724564391328; trace=2b3f1e36-9c3d-4ff0-9a1f-5a1e6b563ea8,id=0905fcf5-8977-4928-abe2-fd8689e67ce8; trace=2b3f1e36-9c3d-4ff0-9a1f-5a1e6b563ea8,id=9d46153d-6001-417b-a75d-86eed568b2cc; trace=2b3f1e36-9c3d-4ff0-9a1f-5a1e6b563ea8,id=09bb54f1-856d-49ef-b854-ae81db2208c2\n",
      "Failed to multipart ingest runs: langsmith.utils.LangSmithAuthError: Authentication failed for https://api.smith.langchain.com/runs/multipart. HTTPError('401 Client Error: Unauthorized for url: https://api.smith.langchain.com/runs/multipart', '{\"error\":\"Unauthorized\"}\\n')trace=2b3f1e36-9c3d-4ff0-9a1f-5a1e6b563ea8,id=2b3f1e36-9c3d-4ff0-9a1f-5a1e6b563ea8; trace=2b3f1e36-9c3d-4ff0-9a1f-5a1e6b563ea8,id=e6ebfb9a-1ba4-4bf8-861e-ddfa1fa75648; trace=2b3f1e36-9c3d-4ff0-9a1f-5a1e6b563ea8,id=dc44359f-328f-4063-ba62-724564391328; trace=2b3f1e36-9c3d-4ff0-9a1f-5a1e6b563ea8,id=0905fcf5-8977-4928-abe2-fd8689e67ce8; trace=2b3f1e36-9c3d-4ff0-9a1f-5a1e6b563ea8,id=09bb54f1-856d-49ef-b854-ae81db2208c2\n",
      "Failed to multipart ingest runs: langsmith.utils.LangSmithAuthError: Authentication failed for https://api.smith.langchain.com/runs/multipart. HTTPError('401 Client Error: Unauthorized for url: https://api.smith.langchain.com/runs/multipart', '{\"error\":\"Unauthorized\"}\\n')trace=fa9fb85e-7734-4a1b-9cf3-3321982fc4fa,id=fa9fb85e-7734-4a1b-9cf3-3321982fc4fa; trace=fa9fb85e-7734-4a1b-9cf3-3321982fc4fa,id=258e14a1-0d63-4f53-8b7f-d5906e319afc; trace=fa9fb85e-7734-4a1b-9cf3-3321982fc4fa,id=c531d593-28f1-4ad1-8c4d-95fffeb4b3d2; trace=fa9fb85e-7734-4a1b-9cf3-3321982fc4fa,id=6bac825f-e963-4b99-9567-423c50d4aba5; trace=fa9fb85e-7734-4a1b-9cf3-3321982fc4fa,id=382c34f3-9ecd-4351-a7c4-122c4247a050; trace=fa9fb85e-7734-4a1b-9cf3-3321982fc4fa,id=f223bee3-9428-4215-8273-31cabf7c92bf; trace=fa9fb85e-7734-4a1b-9cf3-3321982fc4fa,id=7180d5e3-1b97-40f9-8ab8-9415fda9a80a; trace=fa9fb85e-7734-4a1b-9cf3-3321982fc4fa,id=00a1d816-c462-46fb-829e-aa19ce605dfb; trace=fa9fb85e-7734-4a1b-9cf3-3321982fc4fa,id=9c1c7a8b-be41-48f9-99fe-02c7e72dc291\n",
      "Failed to multipart ingest runs: langsmith.utils.LangSmithAuthError: Authentication failed for https://api.smith.langchain.com/runs/multipart. HTTPError('401 Client Error: Unauthorized for url: https://api.smith.langchain.com/runs/multipart', '{\"error\":\"Unauthorized\"}\\n')trace=fa9fb85e-7734-4a1b-9cf3-3321982fc4fa,id=382c34f3-9ecd-4351-a7c4-122c4247a050; trace=fa9fb85e-7734-4a1b-9cf3-3321982fc4fa,id=f223bee3-9428-4215-8273-31cabf7c92bf; trace=fa9fb85e-7734-4a1b-9cf3-3321982fc4fa,id=7180d5e3-1b97-40f9-8ab8-9415fda9a80a; trace=fa9fb85e-7734-4a1b-9cf3-3321982fc4fa,id=9c1c7a8b-be41-48f9-99fe-02c7e72dc291; trace=fa9fb85e-7734-4a1b-9cf3-3321982fc4fa,id=fa9fb85e-7734-4a1b-9cf3-3321982fc4fa\n",
      "Failed to multipart ingest runs: langsmith.utils.LangSmithAuthError: Authentication failed for https://api.smith.langchain.com/runs/multipart. HTTPError('401 Client Error: Unauthorized for url: https://api.smith.langchain.com/runs/multipart', '{\"error\":\"Unauthorized\"}\\n')trace=6da8ea41-c52a-4142-b1ba-280a04f5fbd6,id=6da8ea41-c52a-4142-b1ba-280a04f5fbd6; trace=6da8ea41-c52a-4142-b1ba-280a04f5fbd6,id=200a3503-cf83-4d88-a4e3-ef6b7d5bd245; trace=6da8ea41-c52a-4142-b1ba-280a04f5fbd6,id=0a441c56-0667-4c10-aead-bbbc0887d273; trace=6da8ea41-c52a-4142-b1ba-280a04f5fbd6,id=6c39c310-7115-4c5c-a3d6-6c1f329c2225; trace=6da8ea41-c52a-4142-b1ba-280a04f5fbd6,id=d3ff7e5c-6e2c-4c30-9f6b-5dd2d879a03e; trace=6da8ea41-c52a-4142-b1ba-280a04f5fbd6,id=1878d1dd-8a0c-40a7-b2f7-c6fbbfbf1953; trace=6da8ea41-c52a-4142-b1ba-280a04f5fbd6,id=83b4c2a5-2425-44fd-973e-a565e36fd050; trace=6da8ea41-c52a-4142-b1ba-280a04f5fbd6,id=a30c9a18-2547-4141-a6bc-7ae20367d8d4; trace=6da8ea41-c52a-4142-b1ba-280a04f5fbd6,id=8a2056a5-5ef1-4ef8-908e-4bbc874317ef\n",
      "Failed to multipart ingest runs: langsmith.utils.LangSmithAuthError: Authentication failed for https://api.smith.langchain.com/runs/multipart. HTTPError('401 Client Error: Unauthorized for url: https://api.smith.langchain.com/runs/multipart', '{\"error\":\"Unauthorized\"}\\n')trace=6da8ea41-c52a-4142-b1ba-280a04f5fbd6,id=6da8ea41-c52a-4142-b1ba-280a04f5fbd6; trace=6da8ea41-c52a-4142-b1ba-280a04f5fbd6,id=d3ff7e5c-6e2c-4c30-9f6b-5dd2d879a03e; trace=6da8ea41-c52a-4142-b1ba-280a04f5fbd6,id=1878d1dd-8a0c-40a7-b2f7-c6fbbfbf1953; trace=6da8ea41-c52a-4142-b1ba-280a04f5fbd6,id=83b4c2a5-2425-44fd-973e-a565e36fd050; trace=6da8ea41-c52a-4142-b1ba-280a04f5fbd6,id=8a2056a5-5ef1-4ef8-908e-4bbc874317ef\n",
      "Failed to multipart ingest runs: langsmith.utils.LangSmithAuthError: Authentication failed for https://api.smith.langchain.com/runs/multipart. HTTPError('401 Client Error: Unauthorized for url: https://api.smith.langchain.com/runs/multipart', '{\"error\":\"Unauthorized\"}\\n')trace=b8d678e4-cdc4-4ed7-a133-317946f54791,id=b8d678e4-cdc4-4ed7-a133-317946f54791; trace=b8d678e4-cdc4-4ed7-a133-317946f54791,id=76f9c370-71d9-4b04-aa15-6ff42a2ef5a2; trace=b8d678e4-cdc4-4ed7-a133-317946f54791,id=6986f6a9-442a-4e9c-ae9f-401d4c491221; trace=b8d678e4-cdc4-4ed7-a133-317946f54791,id=03a47968-054e-4248-b79c-ca977559ecf6; trace=b8d678e4-cdc4-4ed7-a133-317946f54791,id=537e3d60-fa4f-466f-9518-49a453a3e43b; trace=b8d678e4-cdc4-4ed7-a133-317946f54791,id=1851d44f-84e9-4dc1-aa8b-50817ad796ce; trace=b8d678e4-cdc4-4ed7-a133-317946f54791,id=ba6011cb-0a0e-4eb3-bf9f-2c425b2615b8; trace=b8d678e4-cdc4-4ed7-a133-317946f54791,id=c46ddae3-5a62-4549-af9b-2e37fad45f74; trace=b8d678e4-cdc4-4ed7-a133-317946f54791,id=cc83d668-4662-4731-a39a-c6956420f97a\n",
      "Failed to multipart ingest runs: langsmith.utils.LangSmithAuthError: Authentication failed for https://api.smith.langchain.com/runs/multipart. HTTPError('401 Client Error: Unauthorized for url: https://api.smith.langchain.com/runs/multipart', '{\"error\":\"Unauthorized\"}\\n')trace=b8d678e4-cdc4-4ed7-a133-317946f54791,id=537e3d60-fa4f-466f-9518-49a453a3e43b; trace=b8d678e4-cdc4-4ed7-a133-317946f54791,id=1851d44f-84e9-4dc1-aa8b-50817ad796ce; trace=b8d678e4-cdc4-4ed7-a133-317946f54791,id=ba6011cb-0a0e-4eb3-bf9f-2c425b2615b8; trace=b8d678e4-cdc4-4ed7-a133-317946f54791,id=cc83d668-4662-4731-a39a-c6956420f97a; trace=b8d678e4-cdc4-4ed7-a133-317946f54791,id=b8d678e4-cdc4-4ed7-a133-317946f54791\n",
      "Failed to multipart ingest runs: langsmith.utils.LangSmithAuthError: Authentication failed for https://api.smith.langchain.com/runs/multipart. HTTPError('401 Client Error: Unauthorized for url: https://api.smith.langchain.com/runs/multipart', '{\"error\":\"Unauthorized\"}\\n')trace=a9d3e019-f50a-44b3-b9d4-32c22d2f6c99,id=a9d3e019-f50a-44b3-b9d4-32c22d2f6c99; trace=a9d3e019-f50a-44b3-b9d4-32c22d2f6c99,id=7fb496dd-3777-43f2-80ea-8911cc10c5c5; trace=a9d3e019-f50a-44b3-b9d4-32c22d2f6c99,id=88445a68-de60-4bce-8132-2ebb28be0b9a; trace=a9d3e019-f50a-44b3-b9d4-32c22d2f6c99,id=dfb7e2aa-6abe-45b8-aeaf-b1e17b4ba870; trace=a9d3e019-f50a-44b3-b9d4-32c22d2f6c99,id=b6a9526c-d37f-4be0-a696-a26d1f76dee9; trace=a9d3e019-f50a-44b3-b9d4-32c22d2f6c99,id=ff390baf-9da1-4f0e-89f0-b54db26711b9; trace=a9d3e019-f50a-44b3-b9d4-32c22d2f6c99,id=6c0cfb84-fc9b-4463-9d62-c1f8c60e6e62; trace=a9d3e019-f50a-44b3-b9d4-32c22d2f6c99,id=da4d230f-6bc8-49f9-b0ae-f8d8a08ee95c; trace=a9d3e019-f50a-44b3-b9d4-32c22d2f6c99,id=a644b432-c9bf-41ba-b34b-cc91c7bb68f6\n",
      "Failed to multipart ingest runs: langsmith.utils.LangSmithAuthError: Authentication failed for https://api.smith.langchain.com/runs/multipart. HTTPError('401 Client Error: Unauthorized for url: https://api.smith.langchain.com/runs/multipart', '{\"error\":\"Unauthorized\"}\\n')trace=a9d3e019-f50a-44b3-b9d4-32c22d2f6c99,id=a9131640-90ab-47c7-8b9d-c626059c1687; trace=a9d3e019-f50a-44b3-b9d4-32c22d2f6c99,id=b10292a3-7dd7-4cc2-93cb-a2a981a1717b; trace=a9d3e019-f50a-44b3-b9d4-32c22d2f6c99,id=b6a9526c-d37f-4be0-a696-a26d1f76dee9; trace=a9d3e019-f50a-44b3-b9d4-32c22d2f6c99,id=ff390baf-9da1-4f0e-89f0-b54db26711b9; trace=a9d3e019-f50a-44b3-b9d4-32c22d2f6c99,id=6c0cfb84-fc9b-4463-9d62-c1f8c60e6e62; trace=a9d3e019-f50a-44b3-b9d4-32c22d2f6c99,id=a644b432-c9bf-41ba-b34b-cc91c7bb68f6; trace=a9d3e019-f50a-44b3-b9d4-32c22d2f6c99,id=a9d3e019-f50a-44b3-b9d4-32c22d2f6c99\n"
     ]
    }
   ],
   "source": [
    "response = graph.invoke({\"question\":\"What is Task Decomposition?\"})\n",
    "print(response[\"answer\"])"
   ]
  },
  {
   "cell_type": "markdown",
   "id": "548b9dc6",
   "metadata": {},
   "source": [
    "##### To visualize the control flow of the application"
   ]
  },
  {
   "cell_type": "code",
   "execution_count": 24,
   "id": "619f6b3f",
   "metadata": {},
   "outputs": [
    {
     "data": {
      "image/png": "[encoded data removed]",
      "text/plain": [
       "<IPython.core.display.Image object>"
      ]
     },
     "metadata": {},
     "output_type": "display_data"
    }
   ],
   "source": [
    "from IPython.display import Image, display\n",
    "\n",
    "display(Image(graph.get_graph().draw_mermaid_png()))"
   ]
  },
  {
   "cell_type": "markdown",
   "id": "e84f2ef1",
   "metadata": {},
   "source": [
    "#### Query Analysis"
   ]
  },
  {
   "cell_type": "markdown",
   "id": "893f4a42",
   "metadata": {},
   "source": [
    "* This employs models to transform the raw user query into structured / more optimized format"
   ]
  },
  {
   "cell_type": "code",
   "execution_count": 25,
   "id": "cafedbe7",
   "metadata": {},
   "outputs": [
    {
     "data": {
      "text/plain": [
       "22"
      ]
     },
     "execution_count": 25,
     "metadata": {},
     "output_type": "execute_result"
    }
   ],
   "source": [
    "total_documents =len(all_splits)\n",
    "third = total_documents // 3\n",
    "third"
   ]
  },
  {
   "cell_type": "code",
   "execution_count": 26,
   "id": "f0fce82a",
   "metadata": {},
   "outputs": [
    {
     "data": {
      "text/plain": [
       "{'source': 'https://lilianweng.github.io/posts/2023-06-23-agent/',\n",
       " 'start_index': 8}"
      ]
     },
     "execution_count": 26,
     "metadata": {},
     "output_type": "execute_result"
    }
   ],
   "source": [
    "all_splits[0].metadata"
   ]
  },
  {
   "cell_type": "code",
   "execution_count": 27,
   "id": "a00304e8",
   "metadata": {},
   "outputs": [],
   "source": [
    "for idx, doc in enumerate(all_splits):\n",
    "    if idx<third:\n",
    "        doc.metadata[\"section\"] = 'beginning'\n",
    "    elif idx<third*2:\n",
    "        doc.metadata[\"section\"] = 'middle'\n",
    "    else:\n",
    "        doc.metadata[\"section\"] = 'end'"
   ]
  },
  {
   "cell_type": "code",
   "execution_count": 28,
   "id": "063afca5",
   "metadata": {},
   "outputs": [
    {
     "data": {
      "text/plain": [
       "{'source': 'https://lilianweng.github.io/posts/2023-06-23-agent/',\n",
       " 'start_index': 8,\n",
       " 'section': 'beginning'}"
      ]
     },
     "execution_count": 28,
     "metadata": {},
     "output_type": "execute_result"
    }
   ],
   "source": [
    "all_splits[0].metadata"
   ]
  },
  {
   "cell_type": "markdown",
   "id": "feca4a85",
   "metadata": {},
   "source": [
    "##### Define schema for search query"
   ]
  },
  {
   "cell_type": "code",
   "execution_count": 29,
   "id": "0090d97b",
   "metadata": {},
   "outputs": [],
   "source": [
    "from typing import Literal\n",
    "from typing_extensions import Annotated"
   ]
  },
  {
   "cell_type": "markdown",
   "id": "e3ff9230",
   "metadata": {},
   "source": [
    "* This defines a schema for what the LLM should extract from the user’s question:\n",
    "\n",
    "* query: what to search for.\n",
    "\n",
    "* section: which part of the document is relevant (beginning, middle, end).\n",
    "\n",
    "Based on the user question, LLM tries to find the section of the relevant chunk and retrieves based on the similarity , instead of just checking all the chunks \n",
    "\n",
    "Pre-filter chunks using metadata "
   ]
  },
  {
   "cell_type": "code",
   "execution_count": 30,
   "id": "2e408ac2",
   "metadata": {},
   "outputs": [],
   "source": [
    "from pydantic import BaseModel\n",
    "from typing import Literal\n",
    "\n",
    "\n",
    "class Search(BaseModel):\n",
    "    query: str\n",
    "    section: Literal[\"beginning\", \"middle\", \"end\"]"
   ]
  },
  {
   "cell_type": "code",
   "execution_count": 31,
   "id": "9aa83f08",
   "metadata": {},
   "outputs": [],
   "source": [
    "# class Search(TypedDict):\n",
    "#     query : Annotated[str,...,\"Search query to run.\"]\n",
    "#     section: Annotated[\n",
    "#         Literal[\"beginning\",\"middle\",\"end\"],\n",
    "#         ...,\"Section to query\",\n",
    "#     ]\n",
    "\n",
    "\n",
    "class State(TypedDict):\n",
    "    question: str\n",
    "    query: dict  # or Search if you want to keep it typed as the Pydantic model\n",
    "    context: List[Document]\n",
    "    answer: str"
   ]
  },
  {
   "cell_type": "code",
   "execution_count": 60,
   "id": "7f7bf7e2",
   "metadata": {},
   "outputs": [],
   "source": [
    "def analyze_query(state : State):\n",
    "    structured_llm = llm.with_structured_output(Search)\n",
    "    query = structured_llm.invoke(state[\"question\"])\n",
    "    print(\"Raw LLM output:\",query)\n",
    "    if query is None:\n",
    "        raise ValueError(\n",
    "            \"LLM failed to return structured output. Try checking prompt or schema.\"\n",
    "        )\n",
    "\n",
    "    return {\"query\": query.dict()}\n",
    "\n",
    "def retrieve(state: State):\n",
    "    query = state[\"query\"]\n",
    "    retrieved_docs = vector_store.similarity_search(query[\"query\"],filter=lambda doc: doc.metadata.get(\"section\") == query[\"section\"],)\n",
    "    \n",
    "    return {\"context\": retrieved_docs}\n",
    "\n",
    "def generate(state:State):\n",
    "    docs_content = \"\\n\\n\".join([doc.page_content for doc in state[\"context\"]])\n",
    "    messages = prompt.invoke({\"question\": state[\"question\"], \"context\": docs_content})\n",
    "    response = llm.invoke(messages)\n",
    "    return {\"answer\":response.content}\n",
    "\n",
    "graph_builder = StateGraph(State).add_sequence([analyze_query,retrieve, generate])\n",
    "graph_builder.add_edge(START, \"analyze_query\")\n",
    "graph = graph_builder.compile()"
   ]
  },
  {
   "cell_type": "code",
   "execution_count": 62,
   "id": "456afa83",
   "metadata": {},
   "outputs": [
    {
     "data": {
      "image/png": "[encoded data removed]",
      "text/plain": [
       "<IPython.core.display.Image object>"
      ]
     },
     "metadata": {},
     "output_type": "display_data"
    }
   ],
   "source": [
    "display(Image(graph.get_graph().draw_mermaid_png()))"
   ]
  },
  {
   "cell_type": "code",
   "execution_count": 87,
   "id": "c1b643e8",
   "metadata": {},
   "outputs": [],
   "source": [
    "from typing import List, TypedDict, Literal\n",
    "from langchain_core.documents import Document\n",
    "from langchain_core.vectorstores import InMemoryVectorStore\n",
    "from langchain_core.prompts import ChatPromptTemplate\n",
    "from pydantic import BaseModel, Field\n",
    "from langchain import hub\n",
    "from PIL import Image  # only needed if you want to visualize the graph\n",
    "from langgraph.graph import StateGraph, START\n",
    "from langchain_core.runnables import Runnable"
   ]
  },
  {
   "cell_type": "code",
   "execution_count": null,
   "id": "9083f273",
   "metadata": {},
   "outputs": [
    {
     "name": "stdout",
     "output_type": "stream",
     "text": [
      "structured_llm: first=RunnableBinding(bound=ChatNVIDIA(base_url='https://integrate.api.nvidia.com/v1', model='meta/llama3-70b-instruct'), kwargs={'nvext': {'guided_json': {'properties': {'query': {'title': 'Query', 'type': 'string'}, 'section': {'enum': ['beginning', 'middle', 'end'], 'title': 'Section', 'type': 'string'}}, 'required': ['query', 'section'], 'title': 'Search', 'type': 'object'}}}, config={}, config_factories=[]) middle=[] last=ForgivingPydanticOutputParser(pydantic_object=<class '__main__.Search'>)\n",
      "Query: query='Task Decomposition' section='middle'\n",
      "✅ Structured query: query='Task Decomposition' section='middle'\n",
      "{'analyze_query': {'query': Search(query='Task Decomposition', section='middle')}}\n",
      "\n",
      "----------------\n",
      "\n",
      "{'retrieve': {'context': [Document(id='66b0bc8b-4bc9-467e-b6b5-9c82d4b1fd4d', metadata={'source': 'https://lilianweng.github.io/posts/2023-06-23-agent/', 'start_index': 17413, 'section': 'middle'}, page_content='Fig. 11. Illustration of how HuggingGPT works. (Image source: Shen et al. 2023)\\nThe system comprises of 4 stages:\\n(1) Task planning: LLM works as the brain and parses the user requests into multiple tasks. There are four attributes associated with each task: task type, ID, dependencies, and arguments. They use few-shot examples to guide LLM to do task parsing and planning.\\nInstruction:'), Document(id='4d233e59-b485-46aa-9cc2-2bfc1f26ad8f', metadata={'source': 'https://lilianweng.github.io/posts/2023-06-23-agent/', 'start_index': 29629, 'section': 'middle'}, page_content='Resources:\\n1. Internet access for searches and information gathering.\\n2. Long Term memory management.\\n3. GPT-3.5 powered Agents for delegation of simple tasks.\\n4. File output.\\n\\nPerformance Evaluation:\\n1. Continuously review and analyze your actions to ensure you are performing to the best of your abilities.\\n2. Constructively self-criticize your big-picture behavior constantly.\\n3. Reflect on past decisions and strategies to refine your approach.\\n4. Every command has a cost, so be smart and efficient. Aim to complete tasks in the least number of steps.'), Document(id='e7209e2b-64a9-4433-b776-04802d584b96', metadata={'source': 'https://lilianweng.github.io/posts/2023-06-23-agent/', 'start_index': 18660, 'section': 'middle'}, page_content='(2) Model selection: LLM distributes the tasks to expert models, where the request is framed as a multiple-choice question. LLM is presented with a list of models to choose from. Due to the limited context length, task type based filtration is needed.\\nInstruction:\\n\\nGiven the user request and the call command, the AI assistant helps the user to select a suitable model from a list of models to process the user request. The AI assistant merely outputs the model id of the most appropriate model. The output must be in a strict JSON format: \"id\": \"id\", \"reason\": \"your detail reason for the choice\". We have a list of models for you to choose from {{ Candidate Models }}. Please select one model from the list.\\n\\n(3) Task execution: Expert models execute on the specific tasks and log results.\\nInstruction:'), Document(id='96754418-75ba-4fd2-b7be-5ede3f6d53a8', metadata={'source': 'https://lilianweng.github.io/posts/2023-06-23-agent/', 'start_index': 19372, 'section': 'middle'}, page_content=\"(3) Task execution: Expert models execute on the specific tasks and log results.\\nInstruction:\\n\\nWith the input and the inference results, the AI assistant needs to describe the process and results. The previous stages can be formed as - User Input: {{ User Input }}, Task Planning: {{ Tasks }}, Model Selection: {{ Model Assignment }}, Task Execution: {{ Predictions }}. You must first answer the user's request in a straightforward manner. Then describe the task process and show your analysis and model inference results to the user in the first person. If inference results contain a file path, must tell the user the complete file path.\")]}}\n",
      "\n",
      "----------------\n",
      "\n",
      "{'generate': {'answer': 'The post says that Task Decomposition, referred to as \"Task Planning\", involves parsing user requests into multiple tasks with associated attributes, guided by few-shot examples.'}}\n",
      "\n",
      "----------------\n",
      "\n"
     ]
    }
   ],
   "source": [
    "total_documents = len(all_splits)\n",
    "third = total_documents // 3\n",
    "\n",
    "for i, document in enumerate(all_splits):\n",
    "    if i < third:\n",
    "        document.metadata[\"section\"] = \"beginning\"\n",
    "    elif i < 2 * third:\n",
    "        document.metadata[\"section\"] = \"middle\"\n",
    "    else:\n",
    "        document.metadata[\"section\"] = \"end\"\n",
    "\n",
    "from langchain_core.vectorstores import InMemoryVectorStore\n",
    "\n",
    "vector_store = InMemoryVectorStore(embeddings)\n",
    "_ = vector_store.add_documents(all_splits)\n",
    "\n",
    "from pydantic import BaseModel, Field\n",
    "from typing import Literal, Optional\n",
    "\n",
    "\n",
    "class Search(BaseModel):\n",
    "    query: str = Field(..., description=\"Search query to run.\") \n",
    "    section: Literal[\"beginning\", \"middle\", \"end\"] = Field(\n",
    "        ..., description=\"Section to query.\"\n",
    "    ) # Field(...) says this is a required field # Literal is a type alias that represents a fixed set of values\n",
    "\n",
    "\n",
    "\n",
    "# Define prompt for question-answering\n",
    "prompt = hub.pull(\"rlm/rag-prompt\")\n",
    "\n",
    "class State(TypedDict):\n",
    "    question: str\n",
    "    query: Search\n",
    "    context: List[Document]\n",
    "    answer: str\n",
    "\n",
    "\n",
    "def analyze_query(state: State):\n",
    "    from langchain_core.prompts import ChatPromptTemplate\n",
    "    from langchain_core.messages import HumanMessage, SystemMessage\n",
    "\n",
    "    # Custom prompt for structured query extraction\n",
    "    system_msg = (\n",
    "        \"You are a helpful assistant that extracts structured data from questions. \"\n",
    "        \"Given a user's question, extract the search query and whether the answer should be \"\n",
    "        \"from the beginning, middle, or end of a document. \"\n",
    "        \"Respond strictly in this JSON format:\\n\"\n",
    "        '{ \"query\": \"<search terms>\", \"section\": \"beginning|middle|end\" }' \n",
    "        \"Always say 'thanks for asking!' at the end of the answer.\"\n",
    "    )\n",
    "\n",
    "    # Format messages manually instead of using .invoke()\n",
    "    messages = [\n",
    "        SystemMessage(content=system_msg),\n",
    "        HumanMessage(content=state[\"question\"]),\n",
    "    ]\n",
    "\n",
    "    # Now bind the LLM with only the schema (not a prompt)\n",
    "    structured_llm = llm.with_structured_output(Search)\n",
    "    print(\"structured_llm:\",structured_llm)\n",
    "    try:\n",
    "        # Call the LLM with the messages\n",
    "        query = structured_llm.invoke(messages)\n",
    "        print(\"Query:\",query)\n",
    "        if query is None:\n",
    "            raise ValueError(\"Structured LLM returned None. Likely a parsing issue.\")\n",
    "\n",
    "        print(\"✅ Structured query:\", query)\n",
    "        return {\"query\": query}\n",
    "\n",
    "    except Exception as e:\n",
    "        print(\"⚠️ Structured output parsing failed.\")\n",
    "        raw_response = llm.invoke(messages)\n",
    "        print(\"🔍 Raw LLM output:\\n\", raw_response)\n",
    "        raise e\n",
    "\n",
    "\n",
    "# Define retrieve node\n",
    "def retrieve(state: State):\n",
    "    query = state[\"query\"]\n",
    "    retrieved_docs = vector_store.similarity_search(\n",
    "        query.query,\n",
    "        filter=lambda doc: doc.metadata.get(\"section\") == query.section,\n",
    "    )\n",
    "    return {\"context\": retrieved_docs}\n",
    "\n",
    "\n",
    "# Define generate node\n",
    "def generate(state: State):\n",
    "    docs_content = \"\\n\\n\".join(doc.page_content for doc in state[\"context\"])\n",
    "    messages = prompt.invoke({\"question\": state[\"question\"], \"context\": docs_content})\n",
    "    response = llm.invoke(messages)\n",
    "    return {\"answer\": response.content}\n",
    "\n",
    "\n",
    "# Build LangGraph\n",
    "graph_builder = StateGraph(State).add_sequence([analyze_query, retrieve, generate])\n",
    "graph_builder.add_edge(START, \"analyze_query\")\n",
    "graph = graph_builder.compile()\n",
    "\n",
    "# Run the graph\n",
    "for step in graph.stream(\n",
    "    {\"question\": \"What does the post say about Task Decomposition in 15-20 words?\"},\n",
    "    stream_mode=\"updates\",\n",
    "):\n",
    "    print(f\"{step}\\n\\n----------------\\n\")"
   ]
  },
  {
   "cell_type": "code",
   "execution_count": 106,
   "id": "515a2533",
   "metadata": {},
   "outputs": [],
   "source": [
    "# class car:\n",
    "#     def __init__(self,color,doors):\n",
    "#         self.color=color\n",
    "#         self.doors=doors\n",
    "#     def honk(self):\n",
    "#         print(\"Beep!\")"
   ]
  },
  {
   "cell_type": "code",
   "execution_count": 32,
   "id": "131468b6",
   "metadata": {},
   "outputs": [],
   "source": [
    "import bs4\n",
    "from langchain import hub\n",
    "from langchain_community.document_loaders import WebBaseLoader\n",
    "from langchain_core.documents import Document\n",
    "from langchain_text_splitters import RecursiveCharacterTextSplitter\n",
    "from langgraph.graph import START, StateGraph\n",
    "from typing_extensions import List, TypedDict\n",
    "from typing import List, TypedDict, Literal\n",
    "from langchain_core.documents import Document\n",
    "from langchain_core.vectorstores import InMemoryVectorStore\n",
    "from langchain_core.prompts import ChatPromptTemplate\n",
    "from pydantic import BaseModel, Field\n",
    "from langchain import hub\n",
    "from PIL import Image  # only needed if you want to visualize the graph\n",
    "from langchain_core.runnables import Runnable\n",
    "from langchain_core.messages import HumanMessage, SystemMessage"
   ]
  },
  {
   "cell_type": "code",
   "execution_count": 34,
   "id": "d127574b",
   "metadata": {},
   "outputs": [
    {
     "name": "stdout",
     "output_type": "stream",
     "text": [
      "Total_characters: 43130\n",
      "Split the blog post into 66 chunks\n",
      "Total embeddings added to vector store: 66\n",
      "Response: Task decomposition is the process of breaking down a complex task into smaller, simpler steps. It involves dividing a big task into multiple manageable tasks to make it easier to understand and complete. This process can be done using various techniques, including chain of thought, tree of thoughts, and simple prompting.\n",
      "{'analyze_query': {'query': Search(query='Task Decomposition', section='beginning')}}\n",
      "\n",
      "----------------\n",
      "\n",
      "{'retrieve': {'context': [Document(id='48e78f2b-969c-4ce5-b84f-3af9a41e887d', metadata={'source': 'https://lilianweng.github.io/posts/2023-06-23-agent/', 'start_index': 1585, 'section': 'beginning'}, page_content='Fig. 1. Overview of a LLM-powered autonomous agent system.\\nComponent One: Planning#\\nA complicated task usually involves many steps. An agent needs to know what they are and plan ahead.\\nTask Decomposition#\\nChain of thought (CoT; Wei et al. 2022) has become a standard prompting technique for enhancing model performance on complex tasks. The model is instructed to “think step by step” to utilize more test-time computation to decompose hard tasks into smaller and simpler steps. CoT transforms big tasks into multiple manageable tasks and shed lights into an interpretation of the model’s thinking process.'), Document(id='c1fa6045-2abf-48c0-a98e-913b57c2b1fc', metadata={'source': 'https://lilianweng.github.io/posts/2023-06-23-agent/', 'start_index': 1585, 'section': 'beginning'}, page_content='Fig. 1. Overview of a LLM-powered autonomous agent system.\\nComponent One: Planning#\\nA complicated task usually involves many steps. An agent needs to know what they are and plan ahead.\\nTask Decomposition#\\nChain of thought (CoT; Wei et al. 2022) has become a standard prompting technique for enhancing model performance on complex tasks. The model is instructed to “think step by step” to utilize more test-time computation to decompose hard tasks into smaller and simpler steps. CoT transforms big tasks into multiple manageable tasks and shed lights into an interpretation of the model’s thinking process.'), Document(id='e953fba8-9aa7-4879-83bf-a55e6734cb8d', metadata={'source': 'https://lilianweng.github.io/posts/2023-06-23-agent/', 'start_index': 1585, 'section': 'beginning'}, page_content='Fig. 1. Overview of a LLM-powered autonomous agent system.\\nComponent One: Planning#\\nA complicated task usually involves many steps. An agent needs to know what they are and plan ahead.\\nTask Decomposition#\\nChain of thought (CoT; Wei et al. 2022) has become a standard prompting technique for enhancing model performance on complex tasks. The model is instructed to “think step by step” to utilize more test-time computation to decompose hard tasks into smaller and simpler steps. CoT transforms big tasks into multiple manageable tasks and shed lights into an interpretation of the model’s thinking process.'), Document(id='f3d9a62a-79b7-4d8f-8226-eac541d53449', metadata={'source': 'https://lilianweng.github.io/posts/2023-06-23-agent/', 'start_index': 2192, 'section': 'beginning'}, page_content='Tree of Thoughts (Yao et al. 2023) extends CoT by exploring multiple reasoning possibilities at each step. It first decomposes the problem into multiple thought steps and generates multiple thoughts per step, creating a tree structure. The search process can be BFS (breadth-first search) or DFS (depth-first search) with each state evaluated by a classifier (via a prompt) or majority vote.\\nTask decomposition can be done (1) by LLM with simple prompting like \"Steps for XYZ.\\\\n1.\", \"What are the subgoals for achieving XYZ?\", (2) by using task-specific instructions; e.g. \"Write a story outline.\" for writing a novel, or (3) with human inputs.')]}}\n",
      "\n",
      "----------------\n",
      "\n",
      "{'generate': {'answer': 'Task decomposition is the process of breaking down a complex task into smaller, simpler steps. It involves dividing a big task into multiple manageable tasks to make it easier to understand and complete. This process can be done using various techniques, including chain of thought, tree of thoughts, and simple prompting.'}}\n",
      "\n",
      "----------------\n",
      "\n"
     ]
    }
   ],
   "source": [
    "# Load the blog post using WebBaseLoader\n",
    "bs4_strainer = bs4.SoupStrainer(class_=(\"post-content\", \"post-title\", \"post-header\"))\n",
    "loader = WebBaseLoader(\n",
    "    web_paths=(\"https://lilianweng.github.io/posts/2023-06-23-agent/\",),\n",
    "    bs_kwargs={\"parse_only\": bs4_strainer},\n",
    ")\n",
    "docs = loader.load()\n",
    "assert len(docs) == 1\n",
    "print(f\"Total_characters: {len(docs[0].page_content)}\")\n",
    "\n",
    "# Split the blog post into chunks\n",
    "text_splitter = RecursiveCharacterTextSplitter(\n",
    "    chunk_size=1000, chunk_overlap=200, add_start_index=True\n",
    ")\n",
    "all_splits = text_splitter.split_documents(docs)\n",
    "print(f\"Split the blog post into {len(all_splits)} chunks\")\n",
    "\n",
    "# Add metadata to each chunk\n",
    "total_documents = len(all_splits)\n",
    "third = total_documents // 3\n",
    "\n",
    "for idx, doc in enumerate(all_splits):\n",
    "    if idx < third:\n",
    "        doc.metadata[\"section\"] = \"beginning\"\n",
    "    elif idx < third * 2:\n",
    "        doc.metadata[\"section\"] = \"middle\"\n",
    "    else:\n",
    "        doc.metadata[\"section\"] = \"end\"\n",
    "\n",
    "# Add the chunks to the vector store\n",
    "document_ids = vector_store.add_documents(all_splits)\n",
    "print(\"Total embeddings added to vector store:\", len(document_ids))\n",
    "\n",
    "# Define search schema\n",
    "class Search(BaseModel):\n",
    "    query: str = Field(..., description=\"Search query to run.\")\n",
    "    section: Literal[\"beginning\", \"middle\", \"end\"] = Field(\n",
    "        ..., description=\"Section to query.\"\n",
    "    )  # Field(...) says this is a required field # Literal is a type alias that represents a fixed set of values\n",
    "\n",
    "\n",
    "# Define prompt for question-answering\n",
    "prompt = hub.pull(\"rlm/rag-prompt\")\n",
    "\n",
    "# Define state\n",
    "class State(TypedDict):\n",
    "    question: str\n",
    "    query: Search\n",
    "    context: List[Document]\n",
    "    answer: str\n",
    "\n",
    "# Define analyze_query node\n",
    "def analyze_query(state: State):\n",
    "\n",
    "   # Custom prompt for structured query extraction\n",
    "    system_msg = (\n",
    "        \"You are a helpful assistant that extracts structured data from questions. \"\n",
    "        \"Given a user's question, extract the search query and whether the answer should be \"\n",
    "        \"from the beginning, middle, or end of a document. \"\n",
    "        \"Respond strictly in this JSON format:\\n\"\n",
    "        '{ \"query\": \"<search terms>\", \"section\": \"beginning|middle|end\" }'\n",
    "        \"Always say 'thanks for asking!' at the end of the answer.\"\n",
    "    )\n",
    "\n",
    "    messages = [\n",
    "        SystemMessage(content=system_msg),\n",
    "        HumanMessage(content=state[\"question\"]),\n",
    "    ]\n",
    "\n",
    "    # Now bind the LLM with only the schema (not a prompt)\n",
    "    structured_llm = llm.with_structured_output(schema = Search)\n",
    "    query = structured_llm.invoke(messages)\n",
    "    return {\"query\": query}\n",
    "\n",
    "\n",
    "# Define retrieve node\n",
    "def retrieve(state: State):\n",
    "    query = state[\"query\"]\n",
    "    retrieved_docs = vector_store.similarity_search(\n",
    "        query.query,\n",
    "        filter=lambda doc: doc.metadata.get(\"section\") == query.section,\n",
    "    )\n",
    "    return {\"context\": retrieved_docs}\n",
    "\n",
    "\n",
    "# Define generate node\n",
    "def generate(state: State):\n",
    "    docs_content = \"\\n\\n\".join(doc.page_content for doc in state[\"context\"])\n",
    "    messages = prompt.invoke({\"question\": state[\"question\"], \"context\": docs_content})\n",
    "    response = llm.invoke(messages)\n",
    "    return {\"answer\": response.content}\n",
    "\n",
    "\n",
    "# Build LangGraph\n",
    "graph_builder = StateGraph(State).add_sequence([analyze_query, retrieve, generate])\n",
    "graph_builder.add_edge(START, \"analyze_query\")\n",
    "graph = graph_builder.compile()\n",
    "\n",
    "# Run the graph \n",
    "response = graph.invoke({\"question\": \"What is Task Decomposition?\"})\n",
    "print(\"Response:\",response[\"answer\"])\n",
    "\n",
    "\n",
    "# Graph stream in steps\n",
    "for step in graph.stream(\n",
    "    {\"question\": \"What is Task Decomposition?\"},\n",
    "    stream_mode=\"updates\",\n",
    "):\n",
    "    print(f\"{step}\\n\\n----------------\\n\")"
   ]
  },
  {
   "cell_type": "markdown",
   "id": "03484eee",
   "metadata": {},
   "source": [
    "### Build a Retrieval Augmented Generation (RAG) App: Part 2"
   ]
  },
  {
   "cell_type": "markdown",
   "id": "bd958828",
   "metadata": {},
   "source": [
    "* Two approaches:\n",
    "\n",
    "    - Chains - we execute at most one retrieval step;\n",
    "    - Agents - in which we give an LLM discretion to execute multiple retrieval steps."
   ]
  },
  {
   "cell_type": "markdown",
   "id": "b3e3cef7",
   "metadata": {},
   "source": [
    "##### Chains"
   ]
  },
  {
   "cell_type": "code",
   "execution_count": 35,
   "id": "7b600911",
   "metadata": {},
   "outputs": [],
   "source": [
    "os.environ['LANGSMITH_TRACING'] = 'true'\n",
    "if os.environ.get(\"LANGSMITH_API_KEY\"):\n",
    "    os.environ['LANGSMITH_API_KEY'] = getpass.getpass()"
   ]
  },
  {
   "cell_type": "code",
   "execution_count": 36,
   "id": "5e0c0c01",
   "metadata": {},
   "outputs": [],
   "source": [
    "from langgraph.graph import MessagesState,StateGraph\n",
    "graph_builder = StateGraph(MessagesState)"
   ]
  },
  {
   "cell_type": "code",
   "execution_count": 37,
   "id": "d0ad982a",
   "metadata": {},
   "outputs": [],
   "source": [
    "from langchain_core.tools import tool\n",
    "\n",
    "@tool(response_format=\"content_and_artifact\")\n",
    "def retrieve(query: str):\n",
    "    \"\"\"Retrieve information related to a query.\"\"\"\n",
    "    retrieved_docs = vector_store.similarity_search(query, k=2)\n",
    "    serialized = \"\\n\\n\".join(\n",
    "        (f\"Source: {doc.metadata}\\n\" f\"Content: {doc.page_content}\")\n",
    "        for doc in retrieved_docs\n",
    "    )\n",
    "    return serialized, retrieved_docs"
   ]
  },
  {
   "cell_type": "markdown",
   "id": "3da2517e",
   "metadata": {},
   "source": [
    "* User input as - HumanMessage\n",
    "* Vector store query as - AIMessage with tool calls\n",
    "* Retrieved documents as - ToolMessage\n",
    "* Final response as - AIMessage"
   ]
  },
  {
   "cell_type": "markdown",
   "id": "32eeaaa2",
   "metadata": {},
   "source": [
    "* We leverage another pre-built LangGraph component - ToolNode, that executes the tool and adds the result as a ToolMessage to the state."
   ]
  },
  {
   "cell_type": "code",
   "execution_count": 38,
   "id": "2fefd0dc",
   "metadata": {},
   "outputs": [],
   "source": [
    "from langchain_core.messages import SystemMessage\n",
    "from langgraph.prebuilt import ToolNode"
   ]
  },
  {
   "cell_type": "markdown",
   "id": "4436ac84",
   "metadata": {},
   "source": [
    "<b> STEP 1: Generate an AI Message that may include an tool call to be sent"
   ]
  },
  {
   "cell_type": "code",
   "execution_count": 39,
   "id": "e27624e0",
   "metadata": {},
   "outputs": [],
   "source": [
    "def query_or_respond(state: MessagesState):\n",
    "    \"\"\"Generate tool call for retrieval or respond.\"\"\"\n",
    "    llm_with_tools = llm.bind_tools([retrieve])\n",
    "    response = llm_with_tools.invoke(state[\"messages\"])\n",
    "    # MessagesState appends messages to state instead of overwriting\n",
    "    return {\"messages\": [response]}"
   ]
  },
  {
   "cell_type": "markdown",
   "id": "409dbb24",
   "metadata": {},
   "source": [
    "<b> STEP 2: Execute the retrieval"
   ]
  },
  {
   "cell_type": "code",
   "execution_count": 40,
   "id": "5c2c1893",
   "metadata": {},
   "outputs": [],
   "source": [
    "tools = ToolNode([retrieve])\n"
   ]
  },
  {
   "cell_type": "markdown",
   "id": "6a4752f2",
   "metadata": {},
   "source": [
    "<b> STEP 3: Generate a response using the retrieved content"
   ]
  },
  {
   "cell_type": "code",
   "execution_count": 41,
   "id": "e5e0830d",
   "metadata": {},
   "outputs": [],
   "source": [
    "def generate(state: MessagesState):\n",
    "    \"\"\"Generate answer.\"\"\"\n",
    "    # Get generated ToolMessages\n",
    "    recent_tool_messages = []\n",
    "    for message in reversed(state[\"messages\"]):\n",
    "        if message.type == \"tool\":\n",
    "            recent_tool_messages.append(message)\n",
    "        else:\n",
    "            break\n",
    "    tool_messages = recent_tool_messages[::-1]\n",
    "\n",
    "    # Format into prompt\n",
    "    docs_content = \"\\n\\n\".join(doc.content for doc in tool_messages)\n",
    "    system_message_content = (\n",
    "        \"You are an assistant for question-answering tasks. \"\n",
    "        \"Use the following pieces of retrieved context to answer \"\n",
    "        \"the question. If you don't know the answer, say that you \"\n",
    "        \"don't know. Use three sentences maximum and keep the \"\n",
    "        \"answer concise.\"\n",
    "        \"\\n\\n\"\n",
    "        f\"{docs_content}\"\n",
    "    )\n",
    "    conversation_messages = [\n",
    "        message\n",
    "        for message in state[\"messages\"]\n",
    "        if message.type in (\"human\", \"system\")\n",
    "        or (message.type == \"ai\" and not message.tool_calls)\n",
    "    ]\n",
    "    prompt = [SystemMessage(system_message_content)] + conversation_messages\n",
    "\n",
    "    # Run\n",
    "    response = llm.invoke(prompt)\n",
    "    return {\"messages\": [response]}"
   ]
  },
  {
   "cell_type": "markdown",
   "id": "3c8b42bd",
   "metadata": {},
   "source": [
    "* Query_or_respond - responds directly to the user if it does not generate a tool call.\n",
    "* This allows the application to support coversational experiences Ex: Responding to greetings does not require retrieval"
   ]
  },
  {
   "cell_type": "code",
   "execution_count": 42,
   "id": "b8816104",
   "metadata": {},
   "outputs": [],
   "source": [
    "from langgraph.graph import END\n",
    "from langgraph.prebuilt import ToolNode,tools_condition"
   ]
  },
  {
   "cell_type": "code",
   "execution_count": 43,
   "id": "5b5bc88a",
   "metadata": {},
   "outputs": [
    {
     "data": {
      "text/plain": [
       "<langgraph.graph.state.StateGraph at 0x7f221b609490>"
      ]
     },
     "execution_count": 43,
     "metadata": {},
     "output_type": "execute_result"
    }
   ],
   "source": [
    "graph_builder.add_node(query_or_respond)\n",
    "graph_builder.add_node(tools)\n",
    "graph_builder.add_node(generate)"
   ]
  },
  {
   "cell_type": "code",
   "execution_count": 44,
   "id": "5a14768a",
   "metadata": {},
   "outputs": [],
   "source": [
    "graph_builder.set_entry_point(\"query_or_respond\")\n",
    "graph_builder.add_conditional_edges(\n",
    "    \"query_or_respond\",\n",
    "    tools_condition,\n",
    "    {END: END, \"tools\": \"tools\"},\n",
    ")\n",
    "graph_builder.add_edge(\"tools\", \"generate\")\n",
    "graph_builder.add_edge(\"generate\", END)\n",
    "\n",
    "graph = graph_builder.compile()"
   ]
  },
  {
   "cell_type": "code",
   "execution_count": 45,
   "id": "cd788c9e",
   "metadata": {},
   "outputs": [
    {
     "data": {
      "image/png": "[encoded data removed]",
      "text/plain": [
       "<IPython.core.display.Image object>"
      ]
     },
     "metadata": {},
     "output_type": "display_data"
    }
   ],
   "source": [
    "from IPython.display import Image, display\n",
    "\n",
    "display(Image(graph.get_graph().draw_mermaid_png()))"
   ]
  },
  {
   "cell_type": "code",
   "execution_count": 46,
   "id": "4d61bb34",
   "metadata": {},
   "outputs": [
    {
     "name": "stdout",
     "output_type": "stream",
     "text": [
      "================================\u001b[1m Human Message \u001b[0m=================================\n",
      "\n",
      "Hello\n",
      "{'messages': [HumanMessage(content='Hello', additional_kwargs={}, response_metadata={}, id='432acb70-379f-4fcc-8668-8de0feab857d')]}\n",
      "\n",
      "----------------\n",
      "\n",
      "==================================\u001b[1m Ai Message \u001b[0m==================================\n",
      "\n",
      "Hello! It's nice to meet you. Is there something I can help you with, or would you like to chat?\n",
      "{'messages': [HumanMessage(content='Hello', additional_kwargs={}, response_metadata={}, id='432acb70-379f-4fcc-8668-8de0feab857d'), AIMessage(content=\"Hello! It's nice to meet you. Is there something I can help you with, or would you like to chat?\", additional_kwargs={}, response_metadata={'role': 'assistant', 'content': \"Hello! It's nice to meet you. Is there something I can help you with, or would you like to chat?\", 'token_usage': {'prompt_tokens': 11, 'total_tokens': 37, 'completion_tokens': 26}, 'finish_reason': 'stop', 'model_name': 'meta/llama3-70b-instruct'}, id='run-c308c7b9-87b7-421f-9bc6-7ac7bb2ae2d9-0', usage_metadata={'input_tokens': 11, 'output_tokens': 26, 'total_tokens': 37}, role='assistant')]}\n",
      "\n",
      "----------------\n",
      "\n"
     ]
    }
   ],
   "source": [
    "input_message = \"Hello\"\n",
    "\n",
    "for step in graph.stream(\n",
    "    {\"messages\": [{\"role\": \"user\", \"content\": input_message}]},\n",
    "    stream_mode=\"values\",\n",
    "):\n",
    "    step[\"messages\"][-1].pretty_print()\n",
    "    print(f\"{step}\\n\\n----------------\\n\")"
   ]
  },
  {
   "cell_type": "code",
   "execution_count": 47,
   "id": "df51cc69",
   "metadata": {},
   "outputs": [
    {
     "name": "stdout",
     "output_type": "stream",
     "text": [
      "================================\u001b[1m Human Message \u001b[0m=================================\n",
      "\n",
      "What is Task Decomposition in short?\n",
      "{'messages': [HumanMessage(content='What is Task Decomposition in short?', additional_kwargs={}, response_metadata={}, id='df09dc0e-f878-4fc6-840c-a1dc8e34dcfb')]}\n",
      "\n",
      "----------------\n",
      "\n",
      "==================================\u001b[1m Ai Message \u001b[0m==================================\n",
      "\n",
      "Task Decomposition is a process of breaking down a large, complex task into smaller, manageable, and independent sub-tasks. This helps to:\n",
      "\n",
      "1. Simplify the task\n",
      "2. Identify key activities\n",
      "3. Make it easier to plan and execute\n",
      "4. Reduce overwhelm and increase efficiency\n",
      "\n",
      "In short, Task Decomposition is a way to divide and conquer a big task into smaller, bite-sized chunks!\n",
      "{'messages': [HumanMessage(content='What is Task Decomposition in short?', additional_kwargs={}, response_metadata={}, id='df09dc0e-f878-4fc6-840c-a1dc8e34dcfb'), AIMessage(content='Task Decomposition is a process of breaking down a large, complex task into smaller, manageable, and independent sub-tasks. This helps to:\\n\\n1. Simplify the task\\n2. Identify key activities\\n3. Make it easier to plan and execute\\n4. Reduce overwhelm and increase efficiency\\n\\nIn short, Task Decomposition is a way to divide and conquer a big task into smaller, bite-sized chunks!', additional_kwargs={}, response_metadata={'role': 'assistant', 'content': 'Task Decomposition is a process of breaking down a large, complex task into smaller, manageable, and independent sub-tasks. This helps to:\\n\\n1. Simplify the task\\n2. Identify key activities\\n3. Make it easier to plan and execute\\n4. Reduce overwhelm and increase efficiency\\n\\nIn short, Task Decomposition is a way to divide and conquer a big task into smaller, bite-sized chunks!', 'token_usage': {'prompt_tokens': 18, 'total_tokens': 102, 'completion_tokens': 84}, 'finish_reason': 'stop', 'model_name': 'meta/llama3-70b-instruct'}, id='run-292d1ddb-2260-4fee-81a8-0effb9c511b6-0', usage_metadata={'input_tokens': 18, 'output_tokens': 84, 'total_tokens': 102}, role='assistant')]}\n",
      "\n",
      "----------------\n",
      "\n"
     ]
    }
   ],
   "source": [
    "input_message = \"What is Task Decomposition in short?\"\n",
    "\n",
    "for step in graph.stream(\n",
    "    {\"messages\": [{\"role\": \"user\", \"content\": input_message}]},\n",
    "    stream_mode=\"values\",\n",
    "):\n",
    "    step[\"messages\"][-1].pretty_print()\n",
    "    print(f\"{step}\\n\\n----------------\\n\")"
   ]
  },
  {
   "cell_type": "code",
   "execution_count": 48,
   "id": "3f7726d2",
   "metadata": {},
   "outputs": [],
   "source": [
    "from langgraph.checkpoint.memory import MemorySaver\n",
    "\n",
    "memory = MemorySaver()\n",
    "graph = graph_builder.compile(checkpointer=memory)\n",
    "\n",
    "# Specify an ID for the thread\n",
    "config = {\"configurable\": {\"thread_id\": \"test\"}}"
   ]
  },
  {
   "cell_type": "code",
   "execution_count": 49,
   "id": "424399c1",
   "metadata": {},
   "outputs": [
    {
     "name": "stdout",
     "output_type": "stream",
     "text": [
      "================================\u001b[1m Human Message \u001b[0m=================================\n",
      "\n",
      "What is Task Decomposition in short?\n",
      "==================================\u001b[1m Ai Message \u001b[0m==================================\n",
      "\n",
      "Task Decomposition is a process of breaking down a large, complex task into smaller, manageable, and independent sub-tasks. This helps to:\n",
      "\n",
      "1. Simplify the task\n",
      "2. Identify key activities\n",
      "3. Make it easier to plan and execute\n",
      "4. Reduce overwhelm and increase efficiency\n",
      "\n",
      "In short, Task Decomposition is a way to divide and conquer a big task into smaller, bite-sized chunks!\n"
     ]
    }
   ],
   "source": [
    "input_message = \"What is Task Decomposition in short?\"\n",
    "\n",
    "for step in graph.stream(\n",
    "    {\"messages\": [{\"role\": \"user\", \"content\": input_message}]},\n",
    "    stream_mode=\"values\",\n",
    "    config=config,\n",
    "):\n",
    "    step[\"messages\"][-1].pretty_print()"
   ]
  },
  {
   "cell_type": "code",
   "execution_count": 50,
   "id": "8573ca33",
   "metadata": {},
   "outputs": [
    {
     "name": "stdout",
     "output_type": "stream",
     "text": [
      "================================\u001b[1m Human Message \u001b[0m=================================\n",
      "\n",
      "Can you look up some common ways of doing it?\n",
      "==================================\u001b[1m Ai Message \u001b[0m==================================\n",
      "\n",
      "Here are some common ways to perform Task Decomposition:\n",
      "\n",
      "1. **Divide and Conquer**: Break down a complex task into smaller, independent sub-tasks that can be completed separately.\n",
      "2. **Top-Down Approach**: Start with a high-level task and break it down into smaller tasks, then break those tasks down into even smaller ones, and so on.\n",
      "3. **Bottom-Up Approach**: Identify the smallest, most basic tasks required to complete a larger task, then group them together to form larger tasks.\n",
      "4. **Hierarchical Decomposition**: Organize tasks into a hierarchical structure, with higher-level tasks broken down into smaller, more detailed tasks.\n",
      "5. **Mind Mapping**: Use visual diagrams to brainstorm and organize ideas, then break them down into smaller tasks and sub-tasks.\n",
      "6. **SWOT Analysis**: Identify the Strengths, Weaknesses, Opportunities, and Threats related to a task, then break it down into smaller tasks based on those factors.\n",
      "7. **Work Breakdown Structure (WBS)**: A methodology that involves breaking down a project into smaller tasks, creating a hierarchical structure, and assigning tasks to specific teams or individuals.\n",
      "8. **Ask \"What's the Next Action?\"**: Identify the next actionable step required to complete a task, then repeat the process until the task is complete.\n",
      "9. **Use a \"How-To\" Framework**: Break down a task into smaller steps by asking \"How do I...\", then answering with specific actions.\n",
      "10. **Use a Checklist**: Create a checklist of tasks and sub-tasks, then break each item down into smaller, actionable steps.\n",
      "\n",
      "These are just a few common ways to perform Task Decomposition. The key is to find a method that works for you and your specific needs!\n"
     ]
    }
   ],
   "source": [
    "input_message = \"Can you look up some common ways of doing it?\"\n",
    "\n",
    "for step in graph.stream(\n",
    "    {\"messages\": [{\"role\": \"user\", \"content\": input_message}]},\n",
    "    stream_mode=\"values\",\n",
    "    config=config,\n",
    "):\n",
    "    step[\"messages\"][-1].pretty_print()"
   ]
  },
  {
   "cell_type": "markdown",
   "id": "1056d226",
   "metadata": {},
   "source": [
    "* Above conversational context is maintained"
   ]
  },
  {
   "cell_type": "markdown",
   "id": "7f0b41b0",
   "metadata": {},
   "source": [
    "#### Agents"
   ]
  },
  {
   "cell_type": "markdown",
   "id": "15577dc2",
   "metadata": {},
   "source": [
    "* Agents Leverage the reasoning capabilities of LLM to make decisions during execution\n",
    "* They execute multiple retrieval steps in a steps of query or iterate on a single search"
   ]
  },
  {
   "cell_type": "markdown",
   "id": "6391897d",
   "metadata": {},
   "source": [
    "#### Using LangGraph's pre-built ReAct agent constructor,"
   ]
  },
  {
   "cell_type": "code",
   "execution_count": 51,
   "id": "fbcae504",
   "metadata": {},
   "outputs": [],
   "source": [
    "from langgraph.prebuilt import create_react_agent"
   ]
  },
  {
   "cell_type": "code",
   "execution_count": 52,
   "id": "c83bbf62",
   "metadata": {},
   "outputs": [],
   "source": [
    "agent_executor = create_react_agent(llm, [retrieve], checkpointer= memory)"
   ]
  },
  {
   "cell_type": "code",
   "execution_count": 53,
   "id": "a91944b1",
   "metadata": {},
   "outputs": [
    {
     "data": {
      "image/png": "[encoded data removed]",
      "text/plain": [
       "<IPython.core.display.Image object>"
      ]
     },
     "metadata": {},
     "output_type": "display_data"
    }
   ],
   "source": [
    "display(Image(agent_executor.get_graph().draw_mermaid_png()))"
   ]
  },
  {
   "cell_type": "code",
   "execution_count": null,
   "id": "46e68625",
   "metadata": {},
   "outputs": [
    {
     "name": "stdout",
     "output_type": "stream",
     "text": [
      "================================\u001b[1m Human Message \u001b[0m=================================\n",
      "\n",
      "What is the standard method for Task Decomposition?\n",
      "\n",
      "Once you get the answer, look up common extensions of that method.\n",
      "{'messages': [HumanMessage(content='What is the standard method for Task Decomposition?\\n\\nOnce you get the answer, look up common extensions of that method.', additional_kwargs={}, response_metadata={}, id='003b9246-d0a4-4003-b10c-555010450899')]}\n",
      "\n",
      "----------------\n",
      "\n",
      "==================================\u001b[1m Ai Message \u001b[0m==================================\n",
      "\n",
      "The standard method for Task Decomposition is called **Hierarchical Task Analysis (HTA)**. HTA is a widely used method for breaking down complex tasks into smaller, manageable sub-tasks. It involves identifying the overall goal of the task, and then recursively decomposing it into smaller tasks, sub-tasks, and ultimately, individual actions.\n",
      "\n",
      "Here's a high-level overview of the HTA process:\n",
      "\n",
      "1. Identify the overall goal or task\n",
      "2. Identify the main tasks that contribute to achieving the goal\n",
      "3. Decompose each main task into smaller sub-tasks\n",
      "4. Continue decomposing sub-tasks into even smaller tasks until individual actions are identified\n",
      "5. Represent the task hierarchy using a diagram or table\n",
      "\n",
      "Now, let's look at some common extensions of HTA:\n",
      "\n",
      "1. **GOMS (Goals, Operators, Methods, and Selection rules)**: An extension of HTA that adds more detail to the task analysis by identifying the goals, operators (actions), methods (procedures), and selection rules (decision-making processes) involved in each task.\n",
      "2. **Cognitive Task Analysis (CTA)**: A more detailed extension of HTA that focuses on the cognitive processes involved in task performance, such as decision-making, problem-solving, and attention.\n",
      "3. **Task-Activity Diagrams (TADs)**: A graphical representation of HTA that uses diagrams to illustrate the task hierarchy and relationships between tasks.\n",
      "4. **Structured Analysis and Design Technique (SADT)**: A systems analysis and design methodology that uses HTA as a core component to model and analyze complex systems.\n",
      "5. **IDEF (Integration Definition for Function Modeling)**: A family of methods that use HTA to model and analyze complex systems, with a focus on functional modeling and integration.\n",
      "\n",
      "These extensions of HTA offer more detailed and nuanced approaches to task decomposition, depending on the specific requirements of the analysis or design project.\n",
      "{'messages': [HumanMessage(content='What is the standard method for Task Decomposition?\\n\\nOnce you get the answer, look up common extensions of that method.', additional_kwargs={}, response_metadata={}, id='003b9246-d0a4-4003-b10c-555010450899'), AIMessage(content=\"The standard method for Task Decomposition is called **Hierarchical Task Analysis (HTA)**. HTA is a widely used method for breaking down complex tasks into smaller, manageable sub-tasks. It involves identifying the overall goal of the task, and then recursively decomposing it into smaller tasks, sub-tasks, and ultimately, individual actions.\\n\\nHere's a high-level overview of the HTA process:\\n\\n1. Identify the overall goal or task\\n2. Identify the main tasks that contribute to achieving the goal\\n3. Decompose each main task into smaller sub-tasks\\n4. Continue decomposing sub-tasks into even smaller tasks until individual actions are identified\\n5. Represent the task hierarchy using a diagram or table\\n\\nNow, let's look at some common extensions of HTA:\\n\\n1. **GOMS (Goals, Operators, Methods, and Selection rules)**: An extension of HTA that adds more detail to the task analysis by identifying the goals, operators (actions), methods (procedures), and selection rules (decision-making processes) involved in each task.\\n2. **Cognitive Task Analysis (CTA)**: A more detailed extension of HTA that focuses on the cognitive processes involved in task performance, such as decision-making, problem-solving, and attention.\\n3. **Task-Activity Diagrams (TADs)**: A graphical representation of HTA that uses diagrams to illustrate the task hierarchy and relationships between tasks.\\n4. **Structured Analysis and Design Technique (SADT)**: A systems analysis and design methodology that uses HTA as a core component to model and analyze complex systems.\\n5. **IDEF (Integration Definition for Function Modeling)**: A family of methods that use HTA to model and analyze complex systems, with a focus on functional modeling and integration.\\n\\nThese extensions of HTA offer more detailed and nuanced approaches to task decomposition, depending on the specific requirements of the analysis or design project.\", additional_kwargs={}, response_metadata={'role': 'assistant', 'content': \"The standard method for Task Decomposition is called **Hierarchical Task Analysis (HTA)**. HTA is a widely used method for breaking down complex tasks into smaller, manageable sub-tasks. It involves identifying the overall goal of the task, and then recursively decomposing it into smaller tasks, sub-tasks, and ultimately, individual actions.\\n\\nHere's a high-level overview of the HTA process:\\n\\n1. Identify the overall goal or task\\n2. Identify the main tasks that contribute to achieving the goal\\n3. Decompose each main task into smaller sub-tasks\\n4. Continue decomposing sub-tasks into even smaller tasks until individual actions are identified\\n5. Represent the task hierarchy using a diagram or table\\n\\nNow, let's look at some common extensions of HTA:\\n\\n1. **GOMS (Goals, Operators, Methods, and Selection rules)**: An extension of HTA that adds more detail to the task analysis by identifying the goals, operators (actions), methods (procedures), and selection rules (decision-making processes) involved in each task.\\n2. **Cognitive Task Analysis (CTA)**: A more detailed extension of HTA that focuses on the cognitive processes involved in task performance, such as decision-making, problem-solving, and attention.\\n3. **Task-Activity Diagrams (TADs)**: A graphical representation of HTA that uses diagrams to illustrate the task hierarchy and relationships between tasks.\\n4. **Structured Analysis and Design Technique (SADT)**: A systems analysis and design methodology that uses HTA as a core component to model and analyze complex systems.\\n5. **IDEF (Integration Definition for Function Modeling)**: A family of methods that use HTA to model and analyze complex systems, with a focus on functional modeling and integration.\\n\\nThese extensions of HTA offer more detailed and nuanced approaches to task decomposition, depending on the specific requirements of the analysis or design project.\", 'token_usage': {'prompt_tokens': 34, 'total_tokens': 425, 'completion_tokens': 391}, 'finish_reason': 'stop', 'model_name': 'meta/llama3-70b-instruct'}, id='run-a644b432-c9bf-41ba-b34b-cc91c7bb68f6-0', usage_metadata={'input_tokens': 34, 'output_tokens': 391, 'total_tokens': 425}, role='assistant')]}\n",
      "\n",
      "----------------\n",
      "\n"
     ]
    }
   ],
   "source": [
    "config = {\"configurable\": {\"thread_id\": \"test_123\"}}\n",
    "\n",
    "input_message = (\n",
    "    \"What is the standard method for Task Decomposition?\\n\\n\"\n",
    "    \"Once you get the answer, look up common extensions of that method.\"\n",
    ")\n",
    "\n",
    "for event in agent_executor.stream(\n",
    "    {\"messages\": [{\"role\": \"user\", \"content\": input_message}]},\n",
    "    stream_mode=\"values\",\n",
    "    config=config,\n",
    "):\n",
    "    event['messages'][-1].pretty_print()\n",
    "    print(f\"{event}\\n\\n----------------\\n\")"
   ]
  },
  {
   "cell_type": "markdown",
   "id": "930479ac",
   "metadata": {},
   "source": [
    "* The agent:\n",
    "\n",
    "    - Generates a query to search for a standard method for task decomposition;\n",
    "    - Receiving the answer, generates a second query to search for common extensions of it;\n",
    "    - Having received all necessary context, answers the question"
   ]
  },
  {
   "cell_type": "markdown",
   "id": "2117a63e",
   "metadata": {},
   "source": [
    "* We used chains to build a predictable application that generates at most one query per user input;\n",
    "* We used agents to build an application that can iterate on a sequence of queries."
   ]
  }
 ],
 "metadata": {
  "kernelspec": {
   "display_name": "gen_ai_env",
   "language": "python",
   "name": "python3"
  },
  "language_info": {
   "codemirror_mode": {
    "name": "ipython",
    "version": 3
   },
   "file_extension": ".py",
   "mimetype": "text/x-python",
   "name": "python",
   "nbconvert_exporter": "python",
   "pygments_lexer": "ipython3",
   "version": "3.12.9"
  }
 },
 "nbformat": 4,
 "nbformat_minor": 5
}
