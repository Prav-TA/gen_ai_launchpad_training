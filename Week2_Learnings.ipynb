{
 "cells": [
  {
   "cell_type": "code",
   "execution_count": 24,
   "id": "69a6adb0",
   "metadata": {},
   "outputs": [],
   "source": [
    "import getpass\n",
    "import os\n",
    "from langchain.chat_models import init_chat_model\n",
    "from langchain_openai import OpenAIEmbeddings\n",
    "from langchain_chroma import Chroma\n",
    "from langchain_nvidia_ai_endpoints import NVIDIAEmbeddings\n",
    "from langchain_core.vectorstores import InMemoryVectorStore\n",
    "import warnings\n",
    "warnings.filterwarnings(\"ignore\")"
   ]
  },
  {
   "cell_type": "code",
   "execution_count": 2,
   "id": "574ee40c",
   "metadata": {},
   "outputs": [],
   "source": [
    "os.environ['LANGSMITH_TRACING'] = 'true'\n",
    "os.environ['LANGSMITH_API_KEY'] = getpass.getpass()"
   ]
  },
  {
   "cell_type": "markdown",
   "id": "55dae604",
   "metadata": {},
   "source": [
    "#### Components"
   ]
  },
  {
   "cell_type": "markdown",
   "id": "93350ccb",
   "metadata": {},
   "source": [
    "##### Chat model : NVIDIA"
   ]
  },
  {
   "cell_type": "code",
   "execution_count": 3,
   "id": "13e2d4ce",
   "metadata": {},
   "outputs": [],
   "source": [
    "if not os.environ.get(\"NVIDIA_API_KEY\"):\n",
    "    os.environ[\"NVIDIA_API_KEY\"] = getpass.getpass(\"Enter API key for NVIDIA:\")"
   ]
  },
  {
   "cell_type": "code",
   "execution_count": 4,
   "id": "c1eb4c85",
   "metadata": {},
   "outputs": [],
   "source": [
    "llm = init_chat_model(\"meta/llama3-70b-instruct\", model_provider=\"nvidia\")"
   ]
  },
  {
   "cell_type": "markdown",
   "id": "a6035f76",
   "metadata": {},
   "source": [
    "##### Embedding model : NVIDIA"
   ]
  },
  {
   "cell_type": "code",
   "execution_count": 5,
   "id": "3aaf3062",
   "metadata": {},
   "outputs": [],
   "source": [
    "if not os.environ.get(\"NVIDIA_API_KEY\"):\n",
    "    os.environ[\"NVIDIA_API_KEY\"] = getpass.getpass(\"Enter API key for NVIDIA: \")"
   ]
  },
  {
   "cell_type": "code",
   "execution_count": 6,
   "id": "b350d72d",
   "metadata": {},
   "outputs": [],
   "source": [
    "embeddings = NVIDIAEmbeddings(model=\"NV-Embed-QA\")"
   ]
  },
  {
   "cell_type": "markdown",
   "id": "f30a261c",
   "metadata": {},
   "source": [
    "##### Vector Store : InMemory"
   ]
  },
  {
   "cell_type": "code",
   "execution_count": 7,
   "id": "337e6d8a",
   "metadata": {},
   "outputs": [],
   "source": [
    "# # Chroma - Not working as expected getting errors\n",
    "# vector_store = Chroma(collection_name=\"example_collection\",\n",
    "#                       embedding_function=embeddings,\n",
    "#                       persist_directory=\"./chroma_langchain_db\")"
   ]
  },
  {
   "cell_type": "code",
   "execution_count": 8,
   "id": "f88079a7",
   "metadata": {},
   "outputs": [],
   "source": [
    "vector_store = InMemoryVectorStore(embeddings)"
   ]
  },
  {
   "cell_type": "markdown",
   "id": "0b166a7a",
   "metadata": {},
   "source": [
    "##### Simple indexing pipeline and RAG chain "
   ]
  },
  {
   "cell_type": "code",
   "execution_count": 9,
   "id": "f9097c8b",
   "metadata": {},
   "outputs": [
    {
     "name": "stderr",
     "output_type": "stream",
     "text": [
      "USER_AGENT environment variable not set, consider setting it to identify your requests.\n"
     ]
    }
   ],
   "source": [
    "import bs4\n",
    "from langchain import hub\n",
    "from langchain_community.document_loaders import WebBaseLoader\n",
    "from langchain_core.documents import Document\n",
    "from langchain_text_splitters import RecursiveCharacterTextSplitter\n",
    "from langgraph.graph import START,StateGraph\n",
    "from typing_extensions import List,TypedDict"
   ]
  },
  {
   "cell_type": "markdown",
   "id": "e8959e63",
   "metadata": {},
   "source": [
    "##### Load and chunk the contents of the blog"
   ]
  },
  {
   "cell_type": "markdown",
   "id": "8c43923e",
   "metadata": {},
   "source": [
    "* Document loader (Object) - to load the documents and return list of Document objects"
   ]
  },
  {
   "cell_type": "markdown",
   "id": "35fc830b",
   "metadata": {},
   "source": [
    "* WebBaseLoader uses urllib to load HTML from web URLs and BeautifulSoup parses it to text \n",
    "* Customized HTML -> text parsing using bs_kwargs"
   ]
  },
  {
   "cell_type": "markdown",
   "id": "55b0ba6a",
   "metadata": {},
   "source": [
    "* bs4 strainer only keeps post title, headers, and content from the full HTML."
   ]
  },
  {
   "cell_type": "code",
   "execution_count": 10,
   "id": "505a4524",
   "metadata": {},
   "outputs": [],
   "source": [
    "bs4_strainer = bs4.SoupStrainer(class_=(\"post-content\", \"post-title\", \"post-header\"))"
   ]
  },
  {
   "cell_type": "code",
   "execution_count": 11,
   "id": "0c4e1b00",
   "metadata": {},
   "outputs": [],
   "source": [
    "loader = WebBaseLoader(\n",
    "    web_paths=(\"https://lilianweng.github.io/posts/2023-06-23-agent/\",),\n",
    "    bs_kwargs={\"parse_only\":bs4_strainer},\n",
    "        )\n",
    "\n",
    "docs = loader.load()"
   ]
  },
  {
   "cell_type": "code",
   "execution_count": 12,
   "id": "5f7ca632",
   "metadata": {},
   "outputs": [
    {
     "name": "stdout",
     "output_type": "stream",
     "text": [
      "Total_characters: 43130\n"
     ]
    }
   ],
   "source": [
    "assert len(docs) == 1\n",
    "print(f\"Total_characters: {len(docs[0].page_content)}\")"
   ]
  },
  {
   "cell_type": "markdown",
   "id": "fe3e7dfe",
   "metadata": {},
   "source": [
    "##### Splitting Documents"
   ]
  },
  {
   "cell_type": "markdown",
   "id": "008242cd",
   "metadata": {},
   "source": [
    "* Above Loaded doc contains around 43k characters which is too long to fit into the context window of any model (Token constraints)\n",
    "* Even for feasible models, large piece of text makes the model difficult to search and find matches\n",
    "* To ease the retrieval process, we split the documents into chunks\n",
    "* Recursive text splitter splits the doc into chunks using common separators like new lines until each chunk is the appropriate size ( Recommended text splitter for generic text use cases)"
   ]
  },
  {
   "cell_type": "markdown",
   "id": "ba92cc37",
   "metadata": {},
   "source": [
    "* <b> chunk_size = 1000:\n",
    "\n",
    "            each chunk will have 1000 characters\n",
    "* <b> chunk_overlap = 200:\n",
    "\n",
    "            200 characters from the end of the previous chunk will be included in the next chunk to ensure context continuity"
   ]
  },
  {
   "cell_type": "code",
   "execution_count": 13,
   "id": "a6ad92d0",
   "metadata": {},
   "outputs": [
    {
     "name": "stdout",
     "output_type": "stream",
     "text": [
      "Split the blog post into 66 chunks\n"
     ]
    }
   ],
   "source": [
    "text_splitter = RecursiveCharacterTextSplitter(chunk_size=1000,chunk_overlap = 200,add_start_index=True)\n",
    "all_splits = text_splitter.split_documents(docs)\n",
    "print(f\"Split the blog post into {len(all_splits)} chunks\")"
   ]
  },
  {
   "cell_type": "code",
   "execution_count": 14,
   "id": "3e1e6df7",
   "metadata": {},
   "outputs": [
    {
     "data": {
      "text/plain": [
       "[Document(metadata={'source': 'https://lilianweng.github.io/posts/2023-06-23-agent/', 'start_index': 8}, page_content='LLM Powered Autonomous Agents\\n    \\nDate: June 23, 2023  |  Estimated Reading Time: 31 min  |  Author: Lilian Weng\\n\\n\\nBuilding agents with LLM (large language model) as its core controller is a cool concept. Several proof-of-concepts demos, such as AutoGPT, GPT-Engineer and BabyAGI, serve as inspiring examples. The potentiality of LLM extends beyond generating well-written copies, stories, essays and programs; it can be framed as a powerful general problem solver.\\nAgent System Overview#\\nIn a LLM-powered autonomous agent system, LLM functions as the agent’s brain, complemented by several key components:\\n\\nPlanning\\n\\nSubgoal and decomposition: The agent breaks down large tasks into smaller, manageable subgoals, enabling efficient handling of complex tasks.\\nReflection and refinement: The agent can do self-criticism and self-reflection over past actions, learn from mistakes and refine them for future steps, thereby improving the quality of final results.\\n\\n\\nMemory'),\n",
       " Document(metadata={'source': 'https://lilianweng.github.io/posts/2023-06-23-agent/', 'start_index': 971}, page_content='Memory\\n\\nShort-term memory: I would consider all the in-context learning (See Prompt Engineering) as utilizing short-term memory of the model to learn.\\nLong-term memory: This provides the agent with the capability to retain and recall (infinite) information over extended periods, often by leveraging an external vector store and fast retrieval.\\n\\n\\nTool use\\n\\nThe agent learns to call external APIs for extra information that is missing from the model weights (often hard to change after pre-training), including current information, code execution capability, access to proprietary information sources and more.'),\n",
       " Document(metadata={'source': 'https://lilianweng.github.io/posts/2023-06-23-agent/', 'start_index': 1585}, page_content='Fig. 1. Overview of a LLM-powered autonomous agent system.\\nComponent One: Planning#\\nA complicated task usually involves many steps. An agent needs to know what they are and plan ahead.\\nTask Decomposition#\\nChain of thought (CoT; Wei et al. 2022) has become a standard prompting technique for enhancing model performance on complex tasks. The model is instructed to “think step by step” to utilize more test-time computation to decompose hard tasks into smaller and simpler steps. CoT transforms big tasks into multiple manageable tasks and shed lights into an interpretation of the model’s thinking process.'),\n",
       " Document(metadata={'source': 'https://lilianweng.github.io/posts/2023-06-23-agent/', 'start_index': 2192}, page_content='Tree of Thoughts (Yao et al. 2023) extends CoT by exploring multiple reasoning possibilities at each step. It first decomposes the problem into multiple thought steps and generates multiple thoughts per step, creating a tree structure. The search process can be BFS (breadth-first search) or DFS (depth-first search) with each state evaluated by a classifier (via a prompt) or majority vote.\\nTask decomposition can be done (1) by LLM with simple prompting like \"Steps for XYZ.\\\\n1.\", \"What are the subgoals for achieving XYZ?\", (2) by using task-specific instructions; e.g. \"Write a story outline.\" for writing a novel, or (3) with human inputs.'),\n",
       " Document(metadata={'source': 'https://lilianweng.github.io/posts/2023-06-23-agent/', 'start_index': 2837}, page_content='Another quite distinct approach, LLM+P (Liu et al. 2023), involves relying on an external classical planner to do long-horizon planning. This approach utilizes the Planning Domain Definition Language (PDDL) as an intermediate interface to describe the planning problem. In this process, LLM (1) translates the problem into “Problem PDDL”, then (2) requests a classical planner to generate a PDDL plan based on an existing “Domain PDDL”, and finally (3) translates the PDDL plan back into natural language. Essentially, the planning step is outsourced to an external tool, assuming the availability of domain-specific PDDL and a suitable planner which is common in certain robotic setups but not in many other domains.\\nSelf-Reflection#\\nSelf-reflection is a vital aspect that allows autonomous agents to improve iteratively by refining past action decisions and correcting previous mistakes. It plays a crucial role in real-world tasks where trial and error are inevitable.')]"
      ]
     },
     "execution_count": 14,
     "metadata": {},
     "output_type": "execute_result"
    }
   ],
   "source": [
    "all_splits[:5]"
   ]
  },
  {
   "cell_type": "code",
   "execution_count": 15,
   "id": "02cbe4df",
   "metadata": {},
   "outputs": [
    {
     "name": "stdout",
     "output_type": "stream",
     "text": [
      "0 969\n",
      "1 609\n",
      "2 606\n",
      "3 644\n",
      "4 971\n",
      "5 506\n",
      "6 902\n",
      "7 706\n",
      "8 164\n",
      "9 960\n",
      "10 412\n",
      "11 903\n",
      "12 834\n",
      "13 545\n",
      "14 969\n",
      "15 986\n",
      "16 459\n",
      "17 542\n",
      "18 760\n",
      "19 772\n",
      "20 818\n",
      "21 469\n",
      "22 655\n",
      "23 820\n",
      "24 476\n",
      "25 388\n",
      "26 855\n",
      "27 805\n",
      "28 639\n",
      "29 456\n",
      "30 610\n",
      "31 616\n",
      "32 679\n",
      "33 726\n",
      "34 971\n",
      "35 195\n",
      "36 997\n",
      "37 828\n",
      "38 624\n",
      "39 955\n",
      "40 541\n",
      "41 961\n",
      "42 704\n",
      "43 556\n",
      "44 958\n",
      "45 666\n",
      "46 664\n",
      "47 983\n",
      "48 127\n",
      "49 936\n",
      "50 999\n",
      "51 310\n",
      "52 18\n",
      "53 48\n",
      "54 991\n",
      "55 996\n",
      "56 476\n",
      "57 702\n",
      "58 989\n",
      "59 378\n",
      "60 132\n",
      "61 808\n",
      "62 568\n",
      "63 976\n",
      "64 956\n",
      "65 940\n"
     ]
    }
   ],
   "source": [
    "for idx,chunk in enumerate(all_splits):\n",
    "    print(idx,len(chunk.page_content))"
   ]
  },
  {
   "cell_type": "markdown",
   "id": "1f520a36",
   "metadata": {},
   "source": [
    "##### Index Chunks"
   ]
  },
  {
   "cell_type": "markdown",
   "id": "d3b1e6ff",
   "metadata": {},
   "source": [
    "* Vector store is a defined vector db to store the embeddings of the chunks - Here ChromaDB is used\n",
    "* vectors helps retrieve relevant chunks based on the similarity search with the user query / prompt"
   ]
  },
  {
   "cell_type": "code",
   "execution_count": 16,
   "id": "472ca6a6",
   "metadata": {},
   "outputs": [
    {
     "name": "stdout",
     "output_type": "stream",
     "text": [
      "['15c4ce29-2bb9-4e1f-8911-9da4c5d98229', '697e5a46-9950-4187-8c75-6a35e75083e2', '3fe924e4-0365-42c4-b824-d6a921be762b', '0aec4661-cf00-4afc-80d3-ced0a1ff414a', '09008572-e1b4-485a-92ec-be779a167cf4', '9ba74d8b-d4d7-43c8-930f-75ea0a5e898c', '6dd84b15-e38f-4b31-bb7f-67945b5400f2', '41d8ff52-e859-4026-a5c5-d331433d2e02', '1606037d-1c30-4178-9402-49f4834179e7', 'ac186ef5-79ae-4e29-bbf6-7e792090845a', '1d1ed957-d5a6-4ac5-ac39-4dfc7277ff71', '78e143f9-c6d0-428d-a8e9-bf23ad0cd70a', 'ff045e4f-532b-4ce7-9aeb-0bec056208f1', '314ab88a-bc8d-45aa-9116-41a7402601e6', '7afb8f18-5ee4-4ce9-98af-4e995eb997f2', '5efc9712-4eb3-4a7d-9f74-08380e4d0f09', 'c531d605-cb9f-430c-9a40-1d54c96794d4', '7e2fa663-11d4-41fc-adca-0d5058bd9e85', '0585a239-749b-4cc4-926f-4183107bcddf', '60f08891-739c-44a0-9c4b-3c0a2fb4d00b', 'b0ab4ca2-db41-4ccc-b4b0-5ed7c23aac1b', '5c91f5c0-6ffe-458f-a56f-77aebffa7580', 'ab5db4ab-c0f0-4e6a-856e-f7210832079e', '3d2ade55-65af-47d6-ac6b-8b44ef4def3b', '4ee24a42-5dc1-4768-8702-bb1d5da64e62', '862625ee-46d2-4db8-879b-22f5b71a28fd', '2a322f11-7ad2-4bbb-bd1f-48813bc2d618', 'd7578724-ded5-4c0b-b99a-fb39ea6a3b69', '3fffc08d-1b25-4761-baaa-e09b33542582', '70f1efd4-8d83-4367-90fe-a630ef2db82b', '80ffab8c-d6fe-451d-93c3-4a8b5ff80e9c', 'f8e44ca9-38fb-44f8-9ca3-df50514d93a0', '1b3d24dd-da41-4edf-a2eb-3b4eac53506a', 'a69153ec-dd08-4c6a-aa4b-09e35aa7d12e', '85b3e97e-6635-44f4-a9b3-bb6390b25aa4', '62576633-5a5b-412f-9907-e62b8499d213', '28e8180b-ab4b-45bc-9dbe-2d6f5accae3f', '62a2a084-2921-4c9a-b604-819b3e4d74a1', '21b09fb7-95e9-4fd4-b991-b0b8a34626ff', 'ecf8de16-6cf4-4778-8f6e-41f5a7d4f549', 'd9eecdbb-544d-4a0d-a305-c53a426c4b8d', '29ecece3-f00a-4b53-b8cf-c01eca6e5819', '063dcc40-548c-4c21-8bba-2d2568082980', '6214e314-d32a-4836-9d68-8dc3d8eeedf4', '84672d6d-2ace-4966-87e6-df8be8bd25db', 'da5241d2-80c9-4bd1-804e-18ad9ce1f87b', 'de86597c-2de6-406f-ae19-de34e953c0fc', '15084280-ff71-4bc6-bdc0-9db99b5e5b97', '9e43ffdc-eb53-4879-b442-c22885d46257', '5f68ed1f-704f-4fd7-8f7a-84f2727a0269', 'a4607732-20be-4fcb-86fc-71e9e43013c8', 'f83e61ea-bb89-40af-a4c6-102f9bd24d43', '8b44d7e4-f83e-47db-b6d6-c63dc93821ff', 'ff581866-e274-4fb7-8a20-4a42471ec544', '4f297fe7-61d2-4de1-a831-c80b861e5d56', '0d77b2c9-5210-4722-a3ae-f60af20ad114', 'dd806c5b-9a26-4a2a-b266-5cd40605bdfb', '7c920470-6bb5-4fc3-9124-c3190bb4bc6b', '0f468556-f693-4fc4-97e0-2ed13bf3d0f0', '10cf1b6b-0b34-4413-83fe-ef638eeaf9eb', 'ae190d3a-0a1c-4ed2-98ef-e98661c27c65', 'cb44714e-ab06-4075-ab54-e756a75b9e0b', 'ff15abd8-dac9-4365-bda1-f69eb158ad26', '0ab5d53e-1983-4fa1-8d7d-4df1d4d65b5f', 'c5459079-5a4b-4ee2-ab8a-b25da897dfa4', '610c9469-a264-4490-bd0a-baa5a8d9d413']\n"
     ]
    }
   ],
   "source": [
    "document_ids = vector_store.add_documents(documents=all_splits)\n",
    "print(document_ids)"
   ]
  },
  {
   "cell_type": "code",
   "execution_count": 17,
   "id": "75fb9228",
   "metadata": {},
   "outputs": [
    {
     "data": {
      "text/plain": [
       "66"
      ]
     },
     "execution_count": 17,
     "metadata": {},
     "output_type": "execute_result"
    }
   ],
   "source": [
    "len(document_ids)"
   ]
  },
  {
   "cell_type": "markdown",
   "id": "720eb104",
   "metadata": {},
   "source": [
    "#####  Define prompt for question-answering"
   ]
  },
  {
   "cell_type": "markdown",
   "id": "84b043f0",
   "metadata": {},
   "source": [
    "* This pulls a pre-built prompt template from langchain hub\n",
    "* \"rlm/rag-prompt\" - prompt specifically designed for retrieval augmented question answering\n",
    "* It sets up how the question + context will be sent to language model"
   ]
  },
  {
   "cell_type": "markdown",
   "id": "5ccceda7",
   "metadata": {},
   "source": [
    "* Prompt Template will be something like this:\n",
    "* You are an assistant for question-answering tasks. Use the following pieces of retrieved context to answer the question. If you don't know the answer, just say that you don't know. Use three sentences maximum and keep the answer concise.\n",
    "* Question: (question goes here) \n",
    "* Context: (context goes here) \n",
    "* Answer:"
   ]
  },
  {
   "cell_type": "code",
   "execution_count": 18,
   "id": "df1832b8",
   "metadata": {},
   "outputs": [
    {
     "name": "stderr",
     "output_type": "stream",
     "text": [
      "/home/praveen/miniforge3/envs/gen_ai_env/lib/python3.12/site-packages/langsmith/client.py:256: LangSmithMissingAPIKeyWarning: API key must be provided when using hosted LangSmith API\n",
      "  warnings.warn(\n"
     ]
    }
   ],
   "source": [
    "prompt = hub.pull(\"rlm/rag-prompt\")"
   ]
  },
  {
   "cell_type": "markdown",
   "id": "7913a6c9",
   "metadata": {},
   "source": [
    "##### Define state for application"
   ]
  },
  {
   "cell_type": "markdown",
   "id": "20c5c7fe",
   "metadata": {},
   "source": [
    "* The state of the application controls what data is\n",
    "    - input to the application,\n",
    "    - transferred between steps, and\n",
    "    - output by the application. It is typically a TypedDict\n"
   ]
  },
  {
   "cell_type": "markdown",
   "id": "1136643e",
   "metadata": {},
   "source": [
    "* This acts as a container to store question, context and answer"
   ]
  },
  {
   "cell_type": "code",
   "execution_count": 19,
   "id": "166e87a2",
   "metadata": {},
   "outputs": [],
   "source": [
    "class State(TypedDict):\n",
    "    question: str\n",
    "    context: List[Document]\n",
    "    answer: str"
   ]
  },
  {
   "cell_type": "markdown",
   "id": "8515579e",
   "metadata": {},
   "source": [
    "##### Define application steps"
   ]
  },
  {
   "cell_type": "markdown",
   "id": "c6791d0e",
   "metadata": {},
   "source": [
    "<b> STEP 1: Retrieval"
   ]
  },
  {
   "cell_type": "markdown",
   "id": "369b9875",
   "metadata": {},
   "source": [
    "* Takes in user's question\n",
    "* Uses similarity search to find the most relevant chunk\n",
    "* retrieves top_k relevant chunk based on the similarity value (k=4 by default)\n",
    "* Return them as context"
   ]
  },
  {
   "cell_type": "code",
   "execution_count": 20,
   "id": "103da91a",
   "metadata": {},
   "outputs": [],
   "source": [
    "def retrieve(state: State):\n",
    "    retrieved_docs = vector_store.similarity_search(state[\"question\"])\n",
    "    return {\"context\": retrieved_docs}"
   ]
  },
  {
   "cell_type": "markdown",
   "id": "c783044e",
   "metadata": {},
   "source": [
    "<b> STEP 2: Generation"
   ]
  },
  {
   "cell_type": "markdown",
   "id": "8b92e32a",
   "metadata": {},
   "source": [
    "* Joins all the retrieved chunks into a single text\n",
    "* passes the question + context to the prompt\n",
    "* Sends it to LLM\n",
    "* Returns answer"
   ]
  },
  {
   "cell_type": "code",
   "execution_count": 21,
   "id": "a7f31865",
   "metadata": {},
   "outputs": [],
   "source": [
    "def generate(state:State):\n",
    "    docs_content = \"\\n\\n\".join([doc.page_content for doc in state[\"context\"]])\n",
    "    messages = prompt.invoke({\"question\": state[\"question\"], \"context\": docs_content})\n",
    "    response = llm.invoke(messages)\n",
    "    return {\"answer\":response.content} "
   ]
  },
  {
   "cell_type": "markdown",
   "id": "a8be5e42",
   "metadata": {},
   "source": [
    "##### Compile application and test"
   ]
  },
  {
   "cell_type": "code",
   "execution_count": 22,
   "id": "a3d27014",
   "metadata": {},
   "outputs": [],
   "source": [
    "graph_builder = StateGraph(State).add_sequence([retrieve,generate])\n",
    "graph_builder.add_edge(START,\"retrieve\")\n",
    "graph = graph_builder.compile()"
   ]
  },
  {
   "cell_type": "markdown",
   "id": "beb6e9f7",
   "metadata": {},
   "source": [
    "* StateGraph(State): Creates LangGraph based on State definition\n",
    "* .add_sequence([retrieve, generate]): Order of execution\n",
    "* add_edge(START, \"retrieve\"): Tells the graph to start from retrieval first\n",
    "* .compile(): Finalizes the graph into an executable app"
   ]
  },
  {
   "cell_type": "code",
   "execution_count": 27,
   "id": "33c8a90c",
   "metadata": {},
   "outputs": [
    {
     "name": "stdout",
     "output_type": "stream",
     "text": [
      "Task decomposition is the process of breaking down a complex task into smaller, simpler steps. This can be done using various methods, including simple prompting, task-specific instructions, or human inputs. The goal of task decomposition is to make the task more manageable and easier to complete.\n"
     ]
    }
   ],
   "source": [
    "response = graph.invoke({\"question\":\"What is Task Decomposition?\"})\n",
    "print(response[\"answer\"])"
   ]
  },
  {
   "cell_type": "markdown",
   "id": "548b9dc6",
   "metadata": {},
   "source": [
    "##### To visualize the control flow of the application"
   ]
  },
  {
   "cell_type": "code",
   "execution_count": 28,
   "id": "619f6b3f",
   "metadata": {},
   "outputs": [
    {
     "data": {
      "image/png": "[encoded data removed]",
      "text/plain": [
       "<IPython.core.display.Image object>"
      ]
     },
     "metadata": {},
     "output_type": "display_data"
    }
   ],
   "source": [
    "from IPython.display import Image, display\n",
    "\n",
    "display(Image(graph.get_graph().draw_mermaid_png()))"
   ]
  },
  {
   "cell_type": "markdown",
   "id": "e84f2ef1",
   "metadata": {},
   "source": [
    "#### Query Analysis"
   ]
  },
  {
   "cell_type": "markdown",
   "id": "893f4a42",
   "metadata": {},
   "source": [
    "* This employs models to transform the raw user query into structured / more optimized format"
   ]
  },
  {
   "cell_type": "code",
   "execution_count": 29,
   "id": "cafedbe7",
   "metadata": {},
   "outputs": [
    {
     "data": {
      "text/plain": [
       "22"
      ]
     },
     "execution_count": 29,
     "metadata": {},
     "output_type": "execute_result"
    }
   ],
   "source": [
    "total_documents =len(all_splits)\n",
    "third = total_documents // 3\n",
    "third"
   ]
  },
  {
   "cell_type": "code",
   "execution_count": 32,
   "id": "f0fce82a",
   "metadata": {},
   "outputs": [
    {
     "data": {
      "text/plain": [
       "{'source': 'https://lilianweng.github.io/posts/2023-06-23-agent/',\n",
       " 'start_index': 8}"
      ]
     },
     "execution_count": 32,
     "metadata": {},
     "output_type": "execute_result"
    }
   ],
   "source": [
    "all_splits[0].metadata"
   ]
  },
  {
   "cell_type": "code",
   "execution_count": 33,
   "id": "a00304e8",
   "metadata": {},
   "outputs": [],
   "source": [
    "for idx, doc in enumerate(all_splits):\n",
    "    if idx<third:\n",
    "        doc.metadata[\"section\"] = 'beginning'\n",
    "    elif idx<third*2:\n",
    "        doc.metadata[\"section\"] = 'middle'\n",
    "    else:\n",
    "        doc.metadata[\"section\"] = 'end'"
   ]
  },
  {
   "cell_type": "code",
   "execution_count": 34,
   "id": "063afca5",
   "metadata": {},
   "outputs": [
    {
     "data": {
      "text/plain": [
       "{'source': 'https://lilianweng.github.io/posts/2023-06-23-agent/',\n",
       " 'start_index': 8,\n",
       " 'section': 'beginning'}"
      ]
     },
     "execution_count": 34,
     "metadata": {},
     "output_type": "execute_result"
    }
   ],
   "source": [
    "all_splits[0].metadata"
   ]
  },
  {
   "cell_type": "markdown",
   "id": "feca4a85",
   "metadata": {},
   "source": [
    "##### Define schema for search query"
   ]
  },
  {
   "cell_type": "code",
   "execution_count": 35,
   "id": "0090d97b",
   "metadata": {},
   "outputs": [],
   "source": [
    "from typing import Literal\n",
    "from typing_extensions import Annotated"
   ]
  },
  {
   "cell_type": "markdown",
   "id": "e3ff9230",
   "metadata": {},
   "source": [
    "* This defines a schema for what the LLM should extract from the user’s question:\n",
    "\n",
    "* query: what to search for.\n",
    "\n",
    "* section: which part of the document is relevant (beginning, middle, end).\n",
    "\n",
    "Based on the user question, LLM tries to find the section of the relevant chunk and retrieves based on the similarity , instead of just checking all the chunks \n",
    "\n",
    "Pre-filter chunks using metadata "
   ]
  },
  {
   "cell_type": "code",
   "execution_count": 53,
   "id": "2e408ac2",
   "metadata": {},
   "outputs": [],
   "source": [
    "from pydantic import BaseModel\n",
    "from typing import Literal\n",
    "\n",
    "\n",
    "class Search(BaseModel):\n",
    "    query: str\n",
    "    section: Literal[\"beginning\", \"middle\", \"end\"]"
   ]
  },
  {
   "cell_type": "code",
   "execution_count": 54,
   "id": "9aa83f08",
   "metadata": {},
   "outputs": [],
   "source": [
    "# class Search(TypedDict):\n",
    "#     query : Annotated[str,...,\"Search query to run.\"]\n",
    "#     section: Annotated[\n",
    "#         Literal[\"beginning\",\"middle\",\"end\"],\n",
    "#         ...,\"Section to query\",\n",
    "#     ]\n",
    "\n",
    "\n",
    "class State(TypedDict):\n",
    "    question: str\n",
    "    query: dict  # or Search if you want to keep it typed as the Pydantic model\n",
    "    context: List[Document]\n",
    "    answer: str"
   ]
  },
  {
   "cell_type": "code",
   "execution_count": 60,
   "id": "7f7bf7e2",
   "metadata": {},
   "outputs": [],
   "source": [
    "def analyze_query(state : State):\n",
    "    structured_llm = llm.with_structured_output(Search)\n",
    "    query = structured_llm.invoke(state[\"question\"])\n",
    "    print(\"Raw LLM output:\",query)\n",
    "    if query is None:\n",
    "        raise ValueError(\n",
    "            \"LLM failed to return structured output. Try checking prompt or schema.\"\n",
    "        )\n",
    "\n",
    "    return {\"query\": query.dict()}\n",
    "\n",
    "def retrieve(state: State):\n",
    "    query = state[\"query\"]\n",
    "    retrieved_docs = vector_store.similarity_search(query[\"query\"],filter=lambda doc: doc.metadata.get(\"section\") == query[\"section\"],)\n",
    "    \n",
    "    return {\"context\": retrieved_docs}\n",
    "\n",
    "def generate(state:State):\n",
    "    docs_content = \"\\n\\n\".join([doc.page_content for doc in state[\"context\"]])\n",
    "    messages = prompt.invoke({\"question\": state[\"question\"], \"context\": docs_content})\n",
    "    response = llm.invoke(messages)\n",
    "    return {\"answer\":response.content}\n",
    "\n",
    "graph_builder = StateGraph(State).add_sequence([analyze_query,retrieve, generate])\n",
    "graph_builder.add_edge(START, \"analyze_query\")\n",
    "graph = graph_builder.compile()"
   ]
  },
  {
   "cell_type": "code",
   "execution_count": 62,
   "id": "456afa83",
   "metadata": {},
   "outputs": [
    {
     "data": {
      "image/png": "[encoded data removed]",
      "text/plain": [
       "<IPython.core.display.Image object>"
      ]
     },
     "metadata": {},
     "output_type": "display_data"
    }
   ],
   "source": [
    "display(Image(graph.get_graph().draw_mermaid_png()))"
   ]
  },
  {
   "cell_type": "code",
   "execution_count": 63,
   "id": "4c3e4a80",
   "metadata": {},
   "outputs": [
    {
     "name": "stdout",
     "output_type": "stream",
     "text": [
      "Raw LLM output: None\n"
     ]
    },
    {
     "ename": "ValueError",
     "evalue": "LLM failed to return structured output. Try checking prompt or schema.",
     "output_type": "error",
     "traceback": [
      "\u001b[31m---------------------------------------------------------------------------\u001b[39m",
      "\u001b[31mValueError\u001b[39m                                Traceback (most recent call last)",
      "\u001b[36mCell\u001b[39m\u001b[36m \u001b[39m\u001b[32mIn[63]\u001b[39m\u001b[32m, line 1\u001b[39m\n\u001b[32m----> \u001b[39m\u001b[32m1\u001b[39m \u001b[38;5;28;43;01mfor\u001b[39;49;00m\u001b[43m \u001b[49m\u001b[43mstep\u001b[49m\u001b[43m \u001b[49m\u001b[38;5;129;43;01min\u001b[39;49;00m\u001b[43m \u001b[49m\u001b[43mgraph\u001b[49m\u001b[43m.\u001b[49m\u001b[43mstream\u001b[49m\u001b[43m(\u001b[49m\n\u001b[32m      2\u001b[39m \u001b[43m    \u001b[49m\u001b[43m{\u001b[49m\u001b[33;43m\"\u001b[39;49m\u001b[33;43mquestion\u001b[39;49m\u001b[33;43m\"\u001b[39;49m\u001b[43m:\u001b[49m\u001b[43m \u001b[49m\u001b[33;43m\"\u001b[39;49m\u001b[33;43mWhat does the end of the post say about Task Decomposition?\u001b[39;49m\u001b[33;43m\"\u001b[39;49m\u001b[43m}\u001b[49m\u001b[43m,\u001b[49m\n\u001b[32m      3\u001b[39m \u001b[43m    \u001b[49m\u001b[43mstream_mode\u001b[49m\u001b[43m=\u001b[49m\u001b[33;43m\"\u001b[39;49m\u001b[33;43mupdates\u001b[39;49m\u001b[33;43m\"\u001b[39;49m\u001b[43m,\u001b[49m\n\u001b[32m      4\u001b[39m \u001b[43m)\u001b[49m\u001b[43m:\u001b[49m\n\u001b[32m      5\u001b[39m \u001b[43m    \u001b[49m\u001b[38;5;28;43mprint\u001b[39;49m\u001b[43m(\u001b[49m\u001b[33;43mf\u001b[39;49m\u001b[33;43m\"\u001b[39;49m\u001b[38;5;132;43;01m{\u001b[39;49;00m\u001b[43mstep\u001b[49m\u001b[38;5;132;43;01m}\u001b[39;49;00m\u001b[38;5;130;43;01m\\n\u001b[39;49;00m\u001b[38;5;130;43;01m\\n\u001b[39;49;00m\u001b[33;43m----------------\u001b[39;49m\u001b[38;5;130;43;01m\\n\u001b[39;49;00m\u001b[33;43m\"\u001b[39;49m\u001b[43m)\u001b[49m\n",
      "\u001b[36mFile \u001b[39m\u001b[32m~/miniforge3/envs/gen_ai_env/lib/python3.12/site-packages/langgraph/pregel/__init__.py:2340\u001b[39m, in \u001b[36mPregel.stream\u001b[39m\u001b[34m(self, input, config, stream_mode, output_keys, interrupt_before, interrupt_after, debug, subgraphs)\u001b[39m\n\u001b[32m   2334\u001b[39m     \u001b[38;5;66;03m# Similarly to Bulk Synchronous Parallel / Pregel model\u001b[39;00m\n\u001b[32m   2335\u001b[39m     \u001b[38;5;66;03m# computation proceeds in steps, while there are channel updates.\u001b[39;00m\n\u001b[32m   2336\u001b[39m     \u001b[38;5;66;03m# Channel updates from step N are only visible in step N+1\u001b[39;00m\n\u001b[32m   2337\u001b[39m     \u001b[38;5;66;03m# channels are guaranteed to be immutable for the duration of the step,\u001b[39;00m\n\u001b[32m   2338\u001b[39m     \u001b[38;5;66;03m# with channel updates applied only at the transition between steps.\u001b[39;00m\n\u001b[32m   2339\u001b[39m     \u001b[38;5;28;01mwhile\u001b[39;00m loop.tick(input_keys=\u001b[38;5;28mself\u001b[39m.input_channels):\n\u001b[32m-> \u001b[39m\u001b[32m2340\u001b[39m \u001b[43m        \u001b[49m\u001b[38;5;28;43;01mfor\u001b[39;49;00m\u001b[43m \u001b[49m\u001b[43m_\u001b[49m\u001b[43m \u001b[49m\u001b[38;5;129;43;01min\u001b[39;49;00m\u001b[43m \u001b[49m\u001b[43mrunner\u001b[49m\u001b[43m.\u001b[49m\u001b[43mtick\u001b[49m\u001b[43m(\u001b[49m\n\u001b[32m   2341\u001b[39m \u001b[43m            \u001b[49m\u001b[43mloop\u001b[49m\u001b[43m.\u001b[49m\u001b[43mtasks\u001b[49m\u001b[43m.\u001b[49m\u001b[43mvalues\u001b[49m\u001b[43m(\u001b[49m\u001b[43m)\u001b[49m\u001b[43m,\u001b[49m\n\u001b[32m   2342\u001b[39m \u001b[43m            \u001b[49m\u001b[43mtimeout\u001b[49m\u001b[43m=\u001b[49m\u001b[38;5;28;43mself\u001b[39;49m\u001b[43m.\u001b[49m\u001b[43mstep_timeout\u001b[49m\u001b[43m,\u001b[49m\n\u001b[32m   2343\u001b[39m \u001b[43m            \u001b[49m\u001b[43mretry_policy\u001b[49m\u001b[43m=\u001b[49m\u001b[38;5;28;43mself\u001b[39;49m\u001b[43m.\u001b[49m\u001b[43mretry_policy\u001b[49m\u001b[43m,\u001b[49m\n\u001b[32m   2344\u001b[39m \u001b[43m            \u001b[49m\u001b[43mget_waiter\u001b[49m\u001b[43m=\u001b[49m\u001b[43mget_waiter\u001b[49m\u001b[43m,\u001b[49m\n\u001b[32m   2345\u001b[39m \u001b[43m        \u001b[49m\u001b[43m)\u001b[49m\u001b[43m:\u001b[49m\n\u001b[32m   2346\u001b[39m \u001b[43m            \u001b[49m\u001b[38;5;66;43;03m# emit output\u001b[39;49;00m\n\u001b[32m   2347\u001b[39m \u001b[43m            \u001b[49m\u001b[38;5;28;43;01myield from\u001b[39;49;00m\u001b[43m \u001b[49m\u001b[43moutput\u001b[49m\u001b[43m(\u001b[49m\u001b[43m)\u001b[49m\n\u001b[32m   2348\u001b[39m \u001b[38;5;66;03m# emit output\u001b[39;00m\n",
      "\u001b[36mCell\u001b[39m\u001b[36m \u001b[39m\u001b[32mIn[60]\u001b[39m\u001b[32m, line 6\u001b[39m, in \u001b[36manalyze_query\u001b[39m\u001b[34m(state)\u001b[39m\n\u001b[32m      4\u001b[39m \u001b[38;5;28mprint\u001b[39m(\u001b[33m\"\u001b[39m\u001b[33mRaw LLM output:\u001b[39m\u001b[33m\"\u001b[39m,query)\n\u001b[32m      5\u001b[39m \u001b[38;5;28;01mif\u001b[39;00m query \u001b[38;5;129;01mis\u001b[39;00m \u001b[38;5;28;01mNone\u001b[39;00m:\n\u001b[32m----> \u001b[39m\u001b[32m6\u001b[39m     \u001b[38;5;28;01mraise\u001b[39;00m \u001b[38;5;167;01mValueError\u001b[39;00m(\n\u001b[32m      7\u001b[39m         \u001b[33m\"\u001b[39m\u001b[33mLLM failed to return structured output. Try checking prompt or schema.\u001b[39m\u001b[33m\"\u001b[39m\n\u001b[32m      8\u001b[39m     )\n\u001b[32m     10\u001b[39m \u001b[38;5;28;01mreturn\u001b[39;00m {\u001b[33m\"\u001b[39m\u001b[33mquery\u001b[39m\u001b[33m\"\u001b[39m: query.dict()}\n",
      "\u001b[31mValueError\u001b[39m: LLM failed to return structured output. Try checking prompt or schema.",
      "During task with name 'analyze_query' and id '6ae14d62-8ade-9e11-9b12-38597601ffa6'"
     ]
    }
   ],
   "source": [
    "for step in graph.stream(\n",
    "    {\"question\": \"What does the end of the post say about Task Decomposition?\"},\n",
    "    stream_mode=\"updates\",\n",
    "):\n",
    "    print(f\"{step}\\n\\n----------------\\n\")"
   ]
  },
  {
   "cell_type": "code",
   "execution_count": 40,
   "id": "a7e0299b",
   "metadata": {},
   "outputs": [
    {
     "ename": "ValueError",
     "evalue": "Schema must be a Pydantic object, a dictionary representing a JSON schema, or an Enum.",
     "output_type": "error",
     "traceback": [
      "\u001b[31m---------------------------------------------------------------------------\u001b[39m",
      "\u001b[31mValueError\u001b[39m                                Traceback (most recent call last)",
      "\u001b[36mCell\u001b[39m\u001b[36m \u001b[39m\u001b[32mIn[40]\u001b[39m\u001b[32m, line 1\u001b[39m\n\u001b[32m----> \u001b[39m\u001b[32m1\u001b[39m \u001b[38;5;28;43;01mfor\u001b[39;49;00m\u001b[43m \u001b[49m\u001b[43mmessage\u001b[49m\u001b[43m,\u001b[49m\u001b[43m \u001b[49m\u001b[43mmetadata\u001b[49m\u001b[43m \u001b[49m\u001b[38;5;129;43;01min\u001b[39;49;00m\u001b[43m \u001b[49m\u001b[43mgraph\u001b[49m\u001b[43m.\u001b[49m\u001b[43mstream\u001b[49m\u001b[43m(\u001b[49m\n\u001b[32m      2\u001b[39m \u001b[43m    \u001b[49m\u001b[43m{\u001b[49m\u001b[33;43m\"\u001b[39;49m\u001b[33;43mquestion\u001b[39;49m\u001b[33;43m\"\u001b[39;49m\u001b[43m:\u001b[49m\u001b[43m \u001b[49m\u001b[33;43m\"\u001b[39;49m\u001b[33;43mWhat is Task Decomposition?\u001b[39;49m\u001b[33;43m\"\u001b[39;49m\u001b[43m}\u001b[49m\u001b[43m,\u001b[49m\u001b[43m \u001b[49m\u001b[43mstream_mode\u001b[49m\u001b[43m=\u001b[49m\u001b[33;43m\"\u001b[39;49m\u001b[33;43mmessages\u001b[39;49m\u001b[33;43m\"\u001b[39;49m\n\u001b[32m      3\u001b[39m \u001b[43m)\u001b[49m\u001b[43m:\u001b[49m\n\u001b[32m      4\u001b[39m \u001b[43m    \u001b[49m\u001b[38;5;28;43mprint\u001b[39;49m\u001b[43m(\u001b[49m\u001b[43mmessage\u001b[49m\u001b[43m.\u001b[49m\u001b[43mcontent\u001b[49m\u001b[43m,\u001b[49m\u001b[43m \u001b[49m\u001b[43mend\u001b[49m\u001b[43m=\u001b[49m\u001b[33;43m\"\u001b[39;49m\u001b[33;43m|\u001b[39;49m\u001b[33;43m\"\u001b[39;49m\u001b[43m)\u001b[49m\n",
      "\u001b[36mFile \u001b[39m\u001b[32m~/miniforge3/envs/gen_ai_env/lib/python3.12/site-packages/langgraph/pregel/__init__.py:2340\u001b[39m, in \u001b[36mPregel.stream\u001b[39m\u001b[34m(self, input, config, stream_mode, output_keys, interrupt_before, interrupt_after, debug, subgraphs)\u001b[39m\n\u001b[32m   2334\u001b[39m     \u001b[38;5;66;03m# Similarly to Bulk Synchronous Parallel / Pregel model\u001b[39;00m\n\u001b[32m   2335\u001b[39m     \u001b[38;5;66;03m# computation proceeds in steps, while there are channel updates.\u001b[39;00m\n\u001b[32m   2336\u001b[39m     \u001b[38;5;66;03m# Channel updates from step N are only visible in step N+1\u001b[39;00m\n\u001b[32m   2337\u001b[39m     \u001b[38;5;66;03m# channels are guaranteed to be immutable for the duration of the step,\u001b[39;00m\n\u001b[32m   2338\u001b[39m     \u001b[38;5;66;03m# with channel updates applied only at the transition between steps.\u001b[39;00m\n\u001b[32m   2339\u001b[39m     \u001b[38;5;28;01mwhile\u001b[39;00m loop.tick(input_keys=\u001b[38;5;28mself\u001b[39m.input_channels):\n\u001b[32m-> \u001b[39m\u001b[32m2340\u001b[39m \u001b[43m        \u001b[49m\u001b[38;5;28;43;01mfor\u001b[39;49;00m\u001b[43m \u001b[49m\u001b[43m_\u001b[49m\u001b[43m \u001b[49m\u001b[38;5;129;43;01min\u001b[39;49;00m\u001b[43m \u001b[49m\u001b[43mrunner\u001b[49m\u001b[43m.\u001b[49m\u001b[43mtick\u001b[49m\u001b[43m(\u001b[49m\n\u001b[32m   2341\u001b[39m \u001b[43m            \u001b[49m\u001b[43mloop\u001b[49m\u001b[43m.\u001b[49m\u001b[43mtasks\u001b[49m\u001b[43m.\u001b[49m\u001b[43mvalues\u001b[49m\u001b[43m(\u001b[49m\u001b[43m)\u001b[49m\u001b[43m,\u001b[49m\n\u001b[32m   2342\u001b[39m \u001b[43m            \u001b[49m\u001b[43mtimeout\u001b[49m\u001b[43m=\u001b[49m\u001b[38;5;28;43mself\u001b[39;49m\u001b[43m.\u001b[49m\u001b[43mstep_timeout\u001b[49m\u001b[43m,\u001b[49m\n\u001b[32m   2343\u001b[39m \u001b[43m            \u001b[49m\u001b[43mretry_policy\u001b[49m\u001b[43m=\u001b[49m\u001b[38;5;28;43mself\u001b[39;49m\u001b[43m.\u001b[49m\u001b[43mretry_policy\u001b[49m\u001b[43m,\u001b[49m\n\u001b[32m   2344\u001b[39m \u001b[43m            \u001b[49m\u001b[43mget_waiter\u001b[49m\u001b[43m=\u001b[49m\u001b[43mget_waiter\u001b[49m\u001b[43m,\u001b[49m\n\u001b[32m   2345\u001b[39m \u001b[43m        \u001b[49m\u001b[43m)\u001b[49m\u001b[43m:\u001b[49m\n\u001b[32m   2346\u001b[39m \u001b[43m            \u001b[49m\u001b[38;5;66;43;03m# emit output\u001b[39;49;00m\n\u001b[32m   2347\u001b[39m \u001b[43m            \u001b[49m\u001b[38;5;28;43;01myield from\u001b[39;49;00m\u001b[43m \u001b[49m\u001b[43moutput\u001b[49m\u001b[43m(\u001b[49m\u001b[43m)\u001b[49m\n\u001b[32m   2348\u001b[39m \u001b[38;5;66;03m# emit output\u001b[39;00m\n",
      "\u001b[36mCell\u001b[39m\u001b[36m \u001b[39m\u001b[32mIn[37]\u001b[39m\u001b[32m, line 2\u001b[39m, in \u001b[36manalyze_query\u001b[39m\u001b[34m(state)\u001b[39m\n\u001b[32m      1\u001b[39m \u001b[38;5;28;01mdef\u001b[39;00m\u001b[38;5;250m \u001b[39m\u001b[34manalyze_query\u001b[39m(state : State):\n\u001b[32m----> \u001b[39m\u001b[32m2\u001b[39m     structured_llm = \u001b[43mllm\u001b[49m\u001b[43m.\u001b[49m\u001b[43mwith_structured_output\u001b[49m\u001b[43m(\u001b[49m\u001b[43mSearch\u001b[49m\u001b[43m)\u001b[49m\n\u001b[32m      3\u001b[39m     query = structured_llm.invoke(state[\u001b[33m\"\u001b[39m\u001b[33mquestion\u001b[39m\u001b[33m\"\u001b[39m])\n\u001b[32m      4\u001b[39m     \u001b[38;5;28;01mreturn\u001b[39;00m {\u001b[33m\"\u001b[39m\u001b[33mquery\u001b[39m\u001b[33m\"\u001b[39m:query}\n",
      "\u001b[36mFile \u001b[39m\u001b[32m~/miniforge3/envs/gen_ai_env/lib/python3.12/site-packages/langchain_nvidia_ai_endpoints/chat_models.py:874\u001b[39m, in \u001b[36mChatNVIDIA.with_structured_output\u001b[39m\u001b[34m(self, schema, include_raw, **kwargs)\u001b[39m\n\u001b[32m    871\u001b[39m     nvext_param = {\u001b[33m\"\u001b[39m\u001b[33mguided_json\u001b[39m\u001b[33m\"\u001b[39m: json_schema}\n\u001b[32m    873\u001b[39m \u001b[38;5;28;01melse\u001b[39;00m:\n\u001b[32m--> \u001b[39m\u001b[32m874\u001b[39m     \u001b[38;5;28;01mraise\u001b[39;00m \u001b[38;5;167;01mValueError\u001b[39;00m(\n\u001b[32m    875\u001b[39m         \u001b[33m\"\u001b[39m\u001b[33mSchema must be a Pydantic object, a dictionary \u001b[39m\u001b[33m\"\u001b[39m\n\u001b[32m    876\u001b[39m         \u001b[33m\"\u001b[39m\u001b[33mrepresenting a JSON schema, or an Enum.\u001b[39m\u001b[33m\"\u001b[39m\n\u001b[32m    877\u001b[39m     )\n\u001b[32m    879\u001b[39m \u001b[38;5;28;01mreturn\u001b[39;00m \u001b[38;5;28msuper\u001b[39m().bind(nvext=nvext_param) | output_parser\n",
      "\u001b[31mValueError\u001b[39m: Schema must be a Pydantic object, a dictionary representing a JSON schema, or an Enum.",
      "During task with name 'analyze_query' and id 'fa22b3b8-c675-c624-f9ca-d5e6ae1f1b39'"
     ]
    }
   ],
   "source": [
    "for message, metadata in graph.stream(\n",
    "    {\"question\": \"What is Task Decomposition?\"}, stream_mode=\"messages\"\n",
    "):\n",
    "    print(message.content, end=\"|\")"
   ]
  },
  {
   "cell_type": "code",
   "execution_count": 71,
   "id": "d283e2b2",
   "metadata": {},
   "outputs": [
    {
     "ename": "ValueError",
     "evalue": "Schema must be a Pydantic object, a dictionary representing a JSON schema, or an Enum.",
     "output_type": "error",
     "traceback": [
      "\u001b[31m---------------------------------------------------------------------------\u001b[39m",
      "\u001b[31mValueError\u001b[39m                                Traceback (most recent call last)",
      "\u001b[36mCell\u001b[39m\u001b[36m \u001b[39m\u001b[32mIn[71]\u001b[39m\u001b[32m, line 67\u001b[39m\n\u001b[32m     65\u001b[39m graph = graph_builder.compile()\n\u001b[32m     66\u001b[39m \u001b[38;5;66;03m# display(Image(graph.get_graph().draw_mermaid_png()))\u001b[39;00m\n\u001b[32m---> \u001b[39m\u001b[32m67\u001b[39m \u001b[38;5;28;43;01mfor\u001b[39;49;00m\u001b[43m \u001b[49m\u001b[43mstep\u001b[49m\u001b[43m \u001b[49m\u001b[38;5;129;43;01min\u001b[39;49;00m\u001b[43m \u001b[49m\u001b[43mgraph\u001b[49m\u001b[43m.\u001b[49m\u001b[43mstream\u001b[49m\u001b[43m(\u001b[49m\n\u001b[32m     68\u001b[39m \u001b[43m    \u001b[49m\u001b[43m{\u001b[49m\u001b[33;43m\"\u001b[39;49m\u001b[33;43mquestion\u001b[39;49m\u001b[33;43m\"\u001b[39;49m\u001b[43m:\u001b[49m\u001b[43m \u001b[49m\u001b[33;43m\"\u001b[39;49m\u001b[33;43mWhat does the end of the post say about Task Decomposition?\u001b[39;49m\u001b[33;43m\"\u001b[39;49m\u001b[43m}\u001b[49m\u001b[43m,\u001b[49m\n\u001b[32m     69\u001b[39m \u001b[43m    \u001b[49m\u001b[43mstream_mode\u001b[49m\u001b[43m=\u001b[49m\u001b[33;43m\"\u001b[39;49m\u001b[33;43mupdates\u001b[39;49m\u001b[33;43m\"\u001b[39;49m\u001b[43m,\u001b[49m\n\u001b[32m     70\u001b[39m \u001b[43m)\u001b[49m\u001b[43m:\u001b[49m\n\u001b[32m     71\u001b[39m \u001b[43m    \u001b[49m\u001b[38;5;28;43mprint\u001b[39;49m\u001b[43m(\u001b[49m\u001b[33;43mf\u001b[39;49m\u001b[33;43m\"\u001b[39;49m\u001b[38;5;132;43;01m{\u001b[39;49;00m\u001b[43mstep\u001b[49m\u001b[38;5;132;43;01m}\u001b[39;49;00m\u001b[38;5;130;43;01m\\n\u001b[39;49;00m\u001b[38;5;130;43;01m\\n\u001b[39;49;00m\u001b[33;43m----------------\u001b[39;49m\u001b[38;5;130;43;01m\\n\u001b[39;49;00m\u001b[33;43m\"\u001b[39;49m\u001b[43m)\u001b[49m\n",
      "\u001b[36mFile \u001b[39m\u001b[32m~/miniforge3/envs/gen_ai_env/lib/python3.12/site-packages/langgraph/pregel/__init__.py:2340\u001b[39m, in \u001b[36mPregel.stream\u001b[39m\u001b[34m(self, input, config, stream_mode, output_keys, interrupt_before, interrupt_after, debug, subgraphs)\u001b[39m\n\u001b[32m   2334\u001b[39m     \u001b[38;5;66;03m# Similarly to Bulk Synchronous Parallel / Pregel model\u001b[39;00m\n\u001b[32m   2335\u001b[39m     \u001b[38;5;66;03m# computation proceeds in steps, while there are channel updates.\u001b[39;00m\n\u001b[32m   2336\u001b[39m     \u001b[38;5;66;03m# Channel updates from step N are only visible in step N+1\u001b[39;00m\n\u001b[32m   2337\u001b[39m     \u001b[38;5;66;03m# channels are guaranteed to be immutable for the duration of the step,\u001b[39;00m\n\u001b[32m   2338\u001b[39m     \u001b[38;5;66;03m# with channel updates applied only at the transition between steps.\u001b[39;00m\n\u001b[32m   2339\u001b[39m     \u001b[38;5;28;01mwhile\u001b[39;00m loop.tick(input_keys=\u001b[38;5;28mself\u001b[39m.input_channels):\n\u001b[32m-> \u001b[39m\u001b[32m2340\u001b[39m \u001b[43m        \u001b[49m\u001b[38;5;28;43;01mfor\u001b[39;49;00m\u001b[43m \u001b[49m\u001b[43m_\u001b[49m\u001b[43m \u001b[49m\u001b[38;5;129;43;01min\u001b[39;49;00m\u001b[43m \u001b[49m\u001b[43mrunner\u001b[49m\u001b[43m.\u001b[49m\u001b[43mtick\u001b[49m\u001b[43m(\u001b[49m\n\u001b[32m   2341\u001b[39m \u001b[43m            \u001b[49m\u001b[43mloop\u001b[49m\u001b[43m.\u001b[49m\u001b[43mtasks\u001b[49m\u001b[43m.\u001b[49m\u001b[43mvalues\u001b[49m\u001b[43m(\u001b[49m\u001b[43m)\u001b[49m\u001b[43m,\u001b[49m\n\u001b[32m   2342\u001b[39m \u001b[43m            \u001b[49m\u001b[43mtimeout\u001b[49m\u001b[43m=\u001b[49m\u001b[38;5;28;43mself\u001b[39;49m\u001b[43m.\u001b[49m\u001b[43mstep_timeout\u001b[49m\u001b[43m,\u001b[49m\n\u001b[32m   2343\u001b[39m \u001b[43m            \u001b[49m\u001b[43mretry_policy\u001b[49m\u001b[43m=\u001b[49m\u001b[38;5;28;43mself\u001b[39;49m\u001b[43m.\u001b[49m\u001b[43mretry_policy\u001b[49m\u001b[43m,\u001b[49m\n\u001b[32m   2344\u001b[39m \u001b[43m            \u001b[49m\u001b[43mget_waiter\u001b[49m\u001b[43m=\u001b[49m\u001b[43mget_waiter\u001b[49m\u001b[43m,\u001b[49m\n\u001b[32m   2345\u001b[39m \u001b[43m        \u001b[49m\u001b[43m)\u001b[49m\u001b[43m:\u001b[49m\n\u001b[32m   2346\u001b[39m \u001b[43m            \u001b[49m\u001b[38;5;66;43;03m# emit output\u001b[39;49;00m\n\u001b[32m   2347\u001b[39m \u001b[43m            \u001b[49m\u001b[38;5;28;43;01myield from\u001b[39;49;00m\u001b[43m \u001b[49m\u001b[43moutput\u001b[49m\u001b[43m(\u001b[49m\u001b[43m)\u001b[49m\n\u001b[32m   2348\u001b[39m \u001b[38;5;66;03m# emit output\u001b[39;00m\n",
      "\u001b[36mCell\u001b[39m\u001b[36m \u001b[39m\u001b[32mIn[71]\u001b[39m\u001b[32m, line 41\u001b[39m, in \u001b[36manalyze_query\u001b[39m\u001b[34m(state)\u001b[39m\n\u001b[32m     40\u001b[39m \u001b[38;5;28;01mdef\u001b[39;00m\u001b[38;5;250m \u001b[39m\u001b[34manalyze_query\u001b[39m(state: State):\n\u001b[32m---> \u001b[39m\u001b[32m41\u001b[39m     structured_llm = \u001b[43mllm\u001b[49m\u001b[43m.\u001b[49m\u001b[43mwith_structured_output\u001b[49m\u001b[43m(\u001b[49m\u001b[43mSearch\u001b[49m\u001b[43m)\u001b[49m\n\u001b[32m     42\u001b[39m     query = structured_llm.invoke(state[\u001b[33m\"\u001b[39m\u001b[33mquestion\u001b[39m\u001b[33m\"\u001b[39m])\n\u001b[32m     43\u001b[39m     \u001b[38;5;28mprint\u001b[39m(\u001b[33m\"\u001b[39m\u001b[33mStructured query:\u001b[39m\u001b[33m\"\u001b[39m,query)\n",
      "\u001b[36mFile \u001b[39m\u001b[32m~/miniforge3/envs/gen_ai_env/lib/python3.12/site-packages/langchain_nvidia_ai_endpoints/chat_models.py:874\u001b[39m, in \u001b[36mChatNVIDIA.with_structured_output\u001b[39m\u001b[34m(self, schema, include_raw, **kwargs)\u001b[39m\n\u001b[32m    871\u001b[39m     nvext_param = {\u001b[33m\"\u001b[39m\u001b[33mguided_json\u001b[39m\u001b[33m\"\u001b[39m: json_schema}\n\u001b[32m    873\u001b[39m \u001b[38;5;28;01melse\u001b[39;00m:\n\u001b[32m--> \u001b[39m\u001b[32m874\u001b[39m     \u001b[38;5;28;01mraise\u001b[39;00m \u001b[38;5;167;01mValueError\u001b[39;00m(\n\u001b[32m    875\u001b[39m         \u001b[33m\"\u001b[39m\u001b[33mSchema must be a Pydantic object, a dictionary \u001b[39m\u001b[33m\"\u001b[39m\n\u001b[32m    876\u001b[39m         \u001b[33m\"\u001b[39m\u001b[33mrepresenting a JSON schema, or an Enum.\u001b[39m\u001b[33m\"\u001b[39m\n\u001b[32m    877\u001b[39m     )\n\u001b[32m    879\u001b[39m \u001b[38;5;28;01mreturn\u001b[39;00m \u001b[38;5;28msuper\u001b[39m().bind(nvext=nvext_param) | output_parser\n",
      "\u001b[31mValueError\u001b[39m: Schema must be a Pydantic object, a dictionary representing a JSON schema, or an Enum.",
      "During task with name 'analyze_query' and id '01d5bf97-d47f-f4d6-0d0c-e76981e50703'"
     ]
    }
   ],
   "source": [
    "total_documents = len(all_splits)\n",
    "third = total_documents // 3\n",
    "\n",
    "for i, document in enumerate(all_splits):\n",
    "    if i < third:\n",
    "        document.metadata[\"section\"] = \"beginning\"\n",
    "    elif i < 2 * third:\n",
    "        document.metadata[\"section\"] = \"middle\"\n",
    "    else:\n",
    "        document.metadata[\"section\"] = \"end\"\n",
    "\n",
    "from langchain_core.vectorstores import InMemoryVectorStore\n",
    "\n",
    "vector_store = InMemoryVectorStore(embeddings)\n",
    "_ = vector_store.add_documents(all_splits)\n",
    "\n",
    "from typing import Literal\n",
    "\n",
    "from typing_extensions import Annotated\n",
    "\n",
    "\n",
    "class Search(TypedDict):\n",
    "    \"\"\"Search query.\"\"\"\n",
    "\n",
    "    query: Annotated[str, ..., \"Search query to run.\"]\n",
    "    section: Annotated[\n",
    "        Literal[\"beginning\", \"middle\", \"end\"],\n",
    "        ...,\n",
    "        \"Section to query.\",\n",
    "    ]\n",
    "\n",
    "\n",
    "class State(TypedDict):\n",
    "    question: str\n",
    "    query: Search\n",
    "    context: List[Document]\n",
    "    answer: str\n",
    "\n",
    "\n",
    "def analyze_query(state: State):\n",
    "    structured_llm = llm.with_structured_output(Search)\n",
    "    query = structured_llm.invoke(state[\"question\"])\n",
    "    print(\"Structured query:\",query)\n",
    "    return {\"query\": query}\n",
    "\n",
    "\n",
    "def retrieve(state: State):\n",
    "    query = state[\"query\"]\n",
    "    retrieved_docs = vector_store.similarity_search(\n",
    "        query[\"query\"],\n",
    "        filter=lambda doc: doc.metadata.get(\"section\") == query[\"section\"],\n",
    "    )\n",
    "    return {\"context\": retrieved_docs}\n",
    "\n",
    "\n",
    "def generate(state: State):\n",
    "    docs_content = \"\\n\\n\".join(doc.page_content for doc in state[\"context\"])\n",
    "    messages = prompt.invoke({\"question\": state[\"question\"], \"context\": docs_content})\n",
    "    response = llm.invoke(messages)\n",
    "    return {\"answer\": response.content}\n",
    "\n",
    "\n",
    "graph_builder = StateGraph(State).add_sequence([analyze_query, retrieve, generate])\n",
    "graph_builder.add_edge(START, \"analyze_query\")\n",
    "graph = graph_builder.compile()\n",
    "# display(Image(graph.get_graph().draw_mermaid_png()))\n",
    "for step in graph.stream(\n",
    "    {\"question\": \"What does the end of the post say about Task Decomposition?\"},\n",
    "    stream_mode=\"updates\",\n",
    "):\n",
    "    print(f\"{step}\\n\\n----------------\\n\")"
   ]
  },
  {
   "cell_type": "code",
   "execution_count": 87,
   "id": "c1b643e8",
   "metadata": {},
   "outputs": [],
   "source": [
    "from typing import List, TypedDict, Literal\n",
    "from langchain_core.documents import Document\n",
    "from langchain_core.vectorstores import InMemoryVectorStore\n",
    "from langchain_core.prompts import ChatPromptTemplate\n",
    "from pydantic import BaseModel, Field\n",
    "from langchain import hub\n",
    "from PIL import Image  # only needed if you want to visualize the graph\n",
    "from langgraph.graph import StateGraph, START\n",
    "from langchain_core.runnables import Runnable"
   ]
  },
  {
   "cell_type": "code",
   "execution_count": null,
   "id": "9083f273",
   "metadata": {},
   "outputs": [
    {
     "ename": "ValueError",
     "evalue": "Schema must be a Pydantic object, a dictionary representing a JSON schema, or an Enum.",
     "output_type": "error",
     "traceback": [
      "\u001b[31m---------------------------------------------------------------------------\u001b[39m",
      "\u001b[31mValueError\u001b[39m                                Traceback (most recent call last)",
      "\u001b[36mCell\u001b[39m\u001b[36m \u001b[39m\u001b[32mIn[94]\u001b[39m\u001b[32m, line 112\u001b[39m\n\u001b[32m    109\u001b[39m graph = graph_builder.compile()\n\u001b[32m    111\u001b[39m \u001b[38;5;66;03m# Run the graph\u001b[39;00m\n\u001b[32m--> \u001b[39m\u001b[32m112\u001b[39m \u001b[38;5;28;43;01mfor\u001b[39;49;00m\u001b[43m \u001b[49m\u001b[43mstep\u001b[49m\u001b[43m \u001b[49m\u001b[38;5;129;43;01min\u001b[39;49;00m\u001b[43m \u001b[49m\u001b[43mgraph\u001b[49m\u001b[43m.\u001b[49m\u001b[43mstream\u001b[49m\u001b[43m(\u001b[49m\n\u001b[32m    113\u001b[39m \u001b[43m    \u001b[49m\u001b[43m{\u001b[49m\u001b[33;43m\"\u001b[39;49m\u001b[33;43mquestion\u001b[39;49m\u001b[33;43m\"\u001b[39;49m\u001b[43m:\u001b[49m\u001b[43m \u001b[49m\u001b[33;43m\"\u001b[39;49m\u001b[33;43mWhat does the post say about Task Decomposition in the end in 15-20 words?\u001b[39;49m\u001b[33;43m\"\u001b[39;49m\u001b[43m}\u001b[49m\u001b[43m,\u001b[49m\n\u001b[32m    114\u001b[39m \u001b[43m    \u001b[49m\u001b[43mstream_mode\u001b[49m\u001b[43m=\u001b[49m\u001b[33;43m\"\u001b[39;49m\u001b[33;43mupdates\u001b[39;49m\u001b[33;43m\"\u001b[39;49m\u001b[43m,\u001b[49m\n\u001b[32m    115\u001b[39m \u001b[43m)\u001b[49m\u001b[43m:\u001b[49m\n\u001b[32m    116\u001b[39m \u001b[43m    \u001b[49m\u001b[38;5;28;43mprint\u001b[39;49m\u001b[43m(\u001b[49m\u001b[33;43mf\u001b[39;49m\u001b[33;43m\"\u001b[39;49m\u001b[38;5;132;43;01m{\u001b[39;49;00m\u001b[43mstep\u001b[49m\u001b[38;5;132;43;01m}\u001b[39;49;00m\u001b[38;5;130;43;01m\\n\u001b[39;49;00m\u001b[38;5;130;43;01m\\n\u001b[39;49;00m\u001b[33;43m----------------\u001b[39;49m\u001b[38;5;130;43;01m\\n\u001b[39;49;00m\u001b[33;43m\"\u001b[39;49m\u001b[43m)\u001b[49m\n",
      "\u001b[36mFile \u001b[39m\u001b[32m~/miniforge3/envs/gen_ai_env/lib/python3.12/site-packages/langgraph/pregel/__init__.py:2340\u001b[39m, in \u001b[36mPregel.stream\u001b[39m\u001b[34m(self, input, config, stream_mode, output_keys, interrupt_before, interrupt_after, debug, subgraphs)\u001b[39m\n\u001b[32m   2334\u001b[39m     \u001b[38;5;66;03m# Similarly to Bulk Synchronous Parallel / Pregel model\u001b[39;00m\n\u001b[32m   2335\u001b[39m     \u001b[38;5;66;03m# computation proceeds in steps, while there are channel updates.\u001b[39;00m\n\u001b[32m   2336\u001b[39m     \u001b[38;5;66;03m# Channel updates from step N are only visible in step N+1\u001b[39;00m\n\u001b[32m   2337\u001b[39m     \u001b[38;5;66;03m# channels are guaranteed to be immutable for the duration of the step,\u001b[39;00m\n\u001b[32m   2338\u001b[39m     \u001b[38;5;66;03m# with channel updates applied only at the transition between steps.\u001b[39;00m\n\u001b[32m   2339\u001b[39m     \u001b[38;5;28;01mwhile\u001b[39;00m loop.tick(input_keys=\u001b[38;5;28mself\u001b[39m.input_channels):\n\u001b[32m-> \u001b[39m\u001b[32m2340\u001b[39m \u001b[43m        \u001b[49m\u001b[38;5;28;43;01mfor\u001b[39;49;00m\u001b[43m \u001b[49m\u001b[43m_\u001b[49m\u001b[43m \u001b[49m\u001b[38;5;129;43;01min\u001b[39;49;00m\u001b[43m \u001b[49m\u001b[43mrunner\u001b[49m\u001b[43m.\u001b[49m\u001b[43mtick\u001b[49m\u001b[43m(\u001b[49m\n\u001b[32m   2341\u001b[39m \u001b[43m            \u001b[49m\u001b[43mloop\u001b[49m\u001b[43m.\u001b[49m\u001b[43mtasks\u001b[49m\u001b[43m.\u001b[49m\u001b[43mvalues\u001b[49m\u001b[43m(\u001b[49m\u001b[43m)\u001b[49m\u001b[43m,\u001b[49m\n\u001b[32m   2342\u001b[39m \u001b[43m            \u001b[49m\u001b[43mtimeout\u001b[49m\u001b[43m=\u001b[49m\u001b[38;5;28;43mself\u001b[39;49m\u001b[43m.\u001b[49m\u001b[43mstep_timeout\u001b[49m\u001b[43m,\u001b[49m\n\u001b[32m   2343\u001b[39m \u001b[43m            \u001b[49m\u001b[43mretry_policy\u001b[49m\u001b[43m=\u001b[49m\u001b[38;5;28;43mself\u001b[39;49m\u001b[43m.\u001b[49m\u001b[43mretry_policy\u001b[49m\u001b[43m,\u001b[49m\n\u001b[32m   2344\u001b[39m \u001b[43m            \u001b[49m\u001b[43mget_waiter\u001b[49m\u001b[43m=\u001b[49m\u001b[43mget_waiter\u001b[49m\u001b[43m,\u001b[49m\n\u001b[32m   2345\u001b[39m \u001b[43m        \u001b[49m\u001b[43m)\u001b[49m\u001b[43m:\u001b[49m\n\u001b[32m   2346\u001b[39m \u001b[43m            \u001b[49m\u001b[38;5;66;43;03m# emit output\u001b[39;49;00m\n\u001b[32m   2347\u001b[39m \u001b[43m            \u001b[49m\u001b[38;5;28;43;01myield from\u001b[39;49;00m\u001b[43m \u001b[49m\u001b[43moutput\u001b[49m\u001b[43m(\u001b[49m\u001b[43m)\u001b[49m\n\u001b[32m   2348\u001b[39m \u001b[38;5;66;03m# emit output\u001b[39;00m\n",
      "\u001b[36mCell\u001b[39m\u001b[36m \u001b[39m\u001b[32mIn[94]\u001b[39m\u001b[32m, line 69\u001b[39m, in \u001b[36manalyze_query\u001b[39m\u001b[34m(state)\u001b[39m\n\u001b[32m     63\u001b[39m messages = [\n\u001b[32m     64\u001b[39m     SystemMessage(content=system_msg),\n\u001b[32m     65\u001b[39m     HumanMessage(content=state[\u001b[33m\"\u001b[39m\u001b[33mquestion\u001b[39m\u001b[33m\"\u001b[39m]),\n\u001b[32m     66\u001b[39m ]\n\u001b[32m     68\u001b[39m \u001b[38;5;66;03m# Now bind the LLM with only the schema (not a prompt)\u001b[39;00m\n\u001b[32m---> \u001b[39m\u001b[32m69\u001b[39m structured_llm = \u001b[43mllm\u001b[49m\u001b[43m.\u001b[49m\u001b[43mwith_structured_output\u001b[49m\u001b[43m(\u001b[49m\u001b[43mSearch\u001b[49m\u001b[43m)\u001b[49m\n\u001b[32m     71\u001b[39m \u001b[38;5;28;01mtry\u001b[39;00m:\n\u001b[32m     72\u001b[39m     \u001b[38;5;66;03m# Call the LLM with the messages\u001b[39;00m\n\u001b[32m     73\u001b[39m     query = structured_llm.invoke(messages)\n",
      "\u001b[36mFile \u001b[39m\u001b[32m~/miniforge3/envs/gen_ai_env/lib/python3.12/site-packages/langchain_nvidia_ai_endpoints/chat_models.py:874\u001b[39m, in \u001b[36mChatNVIDIA.with_structured_output\u001b[39m\u001b[34m(self, schema, include_raw, **kwargs)\u001b[39m\n\u001b[32m    871\u001b[39m     nvext_param = {\u001b[33m\"\u001b[39m\u001b[33mguided_json\u001b[39m\u001b[33m\"\u001b[39m: json_schema}\n\u001b[32m    873\u001b[39m \u001b[38;5;28;01melse\u001b[39;00m:\n\u001b[32m--> \u001b[39m\u001b[32m874\u001b[39m     \u001b[38;5;28;01mraise\u001b[39;00m \u001b[38;5;167;01mValueError\u001b[39;00m(\n\u001b[32m    875\u001b[39m         \u001b[33m\"\u001b[39m\u001b[33mSchema must be a Pydantic object, a dictionary \u001b[39m\u001b[33m\"\u001b[39m\n\u001b[32m    876\u001b[39m         \u001b[33m\"\u001b[39m\u001b[33mrepresenting a JSON schema, or an Enum.\u001b[39m\u001b[33m\"\u001b[39m\n\u001b[32m    877\u001b[39m     )\n\u001b[32m    879\u001b[39m \u001b[38;5;28;01mreturn\u001b[39;00m \u001b[38;5;28msuper\u001b[39m().bind(nvext=nvext_param) | output_parser\n",
      "\u001b[31mValueError\u001b[39m: Schema must be a Pydantic object, a dictionary representing a JSON schema, or an Enum.",
      "During task with name 'analyze_query' and id '1d17557e-7f0c-d4e1-fa9d-061c59f5cc02'"
     ]
    }
   ],
   "source": [
    "total_documents = len(all_splits)\n",
    "third = total_documents // 3\n",
    "\n",
    "for i, document in enumerate(all_splits):\n",
    "    if i < third:\n",
    "        document.metadata[\"section\"] = \"beginning\"\n",
    "    elif i < 2 * third:\n",
    "        document.metadata[\"section\"] = \"middle\"\n",
    "    else:\n",
    "        document.metadata[\"section\"] = \"end\"\n",
    "\n",
    "from langchain_core.vectorstores import InMemoryVectorStore\n",
    "\n",
    "vector_store = InMemoryVectorStore(embeddings)\n",
    "_ = vector_store.add_documents(all_splits)\n",
    "\n",
    "from pydantic import BaseModel, Field\n",
    "from typing import Literal, Optional\n",
    "\n",
    "\n",
    "class Search(BaseModel):\n",
    "    query: str = Field(..., description=\"Search query to run.\")\n",
    "    section: Literal[\"beginning\", \"middle\", \"end\"] = Field(\n",
    "        ..., description=\"Section to query.\"\n",
    "    )\n",
    "\n",
    "\n",
    "\n",
    "# Define prompt for question-answering\n",
    "prompt = hub.pull(\"rlm/rag-prompt\")\n",
    "\n",
    "class State(TypedDict):\n",
    "    question: str\n",
    "    query: Search\n",
    "    context: List[Document]\n",
    "    answer: str\n",
    "\n",
    "\n",
    "def analyze_query(state: State):\n",
    "    from langchain_core.prompts import ChatPromptTemplate\n",
    "    from langchain_core.messages import HumanMessage, SystemMessage\n",
    "\n",
    "    # Custom prompt for structured query extraction\n",
    "    system_msg = (\n",
    "        \"You are a helpful assistant that extracts structured data from questions. \"\n",
    "        \"Given a user's question, extract the search query and whether the answer should be \"\n",
    "        \"from the beginning, middle, or end of a document. \"\n",
    "        \"Respond strictly in this JSON format:\\n\"\n",
    "        '{ \"query\": \"<search terms>\", \"section\": \"beginning|middle|end\" }'\n",
    "    )\n",
    "\n",
    "    # Format messages manually instead of using .invoke()\n",
    "    messages = [\n",
    "        SystemMessage(content=system_msg),\n",
    "        HumanMessage(content=state[\"question\"]),\n",
    "    ]\n",
    "\n",
    "    # Now bind the LLM with only the schema (not a prompt)\n",
    "    structured_llm = llm.with_structured_output(Search)\n",
    "\n",
    "    try:\n",
    "        # Call the LLM with the messages\n",
    "        query = structured_llm.invoke(messages)\n",
    "\n",
    "        if query is None:\n",
    "            raise ValueError(\"Structured LLM returned None. Likely a parsing issue.\")\n",
    "\n",
    "        print(\"✅ Structured query:\", query)\n",
    "        return {\"query\": query}\n",
    "\n",
    "    except Exception as e:\n",
    "        print(\"⚠️ Structured output parsing failed.\")\n",
    "        raw_response = llm.invoke(messages)\n",
    "        print(\"🔍 Raw LLM output:\\n\", raw_response)\n",
    "        raise e\n",
    "\n",
    "\n",
    "# Define retrieve node\n",
    "def retrieve(state: State):\n",
    "    query = state[\"query\"]\n",
    "    retrieved_docs = vector_store.similarity_search(\n",
    "        query.query,\n",
    "        filter=lambda doc: doc.metadata.get(\"section\") == query.section,\n",
    "    )\n",
    "    return {\"context\": retrieved_docs}\n",
    "\n",
    "\n",
    "# Define generate node\n",
    "def generate(state: State):\n",
    "    docs_content = \"\\n\\n\".join(doc.page_content for doc in state[\"context\"])\n",
    "    messages = prompt.invoke({\"question\": state[\"question\"], \"context\": docs_content})\n",
    "    response = llm.invoke(messages)\n",
    "    return {\"answer\": response.content}\n",
    "\n",
    "\n",
    "# Build LangGraph\n",
    "graph_builder = StateGraph(State).add_sequence([analyze_query, retrieve, generate])\n",
    "graph_builder.add_edge(START, \"analyze_query\")\n",
    "graph = graph_builder.compile()\n",
    "\n",
    "# Run the graph\n",
    "for step in graph.stream(\n",
    "    {\"question\": \"What does the post say about Task Decomposition in the end in 15-20 words?\"},\n",
    "    stream_mode=\"updates\",\n",
    "):\n",
    "    print(f\"{step}\\n\\n----------------\\n\")"
   ]
  },
  {
   "cell_type": "code",
   "execution_count": 93,
   "id": "515a2533",
   "metadata": {},
   "outputs": [
    {
     "data": {
      "text/plain": [
       "ChatPromptTemplate(input_variables=['context', 'question'], input_types={}, partial_variables={}, metadata={'lc_hub_owner': 'rlm', 'lc_hub_repo': 'rag-prompt', 'lc_hub_commit_hash': '50442af133e61576e74536c6556cefe1fac147cad032f4377b60c436e6cdcb6e'}, messages=[HumanMessagePromptTemplate(prompt=PromptTemplate(input_variables=['context', 'question'], input_types={}, partial_variables={}, template=\"You are an assistant for question-answering tasks. Use the following pieces of retrieved context to answer the question. If you don't know the answer, just say that you don't know. Use three sentences maximum and keep the answer concise.\\nQuestion: {question} \\nContext: {context} \\nAnswer:\"), additional_kwargs={})])"
      ]
     },
     "execution_count": 93,
     "metadata": {},
     "output_type": "execute_result"
    }
   ],
   "source": [
    "prompt\n"
   ]
  }
 ],
 "metadata": {
  "kernelspec": {
   "display_name": "gen_ai_env",
   "language": "python",
   "name": "python3"
  },
  "language_info": {
   "codemirror_mode": {
    "name": "ipython",
    "version": 3
   },
   "file_extension": ".py",
   "mimetype": "text/x-python",
   "name": "python",
   "nbconvert_exporter": "python",
   "pygments_lexer": "ipython3",
   "version": "3.12.9"
  }
 },
 "nbformat": 4,
 "nbformat_minor": 5
}
